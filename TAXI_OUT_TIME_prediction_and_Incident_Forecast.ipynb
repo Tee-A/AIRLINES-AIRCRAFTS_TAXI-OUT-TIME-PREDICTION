{
  "nbformat": 4,
  "nbformat_minor": 0,
  "metadata": {
    "colab": {
      "name": "TAXI_OUT_TIME_prediction and Incident Forecast.ipynb",
      "provenance": [],
      "collapsed_sections": [],
      "toc_visible": true,
      "machine_shape": "hm"
    },
    "kernelspec": {
      "name": "python3",
      "display_name": "Python 3"
    },
    "accelerator": "TPU"
  },
  "cells": [
    {
      "cell_type": "code",
      "metadata": {
        "id": "dQSZUQgLksRU",
        "colab_type": "code",
        "outputId": "d82e57b8-76f3-42d5-e094-9b8be4172756",
        "colab": {
          "base_uri": "https://localhost:8080/",
          "height": 122
        }
      },
      "source": [
        "from google.colab import drive\n",
        "drive.mount('/content/drive')"
      ],
      "execution_count": 0,
      "outputs": [
        {
          "output_type": "stream",
          "text": [
            "Go to this URL in a browser: https://accounts.google.com/o/oauth2/auth?client_id=947318989803-6bn6qk8qdgf4n4g3pfee6491hc0brc4i.apps.googleusercontent.com&redirect_uri=urn%3aietf%3awg%3aoauth%3a2.0%3aoob&response_type=code&scope=email%20https%3a%2f%2fwww.googleapis.com%2fauth%2fdocs.test%20https%3a%2f%2fwww.googleapis.com%2fauth%2fdrive%20https%3a%2f%2fwww.googleapis.com%2fauth%2fdrive.photos.readonly%20https%3a%2f%2fwww.googleapis.com%2fauth%2fpeopleapi.readonly\n",
            "\n",
            "Enter your authorization code:\n",
            "··········\n",
            "Mounted at /content/drive\n"
          ],
          "name": "stdout"
        }
      ]
    },
    {
      "cell_type": "code",
      "metadata": {
        "id": "8z2inHsKkuTq",
        "colab_type": "code",
        "colab": {}
      },
      "source": [
        "import numpy as np\n",
        "import pandas as pd\n",
        "import matplotlib.pyplot as plt\n",
        "import seaborn as sns\n",
        "%matplotlib inline"
      ],
      "execution_count": 0,
      "outputs": []
    },
    {
      "cell_type": "code",
      "metadata": {
        "id": "yBvyVb5MlBuF",
        "colab_type": "code",
        "outputId": "de6d0540-87b2-4979-ad90-ff558d8e8f6e",
        "colab": {
          "base_uri": "https://localhost:8080/",
          "height": 319
        }
      },
      "source": [
        "seq1 = pd.read_csv('/content/drive/My Drive/Octave/SeqHub_Airline/Airline_combined_csv.csv')\n",
        "seq1.head()"
      ],
      "execution_count": 0,
      "outputs": [
        {
          "output_type": "execute_result",
          "data": {
            "text/html": [
              "<div>\n",
              "<style scoped>\n",
              "    .dataframe tbody tr th:only-of-type {\n",
              "        vertical-align: middle;\n",
              "    }\n",
              "\n",
              "    .dataframe tbody tr th {\n",
              "        vertical-align: top;\n",
              "    }\n",
              "\n",
              "    .dataframe thead th {\n",
              "        text-align: right;\n",
              "    }\n",
              "</style>\n",
              "<table border=\"1\" class=\"dataframe\">\n",
              "  <thead>\n",
              "    <tr style=\"text-align: right;\">\n",
              "      <th></th>\n",
              "      <th>YEAR</th>\n",
              "      <th>QUARTER</th>\n",
              "      <th>MONTH</th>\n",
              "      <th>DAY_OF_MONTH</th>\n",
              "      <th>DAY_OF_WEEK</th>\n",
              "      <th>FL_DATE</th>\n",
              "      <th>OP_UNIQUE_CARRIER</th>\n",
              "      <th>OP_CARRIER_AIRLINE_ID</th>\n",
              "      <th>OP_CARRIER</th>\n",
              "      <th>TAIL_NUM</th>\n",
              "      <th>OP_CARRIER_FL_NUM</th>\n",
              "      <th>ORIGIN_AIRPORT_ID</th>\n",
              "      <th>ORIGIN_AIRPORT_SEQ_ID</th>\n",
              "      <th>ORIGIN_CITY_MARKET_ID</th>\n",
              "      <th>ORIGIN</th>\n",
              "      <th>ORIGIN_CITY_NAME</th>\n",
              "      <th>ORIGIN_STATE_ABR</th>\n",
              "      <th>ORIGIN_STATE_FIPS</th>\n",
              "      <th>ORIGIN_STATE_NM</th>\n",
              "      <th>ORIGIN_WAC</th>\n",
              "      <th>DEST_AIRPORT_ID</th>\n",
              "      <th>DEST_AIRPORT_SEQ_ID</th>\n",
              "      <th>DEST_CITY_MARKET_ID</th>\n",
              "      <th>DEST</th>\n",
              "      <th>DEST_CITY_NAME</th>\n",
              "      <th>DEST_STATE_ABR</th>\n",
              "      <th>DEST_STATE_FIPS</th>\n",
              "      <th>DEST_STATE_NM</th>\n",
              "      <th>DEST_WAC</th>\n",
              "      <th>CRS_DEP_TIME</th>\n",
              "      <th>DEP_TIME</th>\n",
              "      <th>DEP_DELAY</th>\n",
              "      <th>DEP_DELAY_NEW</th>\n",
              "      <th>DEP_DEL15</th>\n",
              "      <th>DEP_DELAY_GROUP</th>\n",
              "      <th>DEP_TIME_BLK</th>\n",
              "      <th>TAXI_OUT</th>\n",
              "      <th>WHEELS_OFF</th>\n",
              "      <th>WHEELS_ON</th>\n",
              "      <th>TAXI_IN</th>\n",
              "      <th>CRS_ARR_TIME</th>\n",
              "      <th>ARR_TIME</th>\n",
              "      <th>ARR_DELAY</th>\n",
              "      <th>ARR_DELAY_NEW</th>\n",
              "      <th>ARR_DEL15</th>\n",
              "      <th>ARR_DELAY_GROUP</th>\n",
              "      <th>ARR_TIME_BLK</th>\n",
              "      <th>CANCELLED</th>\n",
              "      <th>DIVERTED</th>\n",
              "      <th>CRS_ELAPSED_TIME</th>\n",
              "      <th>ACTUAL_ELAPSED_TIME</th>\n",
              "      <th>AIR_TIME</th>\n",
              "      <th>FLIGHTS</th>\n",
              "      <th>DISTANCE</th>\n",
              "      <th>DISTANCE_GROUP</th>\n",
              "      <th>CARRIER_DELAY</th>\n",
              "      <th>WEATHER_DELAY</th>\n",
              "      <th>NAS_DELAY</th>\n",
              "      <th>SECURITY_DELAY</th>\n",
              "      <th>LATE_AIRCRAFT_DELAY</th>\n",
              "      <th>DIV_AIRPORT_LANDINGS</th>\n",
              "      <th>Unnamed: 61</th>\n",
              "    </tr>\n",
              "  </thead>\n",
              "  <tbody>\n",
              "    <tr>\n",
              "      <th>0</th>\n",
              "      <td>2018</td>\n",
              "      <td>4</td>\n",
              "      <td>12</td>\n",
              "      <td>6</td>\n",
              "      <td>4</td>\n",
              "      <td>2018-12-06</td>\n",
              "      <td>DL</td>\n",
              "      <td>19790</td>\n",
              "      <td>DL</td>\n",
              "      <td>N67171</td>\n",
              "      <td>2454</td>\n",
              "      <td>14908</td>\n",
              "      <td>1490803</td>\n",
              "      <td>32575</td>\n",
              "      <td>SNA</td>\n",
              "      <td>Santa Ana, CA</td>\n",
              "      <td>CA</td>\n",
              "      <td>6</td>\n",
              "      <td>California</td>\n",
              "      <td>91</td>\n",
              "      <td>10397</td>\n",
              "      <td>1039707</td>\n",
              "      <td>30397</td>\n",
              "      <td>ATL</td>\n",
              "      <td>Atlanta, GA</td>\n",
              "      <td>GA</td>\n",
              "      <td>13</td>\n",
              "      <td>Georgia</td>\n",
              "      <td>34</td>\n",
              "      <td>645</td>\n",
              "      <td>655.0</td>\n",
              "      <td>10.0</td>\n",
              "      <td>10.0</td>\n",
              "      <td>0.0</td>\n",
              "      <td>0.0</td>\n",
              "      <td>0600-0659</td>\n",
              "      <td>19.0</td>\n",
              "      <td>714.0</td>\n",
              "      <td>1334.0</td>\n",
              "      <td>5.0</td>\n",
              "      <td>1356</td>\n",
              "      <td>1339.0</td>\n",
              "      <td>-17.0</td>\n",
              "      <td>0.0</td>\n",
              "      <td>0.0</td>\n",
              "      <td>-2.0</td>\n",
              "      <td>1300-1359</td>\n",
              "      <td>0.0</td>\n",
              "      <td>0.0</td>\n",
              "      <td>251.0</td>\n",
              "      <td>224.0</td>\n",
              "      <td>200.0</td>\n",
              "      <td>1.0</td>\n",
              "      <td>1919.0</td>\n",
              "      <td>8</td>\n",
              "      <td>NaN</td>\n",
              "      <td>NaN</td>\n",
              "      <td>NaN</td>\n",
              "      <td>NaN</td>\n",
              "      <td>NaN</td>\n",
              "      <td>0</td>\n",
              "      <td>NaN</td>\n",
              "    </tr>\n",
              "    <tr>\n",
              "      <th>1</th>\n",
              "      <td>2018</td>\n",
              "      <td>4</td>\n",
              "      <td>12</td>\n",
              "      <td>6</td>\n",
              "      <td>4</td>\n",
              "      <td>2018-12-06</td>\n",
              "      <td>DL</td>\n",
              "      <td>19790</td>\n",
              "      <td>DL</td>\n",
              "      <td>N327DN</td>\n",
              "      <td>2455</td>\n",
              "      <td>10423</td>\n",
              "      <td>1042302</td>\n",
              "      <td>30423</td>\n",
              "      <td>AUS</td>\n",
              "      <td>Austin, TX</td>\n",
              "      <td>TX</td>\n",
              "      <td>48</td>\n",
              "      <td>Texas</td>\n",
              "      <td>74</td>\n",
              "      <td>10397</td>\n",
              "      <td>1039707</td>\n",
              "      <td>30397</td>\n",
              "      <td>ATL</td>\n",
              "      <td>Atlanta, GA</td>\n",
              "      <td>GA</td>\n",
              "      <td>13</td>\n",
              "      <td>Georgia</td>\n",
              "      <td>34</td>\n",
              "      <td>700</td>\n",
              "      <td>656.0</td>\n",
              "      <td>-4.0</td>\n",
              "      <td>0.0</td>\n",
              "      <td>0.0</td>\n",
              "      <td>-1.0</td>\n",
              "      <td>0700-0759</td>\n",
              "      <td>12.0</td>\n",
              "      <td>708.0</td>\n",
              "      <td>945.0</td>\n",
              "      <td>6.0</td>\n",
              "      <td>1008</td>\n",
              "      <td>951.0</td>\n",
              "      <td>-17.0</td>\n",
              "      <td>0.0</td>\n",
              "      <td>0.0</td>\n",
              "      <td>-2.0</td>\n",
              "      <td>1000-1059</td>\n",
              "      <td>0.0</td>\n",
              "      <td>0.0</td>\n",
              "      <td>128.0</td>\n",
              "      <td>115.0</td>\n",
              "      <td>97.0</td>\n",
              "      <td>1.0</td>\n",
              "      <td>813.0</td>\n",
              "      <td>4</td>\n",
              "      <td>NaN</td>\n",
              "      <td>NaN</td>\n",
              "      <td>NaN</td>\n",
              "      <td>NaN</td>\n",
              "      <td>NaN</td>\n",
              "      <td>0</td>\n",
              "      <td>NaN</td>\n",
              "    </tr>\n",
              "    <tr>\n",
              "      <th>2</th>\n",
              "      <td>2018</td>\n",
              "      <td>4</td>\n",
              "      <td>12</td>\n",
              "      <td>6</td>\n",
              "      <td>4</td>\n",
              "      <td>2018-12-06</td>\n",
              "      <td>DL</td>\n",
              "      <td>19790</td>\n",
              "      <td>DL</td>\n",
              "      <td>N327NW</td>\n",
              "      <td>2456</td>\n",
              "      <td>12478</td>\n",
              "      <td>1247805</td>\n",
              "      <td>31703</td>\n",
              "      <td>JFK</td>\n",
              "      <td>New York, NY</td>\n",
              "      <td>NY</td>\n",
              "      <td>36</td>\n",
              "      <td>New York</td>\n",
              "      <td>22</td>\n",
              "      <td>11697</td>\n",
              "      <td>1169706</td>\n",
              "      <td>32467</td>\n",
              "      <td>FLL</td>\n",
              "      <td>Fort Lauderdale, FL</td>\n",
              "      <td>FL</td>\n",
              "      <td>12</td>\n",
              "      <td>Florida</td>\n",
              "      <td>33</td>\n",
              "      <td>1133</td>\n",
              "      <td>1129.0</td>\n",
              "      <td>-4.0</td>\n",
              "      <td>0.0</td>\n",
              "      <td>0.0</td>\n",
              "      <td>-1.0</td>\n",
              "      <td>1100-1159</td>\n",
              "      <td>25.0</td>\n",
              "      <td>1154.0</td>\n",
              "      <td>1426.0</td>\n",
              "      <td>3.0</td>\n",
              "      <td>1449</td>\n",
              "      <td>1429.0</td>\n",
              "      <td>-20.0</td>\n",
              "      <td>0.0</td>\n",
              "      <td>0.0</td>\n",
              "      <td>-2.0</td>\n",
              "      <td>1400-1459</td>\n",
              "      <td>0.0</td>\n",
              "      <td>0.0</td>\n",
              "      <td>196.0</td>\n",
              "      <td>180.0</td>\n",
              "      <td>152.0</td>\n",
              "      <td>1.0</td>\n",
              "      <td>1069.0</td>\n",
              "      <td>5</td>\n",
              "      <td>NaN</td>\n",
              "      <td>NaN</td>\n",
              "      <td>NaN</td>\n",
              "      <td>NaN</td>\n",
              "      <td>NaN</td>\n",
              "      <td>0</td>\n",
              "      <td>NaN</td>\n",
              "    </tr>\n",
              "    <tr>\n",
              "      <th>3</th>\n",
              "      <td>2018</td>\n",
              "      <td>4</td>\n",
              "      <td>12</td>\n",
              "      <td>6</td>\n",
              "      <td>4</td>\n",
              "      <td>2018-12-06</td>\n",
              "      <td>DL</td>\n",
              "      <td>19790</td>\n",
              "      <td>DL</td>\n",
              "      <td>N904DN</td>\n",
              "      <td>2457</td>\n",
              "      <td>10397</td>\n",
              "      <td>1039707</td>\n",
              "      <td>30397</td>\n",
              "      <td>ATL</td>\n",
              "      <td>Atlanta, GA</td>\n",
              "      <td>GA</td>\n",
              "      <td>13</td>\n",
              "      <td>Georgia</td>\n",
              "      <td>34</td>\n",
              "      <td>10529</td>\n",
              "      <td>1052906</td>\n",
              "      <td>30529</td>\n",
              "      <td>BDL</td>\n",
              "      <td>Hartford, CT</td>\n",
              "      <td>CT</td>\n",
              "      <td>9</td>\n",
              "      <td>Connecticut</td>\n",
              "      <td>11</td>\n",
              "      <td>727</td>\n",
              "      <td>724.0</td>\n",
              "      <td>-3.0</td>\n",
              "      <td>0.0</td>\n",
              "      <td>0.0</td>\n",
              "      <td>-1.0</td>\n",
              "      <td>0700-0759</td>\n",
              "      <td>29.0</td>\n",
              "      <td>753.0</td>\n",
              "      <td>941.0</td>\n",
              "      <td>3.0</td>\n",
              "      <td>941</td>\n",
              "      <td>944.0</td>\n",
              "      <td>3.0</td>\n",
              "      <td>3.0</td>\n",
              "      <td>0.0</td>\n",
              "      <td>0.0</td>\n",
              "      <td>0900-0959</td>\n",
              "      <td>0.0</td>\n",
              "      <td>0.0</td>\n",
              "      <td>134.0</td>\n",
              "      <td>140.0</td>\n",
              "      <td>108.0</td>\n",
              "      <td>1.0</td>\n",
              "      <td>859.0</td>\n",
              "      <td>4</td>\n",
              "      <td>NaN</td>\n",
              "      <td>NaN</td>\n",
              "      <td>NaN</td>\n",
              "      <td>NaN</td>\n",
              "      <td>NaN</td>\n",
              "      <td>0</td>\n",
              "      <td>NaN</td>\n",
              "    </tr>\n",
              "    <tr>\n",
              "      <th>4</th>\n",
              "      <td>2018</td>\n",
              "      <td>4</td>\n",
              "      <td>12</td>\n",
              "      <td>6</td>\n",
              "      <td>4</td>\n",
              "      <td>2018-12-06</td>\n",
              "      <td>DL</td>\n",
              "      <td>19790</td>\n",
              "      <td>DL</td>\n",
              "      <td>N904DN</td>\n",
              "      <td>2457</td>\n",
              "      <td>10529</td>\n",
              "      <td>1052906</td>\n",
              "      <td>30529</td>\n",
              "      <td>BDL</td>\n",
              "      <td>Hartford, CT</td>\n",
              "      <td>CT</td>\n",
              "      <td>9</td>\n",
              "      <td>Connecticut</td>\n",
              "      <td>11</td>\n",
              "      <td>10397</td>\n",
              "      <td>1039707</td>\n",
              "      <td>30397</td>\n",
              "      <td>ATL</td>\n",
              "      <td>Atlanta, GA</td>\n",
              "      <td>GA</td>\n",
              "      <td>13</td>\n",
              "      <td>Georgia</td>\n",
              "      <td>34</td>\n",
              "      <td>1039</td>\n",
              "      <td>1034.0</td>\n",
              "      <td>-5.0</td>\n",
              "      <td>0.0</td>\n",
              "      <td>0.0</td>\n",
              "      <td>-1.0</td>\n",
              "      <td>1000-1059</td>\n",
              "      <td>8.0</td>\n",
              "      <td>1042.0</td>\n",
              "      <td>1254.0</td>\n",
              "      <td>6.0</td>\n",
              "      <td>1325</td>\n",
              "      <td>1300.0</td>\n",
              "      <td>-25.0</td>\n",
              "      <td>0.0</td>\n",
              "      <td>0.0</td>\n",
              "      <td>-2.0</td>\n",
              "      <td>1300-1359</td>\n",
              "      <td>0.0</td>\n",
              "      <td>0.0</td>\n",
              "      <td>166.0</td>\n",
              "      <td>146.0</td>\n",
              "      <td>132.0</td>\n",
              "      <td>1.0</td>\n",
              "      <td>859.0</td>\n",
              "      <td>4</td>\n",
              "      <td>NaN</td>\n",
              "      <td>NaN</td>\n",
              "      <td>NaN</td>\n",
              "      <td>NaN</td>\n",
              "      <td>NaN</td>\n",
              "      <td>0</td>\n",
              "      <td>NaN</td>\n",
              "    </tr>\n",
              "  </tbody>\n",
              "</table>\n",
              "</div>"
            ],
            "text/plain": [
              "   YEAR  QUARTER  MONTH  ...  LATE_AIRCRAFT_DELAY  DIV_AIRPORT_LANDINGS Unnamed: 61\n",
              "0  2018        4     12  ...                  NaN                     0         NaN\n",
              "1  2018        4     12  ...                  NaN                     0         NaN\n",
              "2  2018        4     12  ...                  NaN                     0         NaN\n",
              "3  2018        4     12  ...                  NaN                     0         NaN\n",
              "4  2018        4     12  ...                  NaN                     0         NaN\n",
              "\n",
              "[5 rows x 62 columns]"
            ]
          },
          "metadata": {
            "tags": []
          },
          "execution_count": 4
        }
      ]
    },
    {
      "cell_type": "code",
      "metadata": {
        "id": "Py34ZwyYlQB9",
        "colab_type": "code",
        "outputId": "51ea684b-9429-44dc-a0bd-f8679fbe2264",
        "colab": {
          "base_uri": "https://localhost:8080/",
          "height": 34
        }
      },
      "source": [
        "seq1.shape"
      ],
      "execution_count": 0,
      "outputs": [
        {
          "output_type": "execute_result",
          "data": {
            "text/plain": [
              "(7989942, 62)"
            ]
          },
          "metadata": {
            "tags": []
          },
          "execution_count": 4
        }
      ]
    },
    {
      "cell_type": "code",
      "metadata": {
        "id": "gkbz_cxgx1yS",
        "colab_type": "code",
        "outputId": "ce6d6461-96e0-4037-b174-ea3c58c86aa0",
        "colab": {
          "base_uri": "https://localhost:8080/",
          "height": 307
        }
      },
      "source": [
        "seq1.columns"
      ],
      "execution_count": 0,
      "outputs": [
        {
          "output_type": "execute_result",
          "data": {
            "text/plain": [
              "Index(['YEAR', 'QUARTER', 'MONTH', 'DAY_OF_MONTH', 'DAY_OF_WEEK', 'FL_DATE',\n",
              "       'OP_UNIQUE_CARRIER', 'OP_CARRIER_AIRLINE_ID', 'OP_CARRIER', 'TAIL_NUM',\n",
              "       'OP_CARRIER_FL_NUM', 'ORIGIN_AIRPORT_ID', 'ORIGIN_AIRPORT_SEQ_ID',\n",
              "       'ORIGIN_CITY_MARKET_ID', 'ORIGIN', 'ORIGIN_CITY_NAME',\n",
              "       'ORIGIN_STATE_ABR', 'ORIGIN_STATE_FIPS', 'ORIGIN_STATE_NM',\n",
              "       'ORIGIN_WAC', 'DEST_AIRPORT_ID', 'DEST_AIRPORT_SEQ_ID',\n",
              "       'DEST_CITY_MARKET_ID', 'DEST', 'DEST_CITY_NAME', 'DEST_STATE_ABR',\n",
              "       'DEST_STATE_FIPS', 'DEST_STATE_NM', 'DEST_WAC', 'CRS_DEP_TIME',\n",
              "       'DEP_TIME', 'DEP_DELAY', 'DEP_DELAY_NEW', 'DEP_DEL15',\n",
              "       'DEP_DELAY_GROUP', 'DEP_TIME_BLK', 'TAXI_OUT', 'WHEELS_OFF',\n",
              "       'WHEELS_ON', 'TAXI_IN', 'CRS_ARR_TIME', 'ARR_TIME', 'ARR_DELAY',\n",
              "       'ARR_DELAY_NEW', 'ARR_DEL15', 'ARR_DELAY_GROUP', 'ARR_TIME_BLK',\n",
              "       'CANCELLED', 'DIVERTED', 'CRS_ELAPSED_TIME', 'ACTUAL_ELAPSED_TIME',\n",
              "       'AIR_TIME', 'FLIGHTS', 'DISTANCE', 'DISTANCE_GROUP', 'CARRIER_DELAY',\n",
              "       'WEATHER_DELAY', 'NAS_DELAY', 'SECURITY_DELAY', 'LATE_AIRCRAFT_DELAY',\n",
              "       'DIV_AIRPORT_LANDINGS', 'Unnamed: 61'],\n",
              "      dtype='object')"
            ]
          },
          "metadata": {
            "tags": []
          },
          "execution_count": 5
        }
      ]
    },
    {
      "cell_type": "code",
      "metadata": {
        "id": "VUQXBja3mQVf",
        "colab_type": "code",
        "outputId": "7523f1aa-946e-4f45-ad46-eae7b60cfaba",
        "colab": {
          "base_uri": "https://localhost:8080/",
          "height": 870
        }
      },
      "source": [
        "seq1[seq1.columns[1:]].corr()['TAXI_OUT'][:]"
      ],
      "execution_count": 0,
      "outputs": [
        {
          "output_type": "execute_result",
          "data": {
            "text/plain": [
              "QUARTER                 -0.016248\n",
              "MONTH                   -0.016074\n",
              "DAY_OF_MONTH            -0.000932\n",
              "DAY_OF_WEEK             -0.014844\n",
              "OP_CARRIER_AIRLINE_ID    0.206000\n",
              "OP_CARRIER_FL_NUM        0.084287\n",
              "ORIGIN_AIRPORT_ID       -0.009935\n",
              "ORIGIN_AIRPORT_SEQ_ID   -0.009934\n",
              "ORIGIN_CITY_MARKET_ID   -0.053847\n",
              "ORIGIN_STATE_FIPS        0.055182\n",
              "ORIGIN_WAC              -0.075651\n",
              "DEST_AIRPORT_ID          0.014485\n",
              "DEST_AIRPORT_SEQ_ID      0.014485\n",
              "DEST_CITY_MARKET_ID      0.033912\n",
              "DEST_STATE_FIPS          0.026319\n",
              "DEST_WAC                -0.035821\n",
              "CRS_DEP_TIME             0.002713\n",
              "DEP_TIME                 0.012930\n",
              "DEP_DELAY                0.063612\n",
              "DEP_DELAY_NEW            0.062479\n",
              "DEP_DEL15                0.072394\n",
              "DEP_DELAY_GROUP          0.077176\n",
              "TAXI_OUT                 1.000000\n",
              "WHEELS_OFF               0.039882\n",
              "WHEELS_ON                0.030273\n",
              "TAXI_IN                  0.022186\n",
              "CRS_ARR_TIME             0.025916\n",
              "ARR_TIME                 0.026902\n",
              "ARR_DELAY                0.219324\n",
              "ARR_DELAY_NEW            0.179659\n",
              "ARR_DEL15                0.283684\n",
              "ARR_DELAY_GROUP          0.279611\n",
              "CANCELLED                0.005075\n",
              "DIVERTED                 0.014827\n",
              "CRS_ELAPSED_TIME         0.082666\n",
              "ACTUAL_ELAPSED_TIME      0.191964\n",
              "AIR_TIME                 0.054908\n",
              "FLIGHTS                       NaN\n",
              "DISTANCE                 0.038497\n",
              "DISTANCE_GROUP           0.036975\n",
              "CARRIER_DELAY           -0.070293\n",
              "WEATHER_DELAY            0.027046\n",
              "NAS_DELAY                0.289247\n",
              "SECURITY_DELAY          -0.007984\n",
              "LATE_AIRCRAFT_DELAY     -0.113050\n",
              "DIV_AIRPORT_LANDINGS     0.011301\n",
              "Unnamed: 61                   NaN\n",
              "Name: TAXI_OUT, dtype: float64"
            ]
          },
          "metadata": {
            "tags": []
          },
          "execution_count": 6
        }
      ]
    },
    {
      "cell_type": "markdown",
      "metadata": {
        "id": "VL6BHVNfy3qc",
        "colab_type": "text"
      },
      "source": [
        "#Dropping bad features and implementing 4 hour constraint"
      ]
    },
    {
      "cell_type": "code",
      "metadata": {
        "id": "9KKqUUUwyFZc",
        "colab_type": "code",
        "colab": {}
      },
      "source": [
        "seq1.drop(axis=1,columns=['FLIGHTS','CARRIER_DELAY','SECURITY_DELAY','LATE_AIRCRAFT_DELAY','Unnamed: 61',\n",
        "                          'DEP_TIME','DEP_DELAY','DEP_DELAY_NEW','DEP_DEL15','DEP_DELAY_GROUP'],inplace=True)"
      ],
      "execution_count": 0,
      "outputs": []
    },
    {
      "cell_type": "code",
      "metadata": {
        "id": "jADQKSqO7U9w",
        "colab_type": "code",
        "outputId": "370cedf9-5fd5-4504-a3fb-459878c3e1d1",
        "colab": {
          "base_uri": "https://localhost:8080/",
          "height": 256
        }
      },
      "source": [
        "seq1.columns"
      ],
      "execution_count": 0,
      "outputs": [
        {
          "output_type": "execute_result",
          "data": {
            "text/plain": [
              "Index(['YEAR', 'QUARTER', 'MONTH', 'DAY_OF_MONTH', 'DAY_OF_WEEK', 'FL_DATE',\n",
              "       'OP_UNIQUE_CARRIER', 'OP_CARRIER_AIRLINE_ID', 'OP_CARRIER', 'TAIL_NUM',\n",
              "       'OP_CARRIER_FL_NUM', 'ORIGIN_AIRPORT_ID', 'ORIGIN_AIRPORT_SEQ_ID',\n",
              "       'ORIGIN_CITY_MARKET_ID', 'ORIGIN', 'ORIGIN_CITY_NAME',\n",
              "       'ORIGIN_STATE_ABR', 'ORIGIN_STATE_FIPS', 'ORIGIN_STATE_NM',\n",
              "       'ORIGIN_WAC', 'DEST_AIRPORT_ID', 'DEST_AIRPORT_SEQ_ID',\n",
              "       'DEST_CITY_MARKET_ID', 'DEST', 'DEST_CITY_NAME', 'DEST_STATE_ABR',\n",
              "       'DEST_STATE_FIPS', 'DEST_STATE_NM', 'DEST_WAC', 'CRS_DEP_TIME',\n",
              "       'DEP_TIME_BLK', 'TAXI_OUT', 'WHEELS_OFF', 'WHEELS_ON', 'TAXI_IN',\n",
              "       'CRS_ARR_TIME', 'ARR_TIME', 'ARR_DELAY', 'ARR_DELAY_NEW', 'ARR_DEL15',\n",
              "       'ARR_DELAY_GROUP', 'ARR_TIME_BLK', 'CANCELLED', 'DIVERTED',\n",
              "       'CRS_ELAPSED_TIME', 'ACTUAL_ELAPSED_TIME', 'AIR_TIME', 'DISTANCE',\n",
              "       'DISTANCE_GROUP', 'WEATHER_DELAY', 'NAS_DELAY', 'DIV_AIRPORT_LANDINGS'],\n",
              "      dtype='object')"
            ]
          },
          "metadata": {
            "tags": []
          },
          "execution_count": 7
        }
      ]
    },
    {
      "cell_type": "code",
      "metadata": {
        "id": "S_dAJzTp8sUW",
        "colab_type": "code",
        "colab": {}
      },
      "source": [
        "\n"
      ],
      "execution_count": 0,
      "outputs": []
    },
    {
      "cell_type": "markdown",
      "metadata": {
        "id": "X5JHVuwWUas0",
        "colab_type": "text"
      },
      "source": [
        "#Creating Proposed prediction time column"
      ]
    },
    {
      "cell_type": "code",
      "metadata": {
        "id": "GT7hqyGIW9on",
        "colab_type": "code",
        "outputId": "1d414040-d69c-40d6-8266-e003687f7c86",
        "colab": {
          "base_uri": "https://localhost:8080/",
          "height": 197
        }
      },
      "source": [
        "airports_codes = pd.read_csv('/content/drive/My Drive/Octave/SeqHub_Airline/ICAO_IATA_AIRPORTS.csv')\n",
        "\n",
        "airports_codes.head()"
      ],
      "execution_count": 0,
      "outputs": [
        {
          "output_type": "execute_result",
          "data": {
            "text/html": [
              "<div>\n",
              "<style scoped>\n",
              "    .dataframe tbody tr th:only-of-type {\n",
              "        vertical-align: middle;\n",
              "    }\n",
              "\n",
              "    .dataframe tbody tr th {\n",
              "        vertical-align: top;\n",
              "    }\n",
              "\n",
              "    .dataframe thead th {\n",
              "        text-align: right;\n",
              "    }\n",
              "</style>\n",
              "<table border=\"1\" class=\"dataframe\">\n",
              "  <thead>\n",
              "    <tr style=\"text-align: right;\">\n",
              "      <th></th>\n",
              "      <th>City</th>\n",
              "      <th>FAA</th>\n",
              "      <th>IATA</th>\n",
              "      <th>ICAO</th>\n",
              "      <th>Airport</th>\n",
              "      <th>Role</th>\n",
              "      <th>Enplanements</th>\n",
              "      <th>Unnamed: 7</th>\n",
              "    </tr>\n",
              "  </thead>\n",
              "  <tbody>\n",
              "    <tr>\n",
              "      <th>0</th>\n",
              "      <td>Birmingham</td>\n",
              "      <td>BHM</td>\n",
              "      <td>BHM</td>\n",
              "      <td>KBHM</td>\n",
              "      <td>Birmingham–Shuttlesworth International Airport</td>\n",
              "      <td>P-S</td>\n",
              "      <td>1,304,467</td>\n",
              "      <td>NaN</td>\n",
              "    </tr>\n",
              "    <tr>\n",
              "      <th>1</th>\n",
              "      <td>Dothan</td>\n",
              "      <td>DHN</td>\n",
              "      <td>DHN</td>\n",
              "      <td>KDHN</td>\n",
              "      <td>Dothan Regional Airport</td>\n",
              "      <td>P-N</td>\n",
              "      <td>49,411</td>\n",
              "      <td>NaN</td>\n",
              "    </tr>\n",
              "    <tr>\n",
              "      <th>2</th>\n",
              "      <td>Huntsville</td>\n",
              "      <td>HSV</td>\n",
              "      <td>HSV</td>\n",
              "      <td>KHSV</td>\n",
              "      <td>Huntsville International Airport (Carl T. Jone...</td>\n",
              "      <td>P-S</td>\n",
              "      <td>527,801</td>\n",
              "      <td>NaN</td>\n",
              "    </tr>\n",
              "    <tr>\n",
              "      <th>3</th>\n",
              "      <td>Mobile</td>\n",
              "      <td>MOB</td>\n",
              "      <td>MOB</td>\n",
              "      <td>KMOB</td>\n",
              "      <td>Mobile Regional Airport</td>\n",
              "      <td>P-N</td>\n",
              "      <td>288,209</td>\n",
              "      <td>NaN</td>\n",
              "    </tr>\n",
              "    <tr>\n",
              "      <th>4</th>\n",
              "      <td>Montgomery</td>\n",
              "      <td>MGM</td>\n",
              "      <td>MGM</td>\n",
              "      <td>KMGM</td>\n",
              "      <td>Montgomery Regional Airport (Dannelly Field)</td>\n",
              "      <td>P-N</td>\n",
              "      <td>173,210</td>\n",
              "      <td>NaN</td>\n",
              "    </tr>\n",
              "  </tbody>\n",
              "</table>\n",
              "</div>"
            ],
            "text/plain": [
              "         City  FAA IATA  ... Role Enplanements Unnamed: 7\n",
              "0  Birmingham  BHM  BHM  ...  P-S    1,304,467        NaN\n",
              "1      Dothan  DHN  DHN  ...  P-N       49,411        NaN\n",
              "2  Huntsville  HSV  HSV  ...  P-S      527,801        NaN\n",
              "3      Mobile  MOB  MOB  ...  P-N      288,209        NaN\n",
              "4  Montgomery  MGM  MGM  ...  P-N      173,210        NaN\n",
              "\n",
              "[5 rows x 8 columns]"
            ]
          },
          "metadata": {
            "tags": []
          },
          "execution_count": 6
        }
      ]
    },
    {
      "cell_type": "code",
      "metadata": {
        "id": "kiEq_xcwXZgE",
        "colab_type": "code",
        "outputId": "f763904c-ff85-4366-d12c-b71eeeba80c8",
        "colab": {
          "base_uri": "https://localhost:8080/",
          "height": 177
        }
      },
      "source": [
        "seq1['TAXI_OUT'].describe()"
      ],
      "execution_count": 0,
      "outputs": [
        {
          "output_type": "execute_result",
          "data": {
            "text/plain": [
              "count    7.848747e+06\n",
              "mean     1.740750e+01\n",
              "std      9.944085e+00\n",
              "min      1.000000e+00\n",
              "25%      1.100000e+01\n",
              "50%      1.500000e+01\n",
              "75%      2.000000e+01\n",
              "max      2.270000e+02\n",
              "Name: TAXI_OUT, dtype: float64"
            ]
          },
          "metadata": {
            "tags": []
          },
          "execution_count": 13
        }
      ]
    },
    {
      "cell_type": "code",
      "metadata": {
        "id": "8oDVuTlV1GjZ",
        "colab_type": "code",
        "colab": {}
      },
      "source": [
        "seq1['TAXI_OUT'] = seq1['TAXI_OUT'].fillna(0)"
      ],
      "execution_count": 0,
      "outputs": []
    },
    {
      "cell_type": "code",
      "metadata": {
        "id": "gZoYU2xK0ZIg",
        "colab_type": "code",
        "colab": {}
      },
      "source": [
        "seq1.TAXI_OUT = seq1.TAXI_OUT.astype(int)"
      ],
      "execution_count": 0,
      "outputs": []
    },
    {
      "cell_type": "code",
      "metadata": {
        "id": "XLqFF9fS1ral",
        "colab_type": "code",
        "colab": {}
      },
      "source": [
        "taxi_list = seq1['TAXI_OUT'].tolist()"
      ],
      "execution_count": 0,
      "outputs": []
    },
    {
      "cell_type": "code",
      "metadata": {
        "id": "HXermMJb29l4",
        "colab_type": "code",
        "colab": {}
      },
      "source": [
        "newlist = []\n",
        "for item in taxi_list:\n",
        "    if item >= 18:\n",
        "        item = 1\n",
        "    else:\n",
        "      item = 0\n",
        "\n",
        "    newlist.append(item)\n",
        "    "
      ],
      "execution_count": 0,
      "outputs": []
    },
    {
      "cell_type": "code",
      "metadata": {
        "id": "nHa-M8yt2pEJ",
        "colab_type": "code",
        "colab": {}
      },
      "source": [
        "seq1['incident_category'] = newlist"
      ],
      "execution_count": 0,
      "outputs": []
    },
    {
      "cell_type": "code",
      "metadata": {
        "id": "HNVh-8n73y2s",
        "colab_type": "code",
        "outputId": "196476c0-e32f-4ee7-c54d-31e832acfb58",
        "colab": {
          "base_uri": "https://localhost:8080/",
          "height": 119
        }
      },
      "source": [
        "seq1['incident_category'].head()"
      ],
      "execution_count": 0,
      "outputs": [
        {
          "output_type": "execute_result",
          "data": {
            "text/plain": [
              "0    1\n",
              "1    0\n",
              "2    1\n",
              "3    1\n",
              "4    0\n",
              "Name: incident_category, dtype: int64"
            ]
          },
          "metadata": {
            "tags": []
          },
          "execution_count": 14
        }
      ]
    },
    {
      "cell_type": "code",
      "metadata": {
        "id": "Um1B3y7M4xMh",
        "colab_type": "code",
        "outputId": "35f0b786-f9ba-4040-96d1-e94cceca8a0a",
        "colab": {
          "base_uri": "https://localhost:8080/",
          "height": 34
        }
      },
      "source": [
        "seq1['incident_category'].unique()"
      ],
      "execution_count": 0,
      "outputs": [
        {
          "output_type": "execute_result",
          "data": {
            "text/plain": [
              "array([1, 0])"
            ]
          },
          "metadata": {
            "tags": []
          },
          "execution_count": 11
        }
      ]
    },
    {
      "cell_type": "code",
      "metadata": {
        "id": "Zw7s3O3OGiK5",
        "colab_type": "code",
        "outputId": "540551cb-7ffb-499d-d77f-39cb053ba5b3",
        "colab": {
          "base_uri": "https://localhost:8080/",
          "height": 35
        }
      },
      "source": [
        "airports_codes.shape"
      ],
      "execution_count": 0,
      "outputs": [
        {
          "output_type": "execute_result",
          "data": {
            "text/plain": [
              "(379, 8)"
            ]
          },
          "metadata": {
            "tags": []
          },
          "execution_count": 40
        }
      ]
    },
    {
      "cell_type": "code",
      "metadata": {
        "id": "zGkolvHLD7Rq",
        "colab_type": "code",
        "outputId": "4fd06c09-73f8-4f2b-aab2-6870734dbc6e",
        "colab": {
          "base_uri": "https://localhost:8080/",
          "height": 524
        }
      },
      "source": [
        "seq_new = pd.merge(seq1, airports_codes, left_on='ORIGIN', right_on='IATA', how='left')\n",
        "seq_new.head()"
      ],
      "execution_count": 0,
      "outputs": [
        {
          "output_type": "execute_result",
          "data": {
            "text/html": [
              "<div>\n",
              "<style scoped>\n",
              "    .dataframe tbody tr th:only-of-type {\n",
              "        vertical-align: middle;\n",
              "    }\n",
              "\n",
              "    .dataframe tbody tr th {\n",
              "        vertical-align: top;\n",
              "    }\n",
              "\n",
              "    .dataframe thead th {\n",
              "        text-align: right;\n",
              "    }\n",
              "</style>\n",
              "<table border=\"1\" class=\"dataframe\">\n",
              "  <thead>\n",
              "    <tr style=\"text-align: right;\">\n",
              "      <th></th>\n",
              "      <th>YEAR</th>\n",
              "      <th>QUARTER</th>\n",
              "      <th>MONTH</th>\n",
              "      <th>DAY_OF_MONTH</th>\n",
              "      <th>DAY_OF_WEEK</th>\n",
              "      <th>FL_DATE</th>\n",
              "      <th>OP_UNIQUE_CARRIER</th>\n",
              "      <th>OP_CARRIER_AIRLINE_ID</th>\n",
              "      <th>OP_CARRIER</th>\n",
              "      <th>TAIL_NUM</th>\n",
              "      <th>OP_CARRIER_FL_NUM</th>\n",
              "      <th>ORIGIN_AIRPORT_ID</th>\n",
              "      <th>ORIGIN_AIRPORT_SEQ_ID</th>\n",
              "      <th>ORIGIN_CITY_MARKET_ID</th>\n",
              "      <th>ORIGIN</th>\n",
              "      <th>ORIGIN_CITY_NAME</th>\n",
              "      <th>ORIGIN_STATE_ABR</th>\n",
              "      <th>ORIGIN_STATE_FIPS</th>\n",
              "      <th>ORIGIN_STATE_NM</th>\n",
              "      <th>ORIGIN_WAC</th>\n",
              "      <th>DEST_AIRPORT_ID</th>\n",
              "      <th>DEST_AIRPORT_SEQ_ID</th>\n",
              "      <th>DEST_CITY_MARKET_ID</th>\n",
              "      <th>DEST</th>\n",
              "      <th>DEST_CITY_NAME</th>\n",
              "      <th>DEST_STATE_ABR</th>\n",
              "      <th>DEST_STATE_FIPS</th>\n",
              "      <th>DEST_STATE_NM</th>\n",
              "      <th>DEST_WAC</th>\n",
              "      <th>CRS_DEP_TIME</th>\n",
              "      <th>DEP_TIME_BLK</th>\n",
              "      <th>TAXI_OUT</th>\n",
              "      <th>WHEELS_OFF</th>\n",
              "      <th>WHEELS_ON</th>\n",
              "      <th>TAXI_IN</th>\n",
              "      <th>CRS_ARR_TIME</th>\n",
              "      <th>ARR_TIME</th>\n",
              "      <th>ARR_DELAY</th>\n",
              "      <th>ARR_DELAY_NEW</th>\n",
              "      <th>ARR_DEL15</th>\n",
              "      <th>ARR_DELAY_GROUP</th>\n",
              "      <th>ARR_TIME_BLK</th>\n",
              "      <th>CANCELLED</th>\n",
              "      <th>DIVERTED</th>\n",
              "      <th>CRS_ELAPSED_TIME</th>\n",
              "      <th>ACTUAL_ELAPSED_TIME</th>\n",
              "      <th>AIR_TIME</th>\n",
              "      <th>DISTANCE</th>\n",
              "      <th>DISTANCE_GROUP</th>\n",
              "      <th>WEATHER_DELAY</th>\n",
              "      <th>NAS_DELAY</th>\n",
              "      <th>DIV_AIRPORT_LANDINGS</th>\n",
              "      <th>incident_category</th>\n",
              "      <th>City</th>\n",
              "      <th>FAA</th>\n",
              "      <th>IATA</th>\n",
              "      <th>ICAO</th>\n",
              "      <th>Airport</th>\n",
              "      <th>Role</th>\n",
              "      <th>Enplanements</th>\n",
              "      <th>Unnamed: 7</th>\n",
              "    </tr>\n",
              "  </thead>\n",
              "  <tbody>\n",
              "    <tr>\n",
              "      <th>0</th>\n",
              "      <td>2018</td>\n",
              "      <td>4</td>\n",
              "      <td>12</td>\n",
              "      <td>6</td>\n",
              "      <td>4</td>\n",
              "      <td>2018-12-06</td>\n",
              "      <td>DL</td>\n",
              "      <td>19790</td>\n",
              "      <td>DL</td>\n",
              "      <td>N67171</td>\n",
              "      <td>2454</td>\n",
              "      <td>14908</td>\n",
              "      <td>1490803</td>\n",
              "      <td>32575</td>\n",
              "      <td>SNA</td>\n",
              "      <td>Santa Ana, CA</td>\n",
              "      <td>CA</td>\n",
              "      <td>6</td>\n",
              "      <td>California</td>\n",
              "      <td>91</td>\n",
              "      <td>10397</td>\n",
              "      <td>1039707</td>\n",
              "      <td>30397</td>\n",
              "      <td>ATL</td>\n",
              "      <td>Atlanta, GA</td>\n",
              "      <td>GA</td>\n",
              "      <td>13</td>\n",
              "      <td>Georgia</td>\n",
              "      <td>34</td>\n",
              "      <td>645</td>\n",
              "      <td>0600-0659</td>\n",
              "      <td>19</td>\n",
              "      <td>714.0</td>\n",
              "      <td>1334.0</td>\n",
              "      <td>5.0</td>\n",
              "      <td>1356</td>\n",
              "      <td>1339.0</td>\n",
              "      <td>-17.0</td>\n",
              "      <td>0.0</td>\n",
              "      <td>0.0</td>\n",
              "      <td>-2.0</td>\n",
              "      <td>1300-1359</td>\n",
              "      <td>0.0</td>\n",
              "      <td>0.0</td>\n",
              "      <td>251.0</td>\n",
              "      <td>224.0</td>\n",
              "      <td>200.0</td>\n",
              "      <td>1919.0</td>\n",
              "      <td>8</td>\n",
              "      <td>NaN</td>\n",
              "      <td>NaN</td>\n",
              "      <td>0</td>\n",
              "      <td>1</td>\n",
              "      <td>Orange County</td>\n",
              "      <td>SNA</td>\n",
              "      <td>SNA</td>\n",
              "      <td>KSNA</td>\n",
              "      <td>John Wayne Airport (was Orange County Airport)</td>\n",
              "      <td>P-M</td>\n",
              "      <td>5,217,242</td>\n",
              "      <td>NaN</td>\n",
              "    </tr>\n",
              "    <tr>\n",
              "      <th>1</th>\n",
              "      <td>2018</td>\n",
              "      <td>4</td>\n",
              "      <td>12</td>\n",
              "      <td>6</td>\n",
              "      <td>4</td>\n",
              "      <td>2018-12-06</td>\n",
              "      <td>DL</td>\n",
              "      <td>19790</td>\n",
              "      <td>DL</td>\n",
              "      <td>N327DN</td>\n",
              "      <td>2455</td>\n",
              "      <td>10423</td>\n",
              "      <td>1042302</td>\n",
              "      <td>30423</td>\n",
              "      <td>AUS</td>\n",
              "      <td>Austin, TX</td>\n",
              "      <td>TX</td>\n",
              "      <td>48</td>\n",
              "      <td>Texas</td>\n",
              "      <td>74</td>\n",
              "      <td>10397</td>\n",
              "      <td>1039707</td>\n",
              "      <td>30397</td>\n",
              "      <td>ATL</td>\n",
              "      <td>Atlanta, GA</td>\n",
              "      <td>GA</td>\n",
              "      <td>13</td>\n",
              "      <td>Georgia</td>\n",
              "      <td>34</td>\n",
              "      <td>700</td>\n",
              "      <td>0700-0759</td>\n",
              "      <td>12</td>\n",
              "      <td>708.0</td>\n",
              "      <td>945.0</td>\n",
              "      <td>6.0</td>\n",
              "      <td>1008</td>\n",
              "      <td>951.0</td>\n",
              "      <td>-17.0</td>\n",
              "      <td>0.0</td>\n",
              "      <td>0.0</td>\n",
              "      <td>-2.0</td>\n",
              "      <td>1000-1059</td>\n",
              "      <td>0.0</td>\n",
              "      <td>0.0</td>\n",
              "      <td>128.0</td>\n",
              "      <td>115.0</td>\n",
              "      <td>97.0</td>\n",
              "      <td>813.0</td>\n",
              "      <td>4</td>\n",
              "      <td>NaN</td>\n",
              "      <td>NaN</td>\n",
              "      <td>0</td>\n",
              "      <td>0</td>\n",
              "      <td>Austin</td>\n",
              "      <td>AUS</td>\n",
              "      <td>AUS</td>\n",
              "      <td>KAUS</td>\n",
              "      <td>Austin-Bergstrom International Airport</td>\n",
              "      <td>P-M</td>\n",
              "      <td>6,095,545</td>\n",
              "      <td>NaN</td>\n",
              "    </tr>\n",
              "    <tr>\n",
              "      <th>2</th>\n",
              "      <td>2018</td>\n",
              "      <td>4</td>\n",
              "      <td>12</td>\n",
              "      <td>6</td>\n",
              "      <td>4</td>\n",
              "      <td>2018-12-06</td>\n",
              "      <td>DL</td>\n",
              "      <td>19790</td>\n",
              "      <td>DL</td>\n",
              "      <td>N327NW</td>\n",
              "      <td>2456</td>\n",
              "      <td>12478</td>\n",
              "      <td>1247805</td>\n",
              "      <td>31703</td>\n",
              "      <td>JFK</td>\n",
              "      <td>New York, NY</td>\n",
              "      <td>NY</td>\n",
              "      <td>36</td>\n",
              "      <td>New York</td>\n",
              "      <td>22</td>\n",
              "      <td>11697</td>\n",
              "      <td>1169706</td>\n",
              "      <td>32467</td>\n",
              "      <td>FLL</td>\n",
              "      <td>Fort Lauderdale, FL</td>\n",
              "      <td>FL</td>\n",
              "      <td>12</td>\n",
              "      <td>Florida</td>\n",
              "      <td>33</td>\n",
              "      <td>1133</td>\n",
              "      <td>1100-1159</td>\n",
              "      <td>25</td>\n",
              "      <td>1154.0</td>\n",
              "      <td>1426.0</td>\n",
              "      <td>3.0</td>\n",
              "      <td>1449</td>\n",
              "      <td>1429.0</td>\n",
              "      <td>-20.0</td>\n",
              "      <td>0.0</td>\n",
              "      <td>0.0</td>\n",
              "      <td>-2.0</td>\n",
              "      <td>1400-1459</td>\n",
              "      <td>0.0</td>\n",
              "      <td>0.0</td>\n",
              "      <td>196.0</td>\n",
              "      <td>180.0</td>\n",
              "      <td>152.0</td>\n",
              "      <td>1069.0</td>\n",
              "      <td>5</td>\n",
              "      <td>NaN</td>\n",
              "      <td>NaN</td>\n",
              "      <td>0</td>\n",
              "      <td>1</td>\n",
              "      <td>New York</td>\n",
              "      <td>JFK</td>\n",
              "      <td>JFK</td>\n",
              "      <td>KJFK</td>\n",
              "      <td>John F. Kennedy International Airport (was New...</td>\n",
              "      <td>P-L</td>\n",
              "      <td>29,533,154</td>\n",
              "      <td>NaN</td>\n",
              "    </tr>\n",
              "    <tr>\n",
              "      <th>3</th>\n",
              "      <td>2018</td>\n",
              "      <td>4</td>\n",
              "      <td>12</td>\n",
              "      <td>6</td>\n",
              "      <td>4</td>\n",
              "      <td>2018-12-06</td>\n",
              "      <td>DL</td>\n",
              "      <td>19790</td>\n",
              "      <td>DL</td>\n",
              "      <td>N904DN</td>\n",
              "      <td>2457</td>\n",
              "      <td>10397</td>\n",
              "      <td>1039707</td>\n",
              "      <td>30397</td>\n",
              "      <td>ATL</td>\n",
              "      <td>Atlanta, GA</td>\n",
              "      <td>GA</td>\n",
              "      <td>13</td>\n",
              "      <td>Georgia</td>\n",
              "      <td>34</td>\n",
              "      <td>10529</td>\n",
              "      <td>1052906</td>\n",
              "      <td>30529</td>\n",
              "      <td>BDL</td>\n",
              "      <td>Hartford, CT</td>\n",
              "      <td>CT</td>\n",
              "      <td>9</td>\n",
              "      <td>Connecticut</td>\n",
              "      <td>11</td>\n",
              "      <td>727</td>\n",
              "      <td>0700-0759</td>\n",
              "      <td>29</td>\n",
              "      <td>753.0</td>\n",
              "      <td>941.0</td>\n",
              "      <td>3.0</td>\n",
              "      <td>941</td>\n",
              "      <td>944.0</td>\n",
              "      <td>3.0</td>\n",
              "      <td>3.0</td>\n",
              "      <td>0.0</td>\n",
              "      <td>0.0</td>\n",
              "      <td>0900-0959</td>\n",
              "      <td>0.0</td>\n",
              "      <td>0.0</td>\n",
              "      <td>134.0</td>\n",
              "      <td>140.0</td>\n",
              "      <td>108.0</td>\n",
              "      <td>859.0</td>\n",
              "      <td>4</td>\n",
              "      <td>NaN</td>\n",
              "      <td>NaN</td>\n",
              "      <td>0</td>\n",
              "      <td>1</td>\n",
              "      <td>Atlanta</td>\n",
              "      <td>ATL</td>\n",
              "      <td>ATL</td>\n",
              "      <td>KATL</td>\n",
              "      <td>Hartsfield–Jackson Atlanta International Airport</td>\n",
              "      <td>P-L</td>\n",
              "      <td>50,501,858</td>\n",
              "      <td>NaN</td>\n",
              "    </tr>\n",
              "    <tr>\n",
              "      <th>4</th>\n",
              "      <td>2018</td>\n",
              "      <td>4</td>\n",
              "      <td>12</td>\n",
              "      <td>6</td>\n",
              "      <td>4</td>\n",
              "      <td>2018-12-06</td>\n",
              "      <td>DL</td>\n",
              "      <td>19790</td>\n",
              "      <td>DL</td>\n",
              "      <td>N904DN</td>\n",
              "      <td>2457</td>\n",
              "      <td>10529</td>\n",
              "      <td>1052906</td>\n",
              "      <td>30529</td>\n",
              "      <td>BDL</td>\n",
              "      <td>Hartford, CT</td>\n",
              "      <td>CT</td>\n",
              "      <td>9</td>\n",
              "      <td>Connecticut</td>\n",
              "      <td>11</td>\n",
              "      <td>10397</td>\n",
              "      <td>1039707</td>\n",
              "      <td>30397</td>\n",
              "      <td>ATL</td>\n",
              "      <td>Atlanta, GA</td>\n",
              "      <td>GA</td>\n",
              "      <td>13</td>\n",
              "      <td>Georgia</td>\n",
              "      <td>34</td>\n",
              "      <td>1039</td>\n",
              "      <td>1000-1059</td>\n",
              "      <td>8</td>\n",
              "      <td>1042.0</td>\n",
              "      <td>1254.0</td>\n",
              "      <td>6.0</td>\n",
              "      <td>1325</td>\n",
              "      <td>1300.0</td>\n",
              "      <td>-25.0</td>\n",
              "      <td>0.0</td>\n",
              "      <td>0.0</td>\n",
              "      <td>-2.0</td>\n",
              "      <td>1300-1359</td>\n",
              "      <td>0.0</td>\n",
              "      <td>0.0</td>\n",
              "      <td>166.0</td>\n",
              "      <td>146.0</td>\n",
              "      <td>132.0</td>\n",
              "      <td>859.0</td>\n",
              "      <td>4</td>\n",
              "      <td>NaN</td>\n",
              "      <td>NaN</td>\n",
              "      <td>0</td>\n",
              "      <td>0</td>\n",
              "      <td>Hartford</td>\n",
              "      <td>BDL</td>\n",
              "      <td>BDL</td>\n",
              "      <td>KBDL</td>\n",
              "      <td>Bradley International Airport</td>\n",
              "      <td>P-M</td>\n",
              "      <td>2,982,194</td>\n",
              "      <td>NaN</td>\n",
              "    </tr>\n",
              "  </tbody>\n",
              "</table>\n",
              "</div>"
            ],
            "text/plain": [
              "   YEAR  QUARTER  MONTH  ...  Role  Enplanements Unnamed: 7\n",
              "0  2018        4     12  ...   P-M     5,217,242        NaN\n",
              "1  2018        4     12  ...   P-M     6,095,545        NaN\n",
              "2  2018        4     12  ...   P-L    29,533,154        NaN\n",
              "3  2018        4     12  ...   P-L    50,501,858        NaN\n",
              "4  2018        4     12  ...   P-M     2,982,194        NaN\n",
              "\n",
              "[5 rows x 61 columns]"
            ]
          },
          "metadata": {
            "tags": []
          },
          "execution_count": 12
        }
      ]
    },
    {
      "cell_type": "code",
      "metadata": {
        "id": "vSqXbXqTGtFc",
        "colab_type": "code",
        "outputId": "0793d281-f8a6-4856-fa3d-3009f4d7caaf",
        "colab": {
          "base_uri": "https://localhost:8080/",
          "height": 35
        }
      },
      "source": [
        "seq_new.shape"
      ],
      "execution_count": 0,
      "outputs": [
        {
          "output_type": "execute_result",
          "data": {
            "text/plain": [
              "(7989942, 56)"
            ]
          },
          "metadata": {
            "tags": []
          },
          "execution_count": 13
        }
      ]
    },
    {
      "cell_type": "code",
      "metadata": {
        "id": "u0ezqa48J9Dr",
        "colab_type": "code",
        "colab": {}
      },
      "source": [
        "seq_new['FL_DATE'] = pd.to_datetime(seq_new['FL_DATE'])"
      ],
      "execution_count": 0,
      "outputs": []
    },
    {
      "cell_type": "code",
      "metadata": {
        "id": "2tbwuQQTVRK2",
        "colab_type": "code",
        "outputId": "8a0a2dd8-ddc7-40c7-d8e9-773ec756ef56",
        "colab": {
          "base_uri": "https://localhost:8080/",
          "height": 119
        }
      },
      "source": [
        "seq_new['CRS_DEP_TIME'].head()"
      ],
      "execution_count": 0,
      "outputs": [
        {
          "output_type": "execute_result",
          "data": {
            "text/plain": [
              "0     645\n",
              "1     700\n",
              "2    1133\n",
              "3     727\n",
              "4    1039\n",
              "Name: CRS_DEP_TIME, dtype: int64"
            ]
          },
          "metadata": {
            "tags": []
          },
          "execution_count": 14
        }
      ]
    },
    {
      "cell_type": "code",
      "metadata": {
        "id": "ETFY0ECubOTo",
        "colab_type": "code",
        "colab": {}
      },
      "source": [
        "t1 = seq_new['CRS_DEP_TIME'].astype(str).str.zfill(6)\n",
        "seq_new['CRS_DEP_TIME'] =t1.str[2:4] + ':' + t1.str[4:6] + ':' + t1.str[0:2]"
      ],
      "execution_count": 0,
      "outputs": []
    },
    {
      "cell_type": "code",
      "metadata": {
        "id": "3i6z4H_6cD4M",
        "colab_type": "code",
        "outputId": "edd17ca4-53f9-4c75-b132-1d42b82f593c",
        "colab": {
          "base_uri": "https://localhost:8080/",
          "height": 124
        }
      },
      "source": [
        "seq_new['CRS_DEP_TIME'].head()"
      ],
      "execution_count": 0,
      "outputs": [
        {
          "output_type": "execute_result",
          "data": {
            "text/plain": [
              "0    06:45:00\n",
              "1    07:00:00\n",
              "2    11:33:00\n",
              "3    07:27:00\n",
              "4    10:39:00\n",
              "Name: CRS_DEP_TIME, dtype: object"
            ]
          },
          "metadata": {
            "tags": []
          },
          "execution_count": 15
        }
      ]
    },
    {
      "cell_type": "code",
      "metadata": {
        "id": "Pld_oprUcw5a",
        "colab_type": "code",
        "colab": {}
      },
      "source": [
        "seq_new['CRS_DEP_TIME'] = pd.to_datetime(seq_new['CRS_DEP_TIME'])"
      ],
      "execution_count": 0,
      "outputs": []
    },
    {
      "cell_type": "code",
      "metadata": {
        "id": "kGjSXn6icwzK",
        "colab_type": "code",
        "outputId": "0ae75c37-e0f6-49aa-9d53-7611f86d239d",
        "colab": {
          "base_uri": "https://localhost:8080/",
          "height": 119
        }
      },
      "source": [
        "seq_new['CRS_DEP_TIME'].head()"
      ],
      "execution_count": 0,
      "outputs": [
        {
          "output_type": "execute_result",
          "data": {
            "text/plain": [
              "0   2020-02-11 06:45:00\n",
              "1   2020-02-11 07:00:00\n",
              "2   2020-02-11 11:33:00\n",
              "3   2020-02-11 07:27:00\n",
              "4   2020-02-11 10:39:00\n",
              "Name: CRS_DEP_TIME, dtype: datetime64[ns]"
            ]
          },
          "metadata": {
            "tags": []
          },
          "execution_count": 17
        }
      ]
    },
    {
      "cell_type": "code",
      "metadata": {
        "id": "FOPdkFv6fMlb",
        "colab_type": "code",
        "colab": {}
      },
      "source": [
        "from datetime import datetime , timedelta"
      ],
      "execution_count": 0,
      "outputs": []
    },
    {
      "cell_type": "code",
      "metadata": {
        "id": "9-4ig0u_cwoK",
        "colab_type": "code",
        "colab": {}
      },
      "source": [
        "seq_new['proposed_pred_time'] = seq_new['CRS_DEP_TIME'] - timedelta(hours=4, minutes=0)"
      ],
      "execution_count": 0,
      "outputs": []
    },
    {
      "cell_type": "code",
      "metadata": {
        "id": "2TC4Cc5sfN_O",
        "colab_type": "code",
        "outputId": "bdb353c3-088d-4fca-8e6d-a4925fee3ff3",
        "colab": {
          "base_uri": "https://localhost:8080/",
          "height": 119
        }
      },
      "source": [
        "seq_new['proposed_pred_time'].head()"
      ],
      "execution_count": 0,
      "outputs": [
        {
          "output_type": "execute_result",
          "data": {
            "text/plain": [
              "0   2020-02-11 02:45:00\n",
              "1   2020-02-11 03:00:00\n",
              "2   2020-02-11 07:33:00\n",
              "3   2020-02-11 03:27:00\n",
              "4   2020-02-11 06:39:00\n",
              "Name: proposed_pred_time, dtype: datetime64[ns]"
            ]
          },
          "metadata": {
            "tags": []
          },
          "execution_count": 20
        }
      ]
    },
    {
      "cell_type": "code",
      "metadata": {
        "id": "ZkVW0jl5gzQK",
        "colab_type": "code",
        "colab": {}
      },
      "source": [
        "seq_new['proposed_pred_time'] = seq_new['proposed_pred_time'].dt.round('H')"
      ],
      "execution_count": 0,
      "outputs": []
    },
    {
      "cell_type": "code",
      "metadata": {
        "id": "6-ksdMFYfN8P",
        "colab_type": "code",
        "outputId": "48e69b70-4f84-46a4-f153-fec43cd6edc1",
        "colab": {
          "base_uri": "https://localhost:8080/",
          "height": 119
        }
      },
      "source": [
        "seq_new['proposed_pred_time'].head()"
      ],
      "execution_count": 0,
      "outputs": [
        {
          "output_type": "execute_result",
          "data": {
            "text/plain": [
              "0   2020-02-11 03:00:00\n",
              "1   2020-02-11 03:00:00\n",
              "2   2020-02-11 08:00:00\n",
              "3   2020-02-11 03:00:00\n",
              "4   2020-02-11 07:00:00\n",
              "Name: proposed_pred_time, dtype: datetime64[ns]"
            ]
          },
          "metadata": {
            "tags": []
          },
          "execution_count": 22
        }
      ]
    },
    {
      "cell_type": "code",
      "metadata": {
        "id": "36OY-uM4fN5B",
        "colab_type": "code",
        "colab": {}
      },
      "source": [
        "seq_new['proposed_pred_time'] = pd.Series([val.time() for val in seq_new['proposed_pred_time']])"
      ],
      "execution_count": 0,
      "outputs": []
    },
    {
      "cell_type": "code",
      "metadata": {
        "id": "iVo0MWnrh1-J",
        "colab_type": "code",
        "outputId": "c6a4e05c-95b7-44f3-9d2f-50a62dddb51f",
        "colab": {
          "base_uri": "https://localhost:8080/",
          "height": 119
        }
      },
      "source": [
        "seq_new['proposed_pred_time'].head()"
      ],
      "execution_count": 0,
      "outputs": [
        {
          "output_type": "execute_result",
          "data": {
            "text/plain": [
              "0    03:00:00\n",
              "1    03:00:00\n",
              "2    08:00:00\n",
              "3    03:00:00\n",
              "4    07:00:00\n",
              "Name: proposed_pred_time, dtype: object"
            ]
          },
          "metadata": {
            "tags": []
          },
          "execution_count": 24
        }
      ]
    },
    {
      "cell_type": "code",
      "metadata": {
        "id": "liIXACBllGpC",
        "colab_type": "code",
        "colab": {}
      },
      "source": [
        "seq_new['FL_DATE'] = seq_new['FL_DATE'].dt.date"
      ],
      "execution_count": 0,
      "outputs": []
    },
    {
      "cell_type": "code",
      "metadata": {
        "id": "m5nEkj_Ch1vJ",
        "colab_type": "code",
        "colab": {}
      },
      "source": [
        "seq_new['dts'] = seq_new['FL_DATE'].map(str)  + \" \" + seq_new['proposed_pred_time'].map(str)"
      ],
      "execution_count": 0,
      "outputs": []
    },
    {
      "cell_type": "code",
      "metadata": {
        "id": "_KNjFvHmh1ah",
        "colab_type": "code",
        "outputId": "09bb022e-e6dc-46d9-acce-947aafd90d8e",
        "colab": {
          "base_uri": "https://localhost:8080/",
          "height": 119
        }
      },
      "source": [
        "seq_new['dts'].head()"
      ],
      "execution_count": 0,
      "outputs": [
        {
          "output_type": "execute_result",
          "data": {
            "text/plain": [
              "0    2018-12-06 03:00:00\n",
              "1    2018-12-06 03:00:00\n",
              "2    2018-12-06 08:00:00\n",
              "3    2018-12-06 03:00:00\n",
              "4    2018-12-06 07:00:00\n",
              "Name: dts, dtype: object"
            ]
          },
          "metadata": {
            "tags": []
          },
          "execution_count": 27
        }
      ]
    },
    {
      "cell_type": "code",
      "metadata": {
        "id": "qVpGqoP2h5vZ",
        "colab_type": "code",
        "colab": {}
      },
      "source": [
        "seq_new['dts'] = pd.to_datetime(seq_new['dts'])"
      ],
      "execution_count": 0,
      "outputs": []
    },
    {
      "cell_type": "code",
      "metadata": {
        "id": "gp6Es4ZIh5ih",
        "colab_type": "code",
        "outputId": "d7a30a77-51cb-4f21-eaae-ab3ec93bfaed",
        "colab": {
          "base_uri": "https://localhost:8080/",
          "height": 119
        }
      },
      "source": [
        "seq_new['dts'].head()"
      ],
      "execution_count": 0,
      "outputs": [
        {
          "output_type": "execute_result",
          "data": {
            "text/plain": [
              "0   2018-12-06 03:00:00\n",
              "1   2018-12-06 03:00:00\n",
              "2   2018-12-06 08:00:00\n",
              "3   2018-12-06 03:00:00\n",
              "4   2018-12-06 07:00:00\n",
              "Name: dts, dtype: datetime64[ns]"
            ]
          },
          "metadata": {
            "tags": []
          },
          "execution_count": 29
        }
      ]
    },
    {
      "cell_type": "code",
      "metadata": {
        "id": "j9vFWoqDn_eh",
        "colab_type": "code",
        "outputId": "1f099321-613e-4583-d479-1f25fa5cb19c",
        "colab": {
          "base_uri": "https://localhost:8080/",
          "height": 34
        }
      },
      "source": [
        "seq_new.shape"
      ],
      "execution_count": 0,
      "outputs": [
        {
          "output_type": "execute_result",
          "data": {
            "text/plain": [
              "(7989942, 73)"
            ]
          },
          "metadata": {
            "tags": []
          },
          "execution_count": 30
        }
      ]
    },
    {
      "cell_type": "code",
      "metadata": {
        "id": "7ZdUDumKZ2Et",
        "colab_type": "code",
        "colab": {}
      },
      "source": [
        "seq_new['icao_x_dts'] = seq_new['ICAO'].map(str)  + \"x\" + seq_new['dts'].map(str)"
      ],
      "execution_count": 0,
      "outputs": []
    },
    {
      "cell_type": "code",
      "metadata": {
        "id": "XZF_j1wJNkYg",
        "colab_type": "code",
        "outputId": "4428ff59-0513-4099-e1e5-42a272c32a94",
        "colab": {
          "base_uri": "https://localhost:8080/",
          "height": 119
        }
      },
      "source": [
        "seq_new['icao_x_dts'].head()"
      ],
      "execution_count": 0,
      "outputs": [
        {
          "output_type": "execute_result",
          "data": {
            "text/plain": [
              "0    KSNAx2018-12-06 03:00:00\n",
              "1    KAUSx2018-12-06 03:00:00\n",
              "2    KJFKx2018-12-06 08:00:00\n",
              "3    KATLx2018-12-06 03:00:00\n",
              "4    KBDLx2018-12-06 07:00:00\n",
              "Name: icao_x_dts, dtype: object"
            ]
          },
          "metadata": {
            "tags": []
          },
          "execution_count": 32
        }
      ]
    },
    {
      "cell_type": "code",
      "metadata": {
        "id": "vRoBjxjAAD2G",
        "colab_type": "code",
        "outputId": "ca405a21-bad5-415b-ea84-b54a98f4ab1e",
        "colab": {
          "base_uri": "https://localhost:8080/",
          "height": 124
        }
      },
      "source": [
        "seq_new['icao_x_dts'].tail()"
      ],
      "execution_count": 0,
      "outputs": [
        {
          "output_type": "execute_result",
          "data": {
            "text/plain": [
              "7989937    KBURx2019-09-19 07:00:00\n",
              "7989938    KBURx2019-09-19 05:00:00\n",
              "7989939    KBURx2019-09-19 17:00:00\n",
              "7989940    KBURx2019-09-19 12:00:00\n",
              "7989941    KBURx2019-09-19 17:00:00\n",
              "Name: icao_x_dts, dtype: object"
            ]
          },
          "metadata": {
            "tags": []
          },
          "execution_count": 34
        }
      ]
    },
    {
      "cell_type": "code",
      "metadata": {
        "id": "GIYPZ3OaRR3-",
        "colab_type": "code",
        "outputId": "3ab04f42-1b59-46f9-bd36-277919374caa",
        "colab": {
          "base_uri": "https://localhost:8080/",
          "height": 604
        }
      },
      "source": [
        "seq_new[seq_new.columns[1:]].corr()['TAXI_OUT'][:]"
      ],
      "execution_count": 0,
      "outputs": [
        {
          "output_type": "execute_result",
          "data": {
            "text/plain": [
              "QUARTER                 -0.005338\n",
              "MONTH                   -0.005135\n",
              "DAY_OF_MONTH            -0.003316\n",
              "DAY_OF_WEEK             -0.013921\n",
              "OP_CARRIER_AIRLINE_ID    0.195813\n",
              "OP_CARRIER_FL_NUM        0.073864\n",
              "ORIGIN_STATE_FIPS        0.050811\n",
              "DEST_AIRPORT_ID          0.014631\n",
              "DEST_AIRPORT_SEQ_ID      0.014631\n",
              "DEST_CITY_MARKET_ID      0.035205\n",
              "DEST_STATE_FIPS          0.022894\n",
              "TAXI_OUT                 1.000000\n",
              "WHEELS_OFF               0.039882\n",
              "WHEELS_ON                0.030273\n",
              "TAXI_IN                  0.022186\n",
              "CRS_ARR_TIME             0.022270\n",
              "ARR_TIME                 0.026902\n",
              "ARR_DELAY                0.219324\n",
              "ARR_DELAY_NEW            0.179659\n",
              "ARR_DEL15                0.283684\n",
              "ARR_DELAY_GROUP          0.279611\n",
              "CANCELLED               -0.225438\n",
              "DIVERTED                 0.015980\n",
              "CRS_ELAPSED_TIME         0.086239\n",
              "ACTUAL_ELAPSED_TIME      0.191964\n",
              "AIR_TIME                 0.054908\n",
              "DISTANCE                 0.044462\n",
              "DISTANCE_GROUP           0.043041\n",
              "WEATHER_DELAY            0.027046\n",
              "NAS_DELAY                0.289247\n",
              "DIV_AIRPORT_LANDINGS     0.012005\n",
              "incident_category        0.694261\n",
              "Name: TAXI_OUT, dtype: float64"
            ]
          },
          "metadata": {
            "tags": []
          },
          "execution_count": 27
        }
      ]
    },
    {
      "cell_type": "code",
      "metadata": {
        "id": "lUPXEVyT2M6q",
        "colab_type": "code",
        "outputId": "e05963a0-5335-4756-f308-bf1203fc33d2",
        "colab": {
          "base_uri": "https://localhost:8080/",
          "height": 163
        }
      },
      "source": [
        "seq_new.drop(axis=1, inplace=True,columns=['WEATHER_DELAY','NAS_DELAY',])"
      ],
      "execution_count": 0,
      "outputs": [
        {
          "output_type": "error",
          "ename": "NameError",
          "evalue": "ignored",
          "traceback": [
            "\u001b[0;31m---------------------------------------------------------------------------\u001b[0m",
            "\u001b[0;31mNameError\u001b[0m                                 Traceback (most recent call last)",
            "\u001b[0;32m<ipython-input-1-eb27333e88d9>\u001b[0m in \u001b[0;36m<module>\u001b[0;34m()\u001b[0m\n\u001b[0;32m----> 1\u001b[0;31m \u001b[0mseq_new\u001b[0m\u001b[0;34m.\u001b[0m\u001b[0mdrop\u001b[0m\u001b[0;34m(\u001b[0m\u001b[0maxis\u001b[0m\u001b[0;34m=\u001b[0m\u001b[0;36m1\u001b[0m\u001b[0;34m,\u001b[0m \u001b[0minplace\u001b[0m\u001b[0;34m=\u001b[0m\u001b[0;32mTrue\u001b[0m\u001b[0;34m,\u001b[0m\u001b[0mcolumns\u001b[0m\u001b[0;34m=\u001b[0m\u001b[0;34m[\u001b[0m\u001b[0;34m'WEATHER_DELAY'\u001b[0m\u001b[0;34m,\u001b[0m\u001b[0;34m'NAS_DELAY'\u001b[0m\u001b[0;34m,\u001b[0m\u001b[0;34m]\u001b[0m\u001b[0;34m)\u001b[0m\u001b[0;34m\u001b[0m\u001b[0;34m\u001b[0m\u001b[0m\n\u001b[0m",
            "\u001b[0;31mNameError\u001b[0m: name 'seq_new' is not defined"
          ]
        }
      ]
    },
    {
      "cell_type": "code",
      "metadata": {
        "id": "bqf07gFDRmmF",
        "colab_type": "code",
        "outputId": "218c59b4-0c09-499a-d34e-daf21be443a4",
        "colab": {
          "base_uri": "https://localhost:8080/",
          "height": 851
        }
      },
      "source": [
        "plt.figure(figsize=(25,12))\n",
        "sns.heatmap(seq_new.corr(), annot=True)"
      ],
      "execution_count": 0,
      "outputs": [
        {
          "output_type": "execute_result",
          "data": {
            "text/plain": [
              "<matplotlib.axes._subplots.AxesSubplot at 0x7f7a41306080>"
            ]
          },
          "metadata": {
            "tags": []
          },
          "execution_count": 36
        },
        {
          "output_type": "display_data",
          "data": {
            "image/png": "[encoded data removed]",
            "text/plain": [
              "<Figure size 1800x864 with 2 Axes>"
            ]
          },
          "metadata": {
            "tags": []
          }
        }
      ]
    },
    {
      "cell_type": "markdown",
      "metadata": {
        "id": "LHEyTy8yBSkm",
        "colab_type": "text"
      },
      "source": [
        "#Adding Weather Data"
      ]
    },
    {
      "cell_type": "code",
      "metadata": {
        "id": "ZzxWHt72KaSG",
        "colab_type": "code",
        "outputId": "96fcf346-434b-486f-ea41-da36906d0bbe",
        "colab": {
          "base_uri": "https://localhost:8080/",
          "height": 231
        }
      },
      "source": [
        "nov_18 = pd.read_csv('/content/drive/My Drive/Octave/SeqHub_Airline/nov_18.csv',parse_dates=['Date'])\n",
        "nov_18.head()"
      ],
      "execution_count": 0,
      "outputs": [
        {
          "output_type": "stream",
          "text": [
            "/usr/local/lib/python3.6/dist-packages/IPython/core/interactiveshell.py:2718: DtypeWarning: Columns (0,1,2,3,4,6,7,8,9,11) have mixed types. Specify dtype option on import or set low_memory=False.\n",
            "  interactivity=interactivity, compiler=compiler, result=result)\n"
          ],
          "name": "stderr"
        },
        {
          "output_type": "execute_result",
          "data": {
            "text/html": [
              "<div>\n",
              "<style scoped>\n",
              "    .dataframe tbody tr th:only-of-type {\n",
              "        vertical-align: middle;\n",
              "    }\n",
              "\n",
              "    .dataframe tbody tr th {\n",
              "        vertical-align: top;\n",
              "    }\n",
              "\n",
              "    .dataframe thead th {\n",
              "        text-align: right;\n",
              "    }\n",
              "</style>\n",
              "<table border=\"1\" class=\"dataframe\">\n",
              "  <thead>\n",
              "    <tr style=\"text-align: right;\">\n",
              "      <th></th>\n",
              "      <th>Weather_Type</th>\n",
              "      <th>ICAO</th>\n",
              "      <th>Zulu Time</th>\n",
              "      <th>Wind Drection</th>\n",
              "      <th>Prevailing Visisbility</th>\n",
              "      <th>Cloud coverage (Oktas)</th>\n",
              "      <th>Broken Cloud layer</th>\n",
              "      <th>Altimeter</th>\n",
              "      <th>Barometric Pressure</th>\n",
              "      <th>Temp/Dew point</th>\n",
              "      <th>Date</th>\n",
              "      <th>Time</th>\n",
              "    </tr>\n",
              "  </thead>\n",
              "  <tbody>\n",
              "    <tr>\n",
              "      <th>0</th>\n",
              "      <td>METAR</td>\n",
              "      <td>KBHM</td>\n",
              "      <td>312353Z</td>\n",
              "      <td>15006KT</td>\n",
              "      <td>10SM</td>\n",
              "      <td>FEW050</td>\n",
              "      <td>BKN250</td>\n",
              "      <td>A2999</td>\n",
              "      <td>SLP151</td>\n",
              "      <td>T02330167</td>\n",
              "      <td>2018-10-31</td>\n",
              "      <td>11:53:00 PM</td>\n",
              "    </tr>\n",
              "    <tr>\n",
              "      <th>1</th>\n",
              "      <td>METAR</td>\n",
              "      <td>KBHM</td>\n",
              "      <td>312253Z</td>\n",
              "      <td>15004KT</td>\n",
              "      <td>10SM</td>\n",
              "      <td>SCT050</td>\n",
              "      <td>BKN250</td>\n",
              "      <td>A2999</td>\n",
              "      <td>SLP150</td>\n",
              "      <td>T02440156</td>\n",
              "      <td>2018-10-31</td>\n",
              "      <td>10:53:00 PM</td>\n",
              "    </tr>\n",
              "    <tr>\n",
              "      <th>2</th>\n",
              "      <td>METAR</td>\n",
              "      <td>KBHM</td>\n",
              "      <td>312153Z</td>\n",
              "      <td>17011KT</td>\n",
              "      <td>10SM</td>\n",
              "      <td>FEW045</td>\n",
              "      <td>BKN250</td>\n",
              "      <td>A3001</td>\n",
              "      <td>SLP154</td>\n",
              "      <td>T02560150</td>\n",
              "      <td>2018-10-31</td>\n",
              "      <td>9:53:00 PM</td>\n",
              "    </tr>\n",
              "    <tr>\n",
              "      <th>3</th>\n",
              "      <td>METAR</td>\n",
              "      <td>KBHM</td>\n",
              "      <td>312053Z</td>\n",
              "      <td>18011KT</td>\n",
              "      <td>10SM</td>\n",
              "      <td>SCT046</td>\n",
              "      <td>BKN250</td>\n",
              "      <td>A3001</td>\n",
              "      <td>SLP156</td>\n",
              "      <td>T02720150</td>\n",
              "      <td>2018-10-31</td>\n",
              "      <td>8:53:00 PM</td>\n",
              "    </tr>\n",
              "    <tr>\n",
              "      <th>4</th>\n",
              "      <td>METAR</td>\n",
              "      <td>KBHM</td>\n",
              "      <td>311953Z</td>\n",
              "      <td>16009KT</td>\n",
              "      <td>10SM</td>\n",
              "      <td>SCT045</td>\n",
              "      <td>BKN250</td>\n",
              "      <td>A3002</td>\n",
              "      <td>SLP160</td>\n",
              "      <td>T02720161</td>\n",
              "      <td>2018-10-31</td>\n",
              "      <td>7:53:00 PM</td>\n",
              "    </tr>\n",
              "  </tbody>\n",
              "</table>\n",
              "</div>"
            ],
            "text/plain": [
              "  Weather_Type  ICAO Zulu Time  ... Temp/Dew point       Date         Time\n",
              "0        METAR  KBHM   312353Z  ...      T02330167 2018-10-31  11:53:00 PM\n",
              "1        METAR  KBHM   312253Z  ...      T02440156 2018-10-31  10:53:00 PM\n",
              "2        METAR  KBHM   312153Z  ...      T02560150 2018-10-31   9:53:00 PM\n",
              "3        METAR  KBHM   312053Z  ...      T02720150 2018-10-31   8:53:00 PM\n",
              "4        METAR  KBHM   311953Z  ...      T02720161 2018-10-31   7:53:00 PM\n",
              "\n",
              "[5 rows x 12 columns]"
            ]
          },
          "metadata": {
            "tags": []
          },
          "execution_count": 25
        }
      ]
    },
    {
      "cell_type": "code",
      "metadata": {
        "id": "MPx5ZmTfC754",
        "colab_type": "code",
        "outputId": "433d384c-8301-49cf-db46-31caad84382b",
        "colab": {
          "base_uri": "https://localhost:8080/",
          "height": 256
        }
      },
      "source": [
        "oct_19 = pd.read_csv('/content/drive/My Drive/Octave/SeqHub_Airline/oct_19.csv',parse_dates=['DATE'],)\n",
        "oct_19.head"
      ],
      "execution_count": 0,
      "outputs": [
        {
          "output_type": "execute_result",
          "data": {
            "text/plain": [
              "<bound method NDFrame.head of            Weather_type ICAO CODES  ...       DATE         TIME\n",
              "0                 METAR       KBHM  ... 2019-10-31  11:53:00 PM\n",
              "1                 METAR       KBHM  ... 2019-10-31  10:53:00 PM\n",
              "2                 METAR       KBHM  ... 2019-10-31   9:53:00 PM\n",
              "3                 METAR       KBHM  ... 2019-10-31   8:53:00 PM\n",
              "4                 METAR       KBHM  ... 2019-10-31   7:53:00 PM\n",
              "...                 ...        ...  ...        ...          ...\n",
              "15703             METAR       PAKN  ... 2019-10-15   5:54:00 AM\n",
              "15704             METAR       PAKN  ... 2019-10-15   4:54:00 AM\n",
              "15705             METAR       PAKN  ... 2019-10-15   3:54:00 AM\n",
              "15706             METAR       PAKN  ... 2019-10-15   2:54:00 AM\n",
              "15707  METAR   07/01          PAKN  ...        NaT          NaN\n",
              "\n",
              "[15708 rows x 12 columns]>"
            ]
          },
          "metadata": {
            "tags": []
          },
          "execution_count": 26
        }
      ]
    },
    {
      "cell_type": "code",
      "metadata": {
        "id": "1ess9admDPiY",
        "colab_type": "code",
        "outputId": "d571b508-a7e2-4b50-a830-9703c535a85d",
        "colab": {
          "base_uri": "https://localhost:8080/",
          "height": 197
        }
      },
      "source": [
        "apr_19 = pd.read_csv('/content/drive/My Drive/Octave/SeqHub_Airline/april_19.csv',parse_dates=['Date'])\n",
        "apr_19.head()"
      ],
      "execution_count": 0,
      "outputs": [
        {
          "output_type": "execute_result",
          "data": {
            "text/html": [
              "<div>\n",
              "<style scoped>\n",
              "    .dataframe tbody tr th:only-of-type {\n",
              "        vertical-align: middle;\n",
              "    }\n",
              "\n",
              "    .dataframe tbody tr th {\n",
              "        vertical-align: top;\n",
              "    }\n",
              "\n",
              "    .dataframe thead th {\n",
              "        text-align: right;\n",
              "    }\n",
              "</style>\n",
              "<table border=\"1\" class=\"dataframe\">\n",
              "  <thead>\n",
              "    <tr style=\"text-align: right;\">\n",
              "      <th></th>\n",
              "      <th>Weather_Type</th>\n",
              "      <th>ICAO</th>\n",
              "      <th>Zulu Time</th>\n",
              "      <th>Wind Drection</th>\n",
              "      <th>Prevailing Visisbility</th>\n",
              "      <th>Cloud coverage (Oktas)</th>\n",
              "      <th>Broken Cloud layer</th>\n",
              "      <th>Altimeter</th>\n",
              "      <th>Barometric Pressure</th>\n",
              "      <th>Temp/Dew point</th>\n",
              "      <th>Date</th>\n",
              "      <th>Time</th>\n",
              "    </tr>\n",
              "  </thead>\n",
              "  <tbody>\n",
              "    <tr>\n",
              "      <th>0</th>\n",
              "      <td>METAR</td>\n",
              "      <td>KBHM</td>\n",
              "      <td>302353Z</td>\n",
              "      <td>14006KT</td>\n",
              "      <td>10SM</td>\n",
              "      <td>FEW060</td>\n",
              "      <td>BKN250</td>\n",
              "      <td>A3014</td>\n",
              "      <td>SLP198</td>\n",
              "      <td>T02670161</td>\n",
              "      <td>2019-04-30</td>\n",
              "      <td>11:53:00 PM</td>\n",
              "    </tr>\n",
              "    <tr>\n",
              "      <th>1</th>\n",
              "      <td>METAR</td>\n",
              "      <td>KBHM</td>\n",
              "      <td>302253Z</td>\n",
              "      <td>13008KT</td>\n",
              "      <td>10SM</td>\n",
              "      <td>FEW055</td>\n",
              "      <td>BKN250</td>\n",
              "      <td>A3015</td>\n",
              "      <td>SLP203</td>\n",
              "      <td>T02780161</td>\n",
              "      <td>2019-04-30</td>\n",
              "      <td>10:53:00 PM</td>\n",
              "    </tr>\n",
              "    <tr>\n",
              "      <th>2</th>\n",
              "      <td>METAR</td>\n",
              "      <td>KBHM</td>\n",
              "      <td>302153Z</td>\n",
              "      <td>14007KT</td>\n",
              "      <td>10SM</td>\n",
              "      <td>FEW055</td>\n",
              "      <td>BKN250</td>\n",
              "      <td>A3016</td>\n",
              "      <td>SLP206</td>\n",
              "      <td>T02830167</td>\n",
              "      <td>2019-04-30</td>\n",
              "      <td>9:53:00 PM</td>\n",
              "    </tr>\n",
              "    <tr>\n",
              "      <th>3</th>\n",
              "      <td>METAR</td>\n",
              "      <td>KBHM</td>\n",
              "      <td>302053Z</td>\n",
              "      <td>17008KT</td>\n",
              "      <td>10SM</td>\n",
              "      <td>FEW055</td>\n",
              "      <td>BKN250</td>\n",
              "      <td>A3017</td>\n",
              "      <td>SLP210</td>\n",
              "      <td>T02780156</td>\n",
              "      <td>2019-04-30</td>\n",
              "      <td>8:53:00 PM</td>\n",
              "    </tr>\n",
              "    <tr>\n",
              "      <th>4</th>\n",
              "      <td>METAR</td>\n",
              "      <td>KBHM</td>\n",
              "      <td>301953Z</td>\n",
              "      <td>20006KT</td>\n",
              "      <td>10SM</td>\n",
              "      <td>FEW050</td>\n",
              "      <td>BKN250</td>\n",
              "      <td>A3019</td>\n",
              "      <td>SLP217</td>\n",
              "      <td>T02830156</td>\n",
              "      <td>2019-04-30</td>\n",
              "      <td>7:53:00 PM</td>\n",
              "    </tr>\n",
              "  </tbody>\n",
              "</table>\n",
              "</div>"
            ],
            "text/plain": [
              "  Weather_Type  ICAO Zulu Time  ... Temp/Dew point       Date         Time\n",
              "0        METAR  KBHM   302353Z  ...      T02670161 2019-04-30  11:53:00 PM\n",
              "1        METAR  KBHM   302253Z  ...      T02780161 2019-04-30  10:53:00 PM\n",
              "2        METAR  KBHM   302153Z  ...      T02830167 2019-04-30   9:53:00 PM\n",
              "3        METAR  KBHM   302053Z  ...      T02780156 2019-04-30   8:53:00 PM\n",
              "4        METAR  KBHM   301953Z  ...      T02830156 2019-04-30   7:53:00 PM\n",
              "\n",
              "[5 rows x 12 columns]"
            ]
          },
          "metadata": {
            "tags": []
          },
          "execution_count": 27
        }
      ]
    },
    {
      "cell_type": "code",
      "metadata": {
        "id": "Ce4Yq_D9Drhm",
        "colab_type": "code",
        "outputId": "c18148d3-5b50-4c28-a6d1-f8c47b0fd72e",
        "colab": {
          "base_uri": "https://localhost:8080/",
          "height": 197
        }
      },
      "source": [
        "may_19 = pd.read_csv('/content/drive/My Drive/Octave/SeqHub_Airline/may_19.csv',parse_dates=['DATE'])\n",
        "may_19.head()"
      ],
      "execution_count": 0,
      "outputs": [
        {
          "output_type": "execute_result",
          "data": {
            "text/html": [
              "<div>\n",
              "<style scoped>\n",
              "    .dataframe tbody tr th:only-of-type {\n",
              "        vertical-align: middle;\n",
              "    }\n",
              "\n",
              "    .dataframe tbody tr th {\n",
              "        vertical-align: top;\n",
              "    }\n",
              "\n",
              "    .dataframe thead th {\n",
              "        text-align: right;\n",
              "    }\n",
              "</style>\n",
              "<table border=\"1\" class=\"dataframe\">\n",
              "  <thead>\n",
              "    <tr style=\"text-align: right;\">\n",
              "      <th></th>\n",
              "      <th>Weather_type</th>\n",
              "      <th>ICAO CODES</th>\n",
              "      <th>ZULU TIME</th>\n",
              "      <th>WIND DIRECTION</th>\n",
              "      <th>PREVAILING VISIBILITY</th>\n",
              "      <th>CLOUD COVERAGE(Oktas)</th>\n",
              "      <th>BROKEN CLOUD LAYER</th>\n",
              "      <th>ALTIMETER</th>\n",
              "      <th>BAROMETRIC PRESSURE</th>\n",
              "      <th>TEMP/DEW POINT</th>\n",
              "      <th>DATE</th>\n",
              "      <th>TIME</th>\n",
              "    </tr>\n",
              "  </thead>\n",
              "  <tbody>\n",
              "    <tr>\n",
              "      <th>0</th>\n",
              "      <td>METAR</td>\n",
              "      <td>KBHM</td>\n",
              "      <td>312353Z</td>\n",
              "      <td>32006KT</td>\n",
              "      <td>10SM</td>\n",
              "      <td>FEW250</td>\n",
              "      <td>NaN</td>\n",
              "      <td>A2993</td>\n",
              "      <td>SLP126</td>\n",
              "      <td>T02890139</td>\n",
              "      <td>2019-05-31</td>\n",
              "      <td>11:53:00 PM</td>\n",
              "    </tr>\n",
              "    <tr>\n",
              "      <th>1</th>\n",
              "      <td>METAR</td>\n",
              "      <td>KBHM</td>\n",
              "      <td>312253Z</td>\n",
              "      <td>30008KT</td>\n",
              "      <td>10SM</td>\n",
              "      <td>FEW070</td>\n",
              "      <td>NaN</td>\n",
              "      <td>A2992</td>\n",
              "      <td>SLP123</td>\n",
              "      <td>T03000133</td>\n",
              "      <td>2019-05-31</td>\n",
              "      <td>10:53:00 PM</td>\n",
              "    </tr>\n",
              "    <tr>\n",
              "      <th>2</th>\n",
              "      <td>METAR</td>\n",
              "      <td>KBHM</td>\n",
              "      <td>312153Z</td>\n",
              "      <td>29009KT</td>\n",
              "      <td>10SM</td>\n",
              "      <td>SCT070</td>\n",
              "      <td>NaN</td>\n",
              "      <td>A2993</td>\n",
              "      <td>SLP126</td>\n",
              "      <td>T03060133</td>\n",
              "      <td>2019-05-31</td>\n",
              "      <td>9:53:00 PM</td>\n",
              "    </tr>\n",
              "    <tr>\n",
              "      <th>3</th>\n",
              "      <td>METAR</td>\n",
              "      <td>KBHM</td>\n",
              "      <td>312053Z</td>\n",
              "      <td>29009G16KT</td>\n",
              "      <td>10SM</td>\n",
              "      <td>SCT070</td>\n",
              "      <td>NaN</td>\n",
              "      <td>A2994</td>\n",
              "      <td>SLP128</td>\n",
              "      <td>T03170128</td>\n",
              "      <td>2019-05-31</td>\n",
              "      <td>8:53:00 PM</td>\n",
              "    </tr>\n",
              "    <tr>\n",
              "      <th>4</th>\n",
              "      <td>METAR</td>\n",
              "      <td>KBHM</td>\n",
              "      <td>311953Z</td>\n",
              "      <td>28012G20KT</td>\n",
              "      <td>10SM</td>\n",
              "      <td>SCT060</td>\n",
              "      <td>NaN</td>\n",
              "      <td>A2995</td>\n",
              "      <td>SLP134</td>\n",
              "      <td>T03170139</td>\n",
              "      <td>2019-05-31</td>\n",
              "      <td>7:53:00 PM</td>\n",
              "    </tr>\n",
              "  </tbody>\n",
              "</table>\n",
              "</div>"
            ],
            "text/plain": [
              "  Weather_type ICAO CODES ZULU TIME  ... TEMP/DEW POINT       DATE         TIME\n",
              "0        METAR       KBHM   312353Z  ...      T02890139 2019-05-31  11:53:00 PM\n",
              "1        METAR       KBHM   312253Z  ...      T03000133 2019-05-31  10:53:00 PM\n",
              "2        METAR       KBHM   312153Z  ...      T03060133 2019-05-31   9:53:00 PM\n",
              "3        METAR       KBHM   312053Z  ...      T03170128 2019-05-31   8:53:00 PM\n",
              "4        METAR       KBHM   311953Z  ...      T03170139 2019-05-31   7:53:00 PM\n",
              "\n",
              "[5 rows x 12 columns]"
            ]
          },
          "metadata": {
            "tags": []
          },
          "execution_count": 33
        }
      ]
    },
    {
      "cell_type": "code",
      "metadata": {
        "id": "kHY4yHrnD7hn",
        "colab_type": "code",
        "outputId": "af5e7777-f583-4b44-a405-6b532d8d4047",
        "colab": {
          "base_uri": "https://localhost:8080/",
          "height": 35
        }
      },
      "source": [
        "nov_18.shape"
      ],
      "execution_count": 0,
      "outputs": [
        {
          "output_type": "execute_result",
          "data": {
            "text/plain": [
              "(1048574, 12)"
            ]
          },
          "metadata": {
            "tags": []
          },
          "execution_count": 53
        }
      ]
    },
    {
      "cell_type": "code",
      "metadata": {
        "id": "nYwzMAU4EDH0",
        "colab_type": "code",
        "outputId": "17fce908-feab-4b6d-f50c-9d1712504464",
        "colab": {
          "base_uri": "https://localhost:8080/",
          "height": 35
        }
      },
      "source": [
        "apr_19.shape"
      ],
      "execution_count": 0,
      "outputs": [
        {
          "output_type": "execute_result",
          "data": {
            "text/plain": [
              "(32647, 12)"
            ]
          },
          "metadata": {
            "tags": []
          },
          "execution_count": 54
        }
      ]
    },
    {
      "cell_type": "code",
      "metadata": {
        "id": "pcNpYeNQEE7c",
        "colab_type": "code",
        "outputId": "fe0e41a9-3826-49a3-d8fc-061c8d7ff506",
        "colab": {
          "base_uri": "https://localhost:8080/",
          "height": 35
        }
      },
      "source": [
        "may_19.shape"
      ],
      "execution_count": 0,
      "outputs": [
        {
          "output_type": "execute_result",
          "data": {
            "text/plain": [
              "(4022, 12)"
            ]
          },
          "metadata": {
            "tags": []
          },
          "execution_count": 55
        }
      ]
    },
    {
      "cell_type": "code",
      "metadata": {
        "id": "g4UqAwryEGDy",
        "colab_type": "code",
        "outputId": "58f70f58-c35b-4730-e87d-2b3a901ecfe4",
        "colab": {
          "base_uri": "https://localhost:8080/",
          "height": 35
        }
      },
      "source": [
        "oct_19.shape"
      ],
      "execution_count": 0,
      "outputs": [
        {
          "output_type": "execute_result",
          "data": {
            "text/plain": [
              "(15708, 12)"
            ]
          },
          "metadata": {
            "tags": []
          },
          "execution_count": 56
        }
      ]
    },
    {
      "cell_type": "code",
      "metadata": {
        "id": "AXBEY_-KEIT2",
        "colab_type": "code",
        "colab": {}
      },
      "source": [
        "nov_18['Time']= pd.to_datetime(nov_18['Time'])\n",
        "nov_18['Time'] = nov_18['Time'].dt.round('H')"
      ],
      "execution_count": 0,
      "outputs": []
    },
    {
      "cell_type": "code",
      "metadata": {
        "id": "gzHvnofiLuw-",
        "colab_type": "code",
        "colab": {}
      },
      "source": [
        "apr_19['Time']= pd.to_datetime(apr_19['Time'])\n",
        "apr_19['Time'] = apr_19['Time'].dt.round('H')"
      ],
      "execution_count": 0,
      "outputs": []
    },
    {
      "cell_type": "code",
      "metadata": {
        "id": "wXkJiTBLL2N3",
        "colab_type": "code",
        "colab": {}
      },
      "source": [
        "may_19['TIME']= pd.to_datetime(may_19['TIME'])\n",
        "may_19['TIME'] = may_19['TIME'].dt.round('H')"
      ],
      "execution_count": 0,
      "outputs": []
    },
    {
      "cell_type": "code",
      "metadata": {
        "id": "CroYKXtBNMGU",
        "colab_type": "code",
        "colab": {}
      },
      "source": [
        "oct_19['TIME']= pd.to_datetime(oct_19['TIME'])\n",
        "oct_19['TIME'] = oct_19['TIME'].dt.round('H')"
      ],
      "execution_count": 0,
      "outputs": []
    },
    {
      "cell_type": "code",
      "metadata": {
        "id": "sZpJDAEwNb3j",
        "colab_type": "code",
        "outputId": "e17ad75d-2fbf-4b23-85b2-c7a77ce49f64",
        "colab": {
          "base_uri": "https://localhost:8080/",
          "height": 124
        }
      },
      "source": [
        "oct_19['TIME'].head()"
      ],
      "execution_count": 0,
      "outputs": [
        {
          "output_type": "execute_result",
          "data": {
            "text/plain": [
              "0   2020-02-06 00:00:00\n",
              "1   2020-02-05 23:00:00\n",
              "2   2020-02-05 22:00:00\n",
              "3   2020-02-05 21:00:00\n",
              "4   2020-02-05 20:00:00\n",
              "Name: TIME, dtype: datetime64[ns]"
            ]
          },
          "metadata": {
            "tags": []
          },
          "execution_count": 71
        }
      ]
    },
    {
      "cell_type": "code",
      "metadata": {
        "id": "aS-sMic-Oddw",
        "colab_type": "code",
        "outputId": "0b44d1ff-3bed-4d99-d2d5-fa05ff6b486d",
        "colab": {
          "base_uri": "https://localhost:8080/",
          "height": 35
        }
      },
      "source": [
        "nov_18['Time'].shape"
      ],
      "execution_count": 0,
      "outputs": [
        {
          "output_type": "execute_result",
          "data": {
            "text/plain": [
              "(1048574,)"
            ]
          },
          "metadata": {
            "tags": []
          },
          "execution_count": 85
        }
      ]
    },
    {
      "cell_type": "code",
      "metadata": {
        "id": "f0FHetTSQm3C",
        "colab_type": "code",
        "outputId": "8d7d2064-3975-44c8-e22f-ebb5b954bcbd",
        "colab": {
          "base_uri": "https://localhost:8080/",
          "height": 479
        }
      },
      "source": [
        "nov_18['Time'].value_counts()"
      ],
      "execution_count": 0,
      "outputs": [
        {
          "output_type": "execute_result",
          "data": {
            "text/plain": [
              "2020-01-30 08:00:00    1300\n",
              "2020-01-30 11:00:00    1298\n",
              "2020-01-30 10:00:00    1293\n",
              "2020-01-30 09:00:00    1289\n",
              "2020-01-30 07:00:00    1278\n",
              "2020-01-30 12:00:00    1271\n",
              "2020-01-30 06:00:00    1243\n",
              "2020-01-30 15:00:00    1241\n",
              "2020-01-30 14:00:00    1239\n",
              "2020-01-30 02:00:00    1239\n",
              "2020-01-30 13:00:00    1238\n",
              "2020-01-30 03:00:00    1231\n",
              "2020-01-30 05:00:00    1230\n",
              "2020-01-30 01:00:00    1229\n",
              "2020-01-30 04:00:00    1225\n",
              "2020-01-30 16:00:00    1221\n",
              "2020-01-30 23:00:00    1220\n",
              "2020-01-30 19:00:00    1219\n",
              "2020-01-30 17:00:00    1216\n",
              "2020-01-30 18:00:00    1215\n",
              "2020-01-30 20:00:00    1213\n",
              "2020-01-30 21:00:00    1206\n",
              "2020-01-30 22:00:00    1199\n",
              "2020-01-31 00:00:00    1176\n",
              "2020-01-30 00:00:00      39\n",
              "Name: Time, dtype: int64"
            ]
          },
          "metadata": {
            "tags": []
          },
          "execution_count": 90
        }
      ]
    },
    {
      "cell_type": "code",
      "metadata": {
        "id": "SX9b_OBLRZ9M",
        "colab_type": "code",
        "colab": {}
      },
      "source": [
        "nov_18.drop(axis=1,inplace=True,columns=['Altimeter','Broken Cloud layer'])"
      ],
      "execution_count": 0,
      "outputs": []
    },
    {
      "cell_type": "code",
      "metadata": {
        "id": "PJnHPBvkOohj",
        "colab_type": "code",
        "colab": {}
      },
      "source": [
        "nov_18.dropna(axis=0,inplace=True)"
      ],
      "execution_count": 0,
      "outputs": []
    },
    {
      "cell_type": "code",
      "metadata": {
        "id": "Np9L5f-DNf7l",
        "colab_type": "code",
        "colab": {}
      },
      "source": [
        "nov_18['Time'] = pd.Series([val.time() for val in nov_18['Time']])"
      ],
      "execution_count": 0,
      "outputs": []
    },
    {
      "cell_type": "code",
      "metadata": {
        "id": "6cSv_AoKOLy_",
        "colab_type": "code",
        "outputId": "cf8a5a29-3686-4d88-f536-3c3ebcd151a0",
        "colab": {
          "base_uri": "https://localhost:8080/",
          "height": 124
        }
      },
      "source": [
        "nov_18['Time'].head()"
      ],
      "execution_count": 0,
      "outputs": [
        {
          "output_type": "execute_result",
          "data": {
            "text/plain": [
              "0    00:00:00\n",
              "1    23:00:00\n",
              "2    22:00:00\n",
              "3    21:00:00\n",
              "4    20:00:00\n",
              "Name: Time, dtype: object"
            ]
          },
          "metadata": {
            "tags": []
          },
          "execution_count": 75
        }
      ]
    },
    {
      "cell_type": "code",
      "metadata": {
        "id": "XQuI_MM5PkoS",
        "colab_type": "code",
        "outputId": "c3527ab4-63fe-4502-82c4-2de32d171c0a",
        "colab": {
          "base_uri": "https://localhost:8080/",
          "height": 124
        }
      },
      "source": [
        "nov_18['Time'].tail()"
      ],
      "execution_count": 0,
      "outputs": [
        {
          "output_type": "execute_result",
          "data": {
            "text/plain": [
              "29763    NaN\n",
              "29764    NaN\n",
              "29765    NaN\n",
              "29766    NaN\n",
              "29767    NaN\n",
              "Name: Time, dtype: object"
            ]
          },
          "metadata": {
            "tags": []
          },
          "execution_count": 76
        }
      ]
    },
    {
      "cell_type": "code",
      "metadata": {
        "id": "QjFNsmLcXIzz",
        "colab_type": "code",
        "colab": {}
      },
      "source": [
        "apr_19.drop(axis=1,inplace=True,columns=['Broken Cloud layer','Barometric Pressure'])"
      ],
      "execution_count": 0,
      "outputs": []
    },
    {
      "cell_type": "code",
      "metadata": {
        "id": "n9TqTL4IYLKn",
        "colab_type": "code",
        "colab": {}
      },
      "source": [
        "apr_19.dropna(axis=0,inplace=True)"
      ],
      "execution_count": 0,
      "outputs": []
    },
    {
      "cell_type": "code",
      "metadata": {
        "id": "E1GkbAmXYPAL",
        "colab_type": "code",
        "colab": {}
      },
      "source": [
        "apr_19['Time'] = pd.Series([val.time() for val in apr_19['Time']])"
      ],
      "execution_count": 0,
      "outputs": []
    },
    {
      "cell_type": "code",
      "metadata": {
        "id": "9HnoISojYeE9",
        "colab_type": "code",
        "outputId": "59588e6b-612d-45af-a72c-7c2b0023fc46",
        "colab": {
          "base_uri": "https://localhost:8080/",
          "height": 124
        }
      },
      "source": [
        "apr_19['Time'].head()"
      ],
      "execution_count": 0,
      "outputs": [
        {
          "output_type": "execute_result",
          "data": {
            "text/plain": [
              "0    00:00:00\n",
              "1    23:00:00\n",
              "2    22:00:00\n",
              "3    21:00:00\n",
              "4    20:00:00\n",
              "Name: Time, dtype: object"
            ]
          },
          "metadata": {
            "tags": []
          },
          "execution_count": 80
        }
      ]
    },
    {
      "cell_type": "code",
      "metadata": {
        "id": "UpiS6f_uYiN5",
        "colab_type": "code",
        "outputId": "c81f3eeb-2e76-4e20-a963-51457d5245c5",
        "colab": {
          "base_uri": "https://localhost:8080/",
          "height": 124
        }
      },
      "source": [
        "apr_19['Time'].tail()"
      ],
      "execution_count": 0,
      "outputs": [
        {
          "output_type": "execute_result",
          "data": {
            "text/plain": [
              "32640    NaN\n",
              "32641    NaN\n",
              "32642    NaN\n",
              "32643    NaN\n",
              "32644    NaN\n",
              "Name: Time, dtype: object"
            ]
          },
          "metadata": {
            "tags": []
          },
          "execution_count": 53
        }
      ]
    },
    {
      "cell_type": "code",
      "metadata": {
        "id": "SHe2tGZVYp8e",
        "colab_type": "code",
        "outputId": "460f0d8c-5df4-469b-d29a-39c6845b718c",
        "colab": {
          "base_uri": "https://localhost:8080/",
          "height": 124
        }
      },
      "source": [
        "may_19['TIME'].head()"
      ],
      "execution_count": 0,
      "outputs": [
        {
          "output_type": "execute_result",
          "data": {
            "text/plain": [
              "0   2020-02-01 00:00:00\n",
              "1   2020-01-31 23:00:00\n",
              "2   2020-01-31 22:00:00\n",
              "3   2020-01-31 21:00:00\n",
              "4   2020-01-31 20:00:00\n",
              "Name: TIME, dtype: datetime64[ns]"
            ]
          },
          "metadata": {
            "tags": []
          },
          "execution_count": 54
        }
      ]
    },
    {
      "cell_type": "code",
      "metadata": {
        "id": "Rz0nUJnsEME1",
        "colab_type": "code",
        "outputId": "1b6e700e-a8fa-4d23-f461-5d6938eb1051",
        "colab": {
          "base_uri": "https://localhost:8080/",
          "height": 124
        }
      },
      "source": [
        "may_19['TIME'].tail()"
      ],
      "execution_count": 0,
      "outputs": [
        {
          "output_type": "execute_result",
          "data": {
            "text/plain": [
              "4017   NaT\n",
              "4018   NaT\n",
              "4019   NaT\n",
              "4020   NaT\n",
              "4021   NaT\n",
              "Name: TIME, dtype: datetime64[ns]"
            ]
          },
          "metadata": {
            "tags": []
          },
          "execution_count": 55
        }
      ]
    },
    {
      "cell_type": "code",
      "metadata": {
        "id": "eU2MhA4gETvw",
        "colab_type": "code",
        "colab": {}
      },
      "source": [
        "may_19.drop(axis=1,inplace=True,columns=['BROKEN CLOUD LAYER','CLOUD COVERAGE(Oktas)'])"
      ],
      "execution_count": 0,
      "outputs": []
    },
    {
      "cell_type": "code",
      "metadata": {
        "id": "1jFcjmVyEjGZ",
        "colab_type": "code",
        "colab": {}
      },
      "source": [
        "may_19.dropna(inplace=True)"
      ],
      "execution_count": 0,
      "outputs": []
    },
    {
      "cell_type": "code",
      "metadata": {
        "id": "ifw_E-AAEnBa",
        "colab_type": "code",
        "colab": {}
      },
      "source": [
        "may_19['TIME'] = pd.Series([val.time() for val in may_19['TIME']])"
      ],
      "execution_count": 0,
      "outputs": []
    },
    {
      "cell_type": "code",
      "metadata": {
        "id": "Dd1TyYQhEwU6",
        "colab_type": "code",
        "outputId": "20431194-2367-4715-d8e3-266b5c89c26c",
        "colab": {
          "base_uri": "https://localhost:8080/",
          "height": 124
        }
      },
      "source": [
        "may_19['TIME'].head()"
      ],
      "execution_count": 0,
      "outputs": [
        {
          "output_type": "execute_result",
          "data": {
            "text/plain": [
              "0    00:00:00\n",
              "1    23:00:00\n",
              "2    22:00:00\n",
              "3    21:00:00\n",
              "4    20:00:00\n",
              "Name: TIME, dtype: object"
            ]
          },
          "metadata": {
            "tags": []
          },
          "execution_count": 84
        }
      ]
    },
    {
      "cell_type": "code",
      "metadata": {
        "id": "XPwEsVimE37T",
        "colab_type": "code",
        "outputId": "a12253e5-6b3c-457e-d490-17ddc4e8edb1",
        "colab": {
          "base_uri": "https://localhost:8080/",
          "height": 124
        }
      },
      "source": [
        "may_19['TIME'].tail()"
      ],
      "execution_count": 0,
      "outputs": [
        {
          "output_type": "execute_result",
          "data": {
            "text/plain": [
              "3980    NaN\n",
              "3981    NaN\n",
              "3982    NaN\n",
              "3983    NaN\n",
              "3984    NaN\n",
              "Name: TIME, dtype: object"
            ]
          },
          "metadata": {
            "tags": []
          },
          "execution_count": 63
        }
      ]
    },
    {
      "cell_type": "code",
      "metadata": {
        "id": "B6s-FiZ1E7gj",
        "colab_type": "code",
        "outputId": "de7569e5-3414-480e-f1d9-6c13651488ae",
        "colab": {
          "base_uri": "https://localhost:8080/",
          "height": 124
        }
      },
      "source": [
        "oct_19['TIME'].tail()"
      ],
      "execution_count": 0,
      "outputs": [
        {
          "output_type": "execute_result",
          "data": {
            "text/plain": [
              "15703   2020-01-31 06:00:00\n",
              "15704   2020-01-31 05:00:00\n",
              "15705   2020-01-31 04:00:00\n",
              "15706   2020-01-31 03:00:00\n",
              "15707                   NaT\n",
              "Name: TIME, dtype: datetime64[ns]"
            ]
          },
          "metadata": {
            "tags": []
          },
          "execution_count": 64
        }
      ]
    },
    {
      "cell_type": "code",
      "metadata": {
        "id": "X9x1Mp2oFFtI",
        "colab_type": "code",
        "colab": {}
      },
      "source": [
        "oct_19.drop(axis=1,inplace=True,columns=['BROKEN CLOUD LAYER','ALTIMETER'])"
      ],
      "execution_count": 0,
      "outputs": []
    },
    {
      "cell_type": "code",
      "metadata": {
        "id": "dpoKZYpUFWxq",
        "colab_type": "code",
        "colab": {}
      },
      "source": [
        "oct_19.dropna(inplace=True)"
      ],
      "execution_count": 0,
      "outputs": []
    },
    {
      "cell_type": "code",
      "metadata": {
        "id": "Le8SXp6QFZCA",
        "colab_type": "code",
        "colab": {}
      },
      "source": [
        "oct_19['TIME'] = pd.Series([val.time() for val in oct_19['TIME']])"
      ],
      "execution_count": 0,
      "outputs": []
    },
    {
      "cell_type": "code",
      "metadata": {
        "id": "XQUqUKXBFk8g",
        "colab_type": "code",
        "outputId": "7867f443-d083-4aba-9ec3-c0db1b2f60ec",
        "colab": {
          "base_uri": "https://localhost:8080/",
          "height": 119
        }
      },
      "source": [
        "oct_19['TIME'].tail()"
      ],
      "execution_count": 0,
      "outputs": [
        {
          "output_type": "execute_result",
          "data": {
            "text/plain": [
              "15700    NaN\n",
              "15701    NaN\n",
              "15702    NaN\n",
              "15703    NaN\n",
              "15704    NaN\n",
              "Name: TIME, dtype: object"
            ]
          },
          "metadata": {
            "tags": []
          },
          "execution_count": 50
        }
      ]
    },
    {
      "cell_type": "code",
      "metadata": {
        "id": "80hxgyFHFoIO",
        "colab_type": "code",
        "outputId": "e4e0acc5-29a8-45f6-edcd-2eeccc0bacc0",
        "colab": {
          "base_uri": "https://localhost:8080/",
          "height": 124
        }
      },
      "source": [
        "oct_19['TIME'].head()"
      ],
      "execution_count": 0,
      "outputs": [
        {
          "output_type": "execute_result",
          "data": {
            "text/plain": [
              "0    00:00:00\n",
              "1    23:00:00\n",
              "2    22:00:00\n",
              "3    21:00:00\n",
              "4    20:00:00\n",
              "Name: TIME, dtype: object"
            ]
          },
          "metadata": {
            "tags": []
          },
          "execution_count": 71
        }
      ]
    },
    {
      "cell_type": "code",
      "metadata": {
        "id": "f-_ivhyEGxgp",
        "colab_type": "code",
        "outputId": "4a9fc4f9-b7c6-43d3-bb8b-2499d8da9311",
        "colab": {
          "base_uri": "https://localhost:8080/",
          "height": 88
        }
      },
      "source": [
        "nov_18.columns"
      ],
      "execution_count": 0,
      "outputs": [
        {
          "output_type": "execute_result",
          "data": {
            "text/plain": [
              "Index(['Weather_Type', 'ICAO', 'Zulu Time', 'Wind Drection',\n",
              "       'Prevailing Visisbility', 'Cloud coverage (Oktas)',\n",
              "       'Barometric Pressure', 'Temp/Dew point', 'Date', 'Time'],\n",
              "      dtype='object')"
            ]
          },
          "metadata": {
            "tags": []
          },
          "execution_count": 72
        }
      ]
    },
    {
      "cell_type": "code",
      "metadata": {
        "id": "rMPWfXk0Fsjd",
        "colab_type": "code",
        "colab": {}
      },
      "source": [
        "nov_18['Date'] = nov_18['Date'].dt.date"
      ],
      "execution_count": 0,
      "outputs": []
    },
    {
      "cell_type": "code",
      "metadata": {
        "id": "K3zsVeMhHLRw",
        "colab_type": "code",
        "outputId": "9902d81f-2657-4532-a21a-fa695d24f03e",
        "colab": {
          "base_uri": "https://localhost:8080/",
          "height": 85
        }
      },
      "source": [
        "apr_19.columns"
      ],
      "execution_count": 0,
      "outputs": [
        {
          "output_type": "execute_result",
          "data": {
            "text/plain": [
              "Index(['Weather_Type', 'ICAO', 'Zulu Time', 'Wind Drection',\n",
              "       'Prevailing Visisbility', 'Cloud coverage (Oktas)', 'Altimeter',\n",
              "       'Temp/Dew point', 'Date', 'Time'],\n",
              "      dtype='object')"
            ]
          },
          "metadata": {
            "tags": []
          },
          "execution_count": 55
        }
      ]
    },
    {
      "cell_type": "code",
      "metadata": {
        "id": "eJWMC4CDHgAG",
        "colab_type": "code",
        "colab": {}
      },
      "source": [
        "apr_19['Date'] = apr_19['Date'].dt.date"
      ],
      "execution_count": 0,
      "outputs": []
    },
    {
      "cell_type": "code",
      "metadata": {
        "id": "Yz_OHtvqHHmR",
        "colab_type": "code",
        "outputId": "c1666988-bfe7-46e3-9796-bea962e15b2b",
        "colab": {
          "base_uri": "https://localhost:8080/",
          "height": 88
        }
      },
      "source": [
        "may_19.columns"
      ],
      "execution_count": 0,
      "outputs": [
        {
          "output_type": "execute_result",
          "data": {
            "text/plain": [
              "Index(['Weather_type', 'ICAO CODES', 'ZULU TIME', 'WIND DIRECTION',\n",
              "       'PREVAILING VISIBILITY', 'ALTIMETER', 'BAROMETRIC PRESSURE',\n",
              "       'TEMP/DEW POINT', 'DATE', 'TIME'],\n",
              "      dtype='object')"
            ]
          },
          "metadata": {
            "tags": []
          },
          "execution_count": 97
        }
      ]
    },
    {
      "cell_type": "code",
      "metadata": {
        "id": "ahiAz2OIJzn1",
        "colab_type": "code",
        "colab": {}
      },
      "source": [
        "may_19['DATE'] = may_19['DATE'].dt.date"
      ],
      "execution_count": 0,
      "outputs": []
    },
    {
      "cell_type": "code",
      "metadata": {
        "id": "GdiAexSwJ6fG",
        "colab_type": "code",
        "outputId": "b4fac27c-dd90-4020-eaf0-fc9cf03e9421",
        "colab": {
          "base_uri": "https://localhost:8080/",
          "height": 88
        }
      },
      "source": [
        "oct_19.columns"
      ],
      "execution_count": 0,
      "outputs": [
        {
          "output_type": "execute_result",
          "data": {
            "text/plain": [
              "Index(['Weather_type', 'ICAO CODES', 'ZULU TIME', 'WIND DIRECTION',\n",
              "       'PREVAILING VISIBILITY', 'CLOUD COVERAGE', 'BAROMETRIC PRESSURE',\n",
              "       'TEMP/DEW POINT', 'DATE', 'TIME'],\n",
              "      dtype='object')"
            ]
          },
          "metadata": {
            "tags": []
          },
          "execution_count": 99
        }
      ]
    },
    {
      "cell_type": "code",
      "metadata": {
        "id": "JZhmYlymJ8l-",
        "colab_type": "code",
        "colab": {}
      },
      "source": [
        "oct_19['DATE'] = oct_19['DATE'].dt.date"
      ],
      "execution_count": 0,
      "outputs": []
    },
    {
      "cell_type": "code",
      "metadata": {
        "id": "sAAd4WXbM5qI",
        "colab_type": "code",
        "colab": {}
      },
      "source": [
        "nov_18.dropna(inplace=True)"
      ],
      "execution_count": 0,
      "outputs": []
    },
    {
      "cell_type": "code",
      "metadata": {
        "id": "GS60ViuHKCW-",
        "colab_type": "code",
        "colab": {}
      },
      "source": [
        "nov_18['dts'] = nov_18['Date'].map(str)  + \" \" + nov_18['Time'].map(str)"
      ],
      "execution_count": 0,
      "outputs": []
    },
    {
      "cell_type": "code",
      "metadata": {
        "id": "XUwHuQtaLj4Y",
        "colab_type": "code",
        "outputId": "8813d8a0-9475-4674-e8fd-a5ef04136c2e",
        "colab": {
          "base_uri": "https://localhost:8080/",
          "height": 119
        }
      },
      "source": [
        "nov_18['dts'].tail()"
      ],
      "execution_count": 0,
      "outputs": [
        {
          "output_type": "execute_result",
          "data": {
            "text/plain": [
              "22264    2018-10-14 15:00:00\n",
              "22265    2018-10-14 14:00:00\n",
              "22266    2018-10-14 13:00:00\n",
              "22267    2018-10-13 12:00:00\n",
              "22268    2018-10-13 11:00:00\n",
              "Name: dts, dtype: object"
            ]
          },
          "metadata": {
            "tags": []
          },
          "execution_count": 51
        }
      ]
    },
    {
      "cell_type": "code",
      "metadata": {
        "id": "-XzSQ45hLdlO",
        "colab_type": "code",
        "colab": {}
      },
      "source": [
        "nov_18['dts'] = pd.to_datetime(nov_18['dts'])"
      ],
      "execution_count": 0,
      "outputs": []
    },
    {
      "cell_type": "code",
      "metadata": {
        "id": "BxTnj1tYNJsY",
        "colab_type": "code",
        "outputId": "0197da81-d9d6-4489-a1a9-830b703d96e3",
        "colab": {
          "base_uri": "https://localhost:8080/",
          "height": 88
        }
      },
      "source": [
        "nov_18.columns"
      ],
      "execution_count": 0,
      "outputs": [
        {
          "output_type": "execute_result",
          "data": {
            "text/plain": [
              "Index(['Weather_Type', 'ICAO', 'Zulu Time', 'Wind Drection',\n",
              "       'Prevailing Visisbility', 'Cloud coverage (Oktas)',\n",
              "       'Barometric Pressure', 'Temp/Dew point', 'Date', 'Time', 'dts'],\n",
              "      dtype='object')"
            ]
          },
          "metadata": {
            "tags": []
          },
          "execution_count": 113
        }
      ]
    },
    {
      "cell_type": "code",
      "metadata": {
        "id": "vx11XAlvLYCr",
        "colab_type": "code",
        "colab": {}
      },
      "source": [
        "nov_18['icao_x_dts'] = nov_18['ICAO'].map(str)  + \"x\" + nov_18['dts'].map(str)"
      ],
      "execution_count": 0,
      "outputs": []
    },
    {
      "cell_type": "code",
      "metadata": {
        "id": "1ZurI2BCNFho",
        "colab_type": "code",
        "outputId": "58c86f33-1f9b-4803-ad2e-c836601eddd2",
        "colab": {
          "base_uri": "https://localhost:8080/",
          "height": 119
        }
      },
      "source": [
        "nov_18['icao_x_dts'].tail()"
      ],
      "execution_count": 0,
      "outputs": [
        {
          "output_type": "execute_result",
          "data": {
            "text/plain": [
              "22264    PAVDx2018-10-14 15:00:00\n",
              "22265    PAVDx2018-10-14 14:00:00\n",
              "22266    PAVDx2018-10-14 13:00:00\n",
              "22267    PAVDx2018-10-13 12:00:00\n",
              "22268    PAVDx2018-10-13 11:00:00\n",
              "Name: icao_x_dts, dtype: object"
            ]
          },
          "metadata": {
            "tags": []
          },
          "execution_count": 64
        }
      ]
    },
    {
      "cell_type": "code",
      "metadata": {
        "id": "5ImX1pPgOB-6",
        "colab_type": "code",
        "colab": {}
      },
      "source": [
        "apr_19.dropna(inplace=True)"
      ],
      "execution_count": 0,
      "outputs": []
    },
    {
      "cell_type": "code",
      "metadata": {
        "id": "y1x5VRIANTde",
        "colab_type": "code",
        "outputId": "03954445-950f-4415-98af-edaf4ca171cc",
        "colab": {
          "base_uri": "https://localhost:8080/",
          "height": 85
        }
      },
      "source": [
        "apr_19.columns"
      ],
      "execution_count": 0,
      "outputs": [
        {
          "output_type": "execute_result",
          "data": {
            "text/plain": [
              "Index(['Weather_Type', 'ICAO', 'Zulu Time', 'Wind Drection',\n",
              "       'Prevailing Visisbility', 'Cloud coverage (Oktas)', 'Altimeter',\n",
              "       'Temp/Dew point', 'Date', 'Time', 'dts'],\n",
              "      dtype='object')"
            ]
          },
          "metadata": {
            "tags": []
          },
          "execution_count": 52
        }
      ]
    },
    {
      "cell_type": "code",
      "metadata": {
        "id": "jEgb3muBN9JT",
        "colab_type": "code",
        "colab": {}
      },
      "source": [
        "apr_19['dts'] = apr_19['Date'].map(str)  + \" \" + apr_19['Time'].map(str)\n",
        "apr_19['dts'] = pd.to_datetime(apr_19['dts'])\n",
        "apr_19['icao_x_dts'] = apr_19['ICAO'].map(str)  + \"x\" + apr_19['dts'].map(str)"
      ],
      "execution_count": 0,
      "outputs": []
    },
    {
      "cell_type": "code",
      "metadata": {
        "id": "LP49uwXZQnQK",
        "colab_type": "code",
        "colab": {}
      },
      "source": [
        "apr_19['icao_x_dts'].tail()"
      ],
      "execution_count": 0,
      "outputs": []
    },
    {
      "cell_type": "code",
      "metadata": {
        "id": "4LIestQZQqfs",
        "colab_type": "code",
        "outputId": "499fedfd-7cfe-4562-d253-6fa4c2b0fc57",
        "colab": {
          "base_uri": "https://localhost:8080/",
          "height": 88
        }
      },
      "source": [
        "may_19.columns"
      ],
      "execution_count": 0,
      "outputs": [
        {
          "output_type": "execute_result",
          "data": {
            "text/plain": [
              "Index(['Weather_type', 'ICAO CODES', 'ZULU TIME', 'WIND DIRECTION',\n",
              "       'PREVAILING VISIBILITY', 'ALTIMETER', 'BAROMETRIC PRESSURE',\n",
              "       'TEMP/DEW POINT', 'DATE', 'TIME'],\n",
              "      dtype='object')"
            ]
          },
          "metadata": {
            "tags": []
          },
          "execution_count": 124
        }
      ]
    },
    {
      "cell_type": "code",
      "metadata": {
        "id": "NmRg1DnaRRhM",
        "colab_type": "code",
        "colab": {}
      },
      "source": [
        "may_19.dropna(inplace=True)"
      ],
      "execution_count": 0,
      "outputs": []
    },
    {
      "cell_type": "code",
      "metadata": {
        "id": "V-Gbt6vlQ4gZ",
        "colab_type": "code",
        "colab": {}
      },
      "source": [
        "may_19['dts'] = may_19['DATE'].map(str)  + \" \" + may_19['TIME'].map(str)\n",
        "may_19['dts'] = pd.to_datetime(may_19['dts'])\n",
        "may_19['icao_x_dts'] = may_19['ICAO CODES'].map(str)  + \"x\" + may_19['dts'].map(str)"
      ],
      "execution_count": 0,
      "outputs": []
    },
    {
      "cell_type": "code",
      "metadata": {
        "id": "Pe3SAJm0ROhw",
        "colab_type": "code",
        "outputId": "d016df45-dcaf-4609-a4fe-59d7296468c3",
        "colab": {
          "base_uri": "https://localhost:8080/",
          "height": 119
        }
      },
      "source": [
        "may_19['icao_x_dts'].tail()"
      ],
      "execution_count": 0,
      "outputs": [
        {
          "output_type": "execute_result",
          "data": {
            "text/plain": [
              "3019    KMGMx2019-05-30 07:00:00\n",
              "3025    KMGMx2019-05-29 01:00:00\n",
              "3026    KMGMx2019-05-29 00:00:00\n",
              "3027    KMGMx2019-05-29 23:00:00\n",
              "3028    KMGMx2019-05-29 22:00:00\n",
              "Name: icao_x_dts, dtype: object"
            ]
          },
          "metadata": {
            "tags": []
          },
          "execution_count": 68
        }
      ]
    },
    {
      "cell_type": "code",
      "metadata": {
        "id": "9Uh3BLNLRZ1f",
        "colab_type": "code",
        "outputId": "f1d1fe2a-1933-4cc5-ec1b-4233ad735567",
        "colab": {
          "base_uri": "https://localhost:8080/",
          "height": 88
        }
      },
      "source": [
        "oct_19.columns"
      ],
      "execution_count": 0,
      "outputs": [
        {
          "output_type": "execute_result",
          "data": {
            "text/plain": [
              "Index(['Weather_type', 'ICAO CODES', 'ZULU TIME', 'WIND DIRECTION',\n",
              "       'PREVAILING VISIBILITY', 'CLOUD COVERAGE', 'BAROMETRIC PRESSURE',\n",
              "       'TEMP/DEW POINT', 'DATE', 'TIME'],\n",
              "      dtype='object')"
            ]
          },
          "metadata": {
            "tags": []
          },
          "execution_count": 130
        }
      ]
    },
    {
      "cell_type": "code",
      "metadata": {
        "id": "JYTPDL1qRr8r",
        "colab_type": "code",
        "colab": {}
      },
      "source": [
        "oct_19.dropna(inplace=True)"
      ],
      "execution_count": 0,
      "outputs": []
    },
    {
      "cell_type": "code",
      "metadata": {
        "id": "5uwZ0DP6R0AM",
        "colab_type": "code",
        "colab": {}
      },
      "source": [
        "oct_19['dts'] = oct_19['DATE'].map(str)  + \" \" + oct_19['TIME'].map(str)\n",
        "oct_19['dts'] = pd.to_datetime(oct_19['dts'])\n",
        "oct_19['icao_x_dts'] = oct_19['ICAO CODES'].map(str)  + \"x\" + oct_19['dts'].map(str)"
      ],
      "execution_count": 0,
      "outputs": []
    },
    {
      "cell_type": "code",
      "metadata": {
        "id": "K4JCWL6sSL2J",
        "colab_type": "code",
        "outputId": "3fa99e9a-1343-4f76-c855-b13fdae2a8b9",
        "colab": {
          "base_uri": "https://localhost:8080/",
          "height": 119
        }
      },
      "source": [
        "oct_19['icao_x_dts'].tail()"
      ],
      "execution_count": 0,
      "outputs": [
        {
          "output_type": "execute_result",
          "data": {
            "text/plain": [
              "11018    PAFAx2019-10-07 09:00:00\n",
              "11019    PAFAx2019-10-07 08:00:00\n",
              "11020    PAFAx2019-10-07 07:00:00\n",
              "11021    PAFAx2019-10-07 06:00:00\n",
              "11022    PAFAx2019-10-07 05:00:00\n",
              "Name: icao_x_dts, dtype: object"
            ]
          },
          "metadata": {
            "tags": []
          },
          "execution_count": 71
        }
      ]
    },
    {
      "cell_type": "code",
      "metadata": {
        "id": "yIcGrf_nSOrz",
        "colab_type": "code",
        "colab": {}
      },
      "source": [
        "train = pd.merge(seq_new, nov_18, left_on='icao_x_dts', right_on='icao_x_dts', how='left') # Airline_data_and_November"
      ],
      "execution_count": 0,
      "outputs": []
    },
    {
      "cell_type": "code",
      "metadata": {
        "id": "3XUeYg8RZwst",
        "colab_type": "code",
        "outputId": "4b50e527-12cc-4530-c4f5-33dc198f684c",
        "colab": {
          "base_uri": "https://localhost:8080/",
          "height": 34
        }
      },
      "source": [
        "train.shape"
      ],
      "execution_count": 0,
      "outputs": [
        {
          "output_type": "execute_result",
          "data": {
            "text/plain": [
              "(7990141, 73)"
            ]
          },
          "metadata": {
            "tags": []
          },
          "execution_count": 63
        }
      ]
    },
    {
      "cell_type": "code",
      "metadata": {
        "id": "1SKwBokTa0nl",
        "colab_type": "code",
        "outputId": "bab5e899-b3f9-4c9e-bc68-b3a7589dbaf2",
        "colab": {
          "base_uri": "https://localhost:8080/",
          "height": 341
        }
      },
      "source": [
        "train.columns"
      ],
      "execution_count": 0,
      "outputs": [
        {
          "output_type": "execute_result",
          "data": {
            "text/plain": [
              "Index(['YEAR', 'QUARTER', 'MONTH', 'DAY_OF_MONTH', 'DAY_OF_WEEK', 'FL_DATE',\n",
              "       'OP_UNIQUE_CARRIER', 'OP_CARRIER_AIRLINE_ID', 'OP_CARRIER', 'TAIL_NUM',\n",
              "       'OP_CARRIER_FL_NUM', 'ORIGIN_AIRPORT_ID', 'ORIGIN_AIRPORT_SEQ_ID',\n",
              "       'ORIGIN_CITY_MARKET_ID', 'ORIGIN', 'ORIGIN_CITY_NAME',\n",
              "       'ORIGIN_STATE_ABR', 'ORIGIN_STATE_FIPS', 'ORIGIN_STATE_NM',\n",
              "       'ORIGIN_WAC', 'DEST_AIRPORT_ID', 'DEST_AIRPORT_SEQ_ID',\n",
              "       'DEST_CITY_MARKET_ID', 'DEST', 'DEST_CITY_NAME', 'DEST_STATE_ABR',\n",
              "       'DEST_STATE_FIPS', 'DEST_STATE_NM', 'DEST_WAC', 'CRS_DEP_TIME',\n",
              "       'DEP_TIME_BLK', 'TAXI_OUT', 'WHEELS_OFF', 'WHEELS_ON', 'TAXI_IN',\n",
              "       'CRS_ARR_TIME', 'ARR_TIME', 'ARR_DELAY', 'ARR_DELAY_NEW', 'ARR_DEL15',\n",
              "       'ARR_DELAY_GROUP', 'ARR_TIME_BLK', 'CANCELLED', 'DIVERTED',\n",
              "       'CRS_ELAPSED_TIME', 'ACTUAL_ELAPSED_TIME', 'AIR_TIME', 'DISTANCE',\n",
              "       'DISTANCE_GROUP', 'DIV_AIRPORT_LANDINGS', 'incident_category', 'City',\n",
              "       'FAA', 'IATA', 'ICAO_x', 'Airport', 'Role', 'Enplanements',\n",
              "       'Unnamed: 7', 'proposed_pred_time', 'dts_x', 'icao_x_dts',\n",
              "       'Weather_Type', 'ICAO_y', 'Zulu Time', 'Wind Drection',\n",
              "       'Prevailing Visisbility', 'Cloud coverage (Oktas)',\n",
              "       'Barometric Pressure', 'Temp/Dew point', 'Date', 'Time', 'dts_y'],\n",
              "      dtype='object')"
            ]
          },
          "metadata": {
            "tags": []
          },
          "execution_count": 64
        }
      ]
    },
    {
      "cell_type": "code",
      "metadata": {
        "id": "kdaSY_ToZ8sx",
        "colab_type": "code",
        "colab": {}
      },
      "source": [
        "train = pd.merge(seq_new, apr_19, left_on='icao_x_dts', right_on='icao_x_dts', how='left') # Airline_data_and_april2019"
      ],
      "execution_count": 0,
      "outputs": []
    },
    {
      "cell_type": "code",
      "metadata": {
        "id": "MghMdN4WcCkK",
        "colab_type": "code",
        "colab": {}
      },
      "source": [
        "train = pd.merge(seq_new, may_19, left_on='icao_x_dts', right_on='icao_x_dts', how='left') # Airline_data_and_may2019"
      ],
      "execution_count": 0,
      "outputs": []
    },
    {
      "cell_type": "code",
      "metadata": {
        "id": "CxTz_dTVcIde",
        "colab_type": "code",
        "colab": {}
      },
      "source": [
        "train = pd.merge(seq_new, oct_19, left_on='icao_x_dts', right_on='icao_x_dts', how='left') # Airline_data_and_october2019"
      ],
      "execution_count": 0,
      "outputs": []
    },
    {
      "cell_type": "code",
      "metadata": {
        "id": "1qM5PkOuczo1",
        "colab_type": "code",
        "outputId": "322d3dff-556c-4e0f-b00a-5fa7c5229089",
        "colab": {
          "base_uri": "https://localhost:8080/",
          "height": 34
        }
      },
      "source": [
        "train.shape"
      ],
      "execution_count": 0,
      "outputs": [
        {
          "output_type": "execute_result",
          "data": {
            "text/plain": [
              "(7990335, 73)"
            ]
          },
          "metadata": {
            "tags": []
          },
          "execution_count": 64
        }
      ]
    },
    {
      "cell_type": "code",
      "metadata": {
        "id": "6EEWhsSadk6a",
        "colab_type": "code",
        "outputId": "b72f50f5-14e9-411a-ce16-ee5d0c65954b",
        "colab": {
          "base_uri": "https://localhost:8080/",
          "height": 568
        }
      },
      "source": [
        "train[train.columns[1:]].corr()['TAXI_OUT'][:]"
      ],
      "execution_count": 0,
      "outputs": [
        {
          "output_type": "execute_result",
          "data": {
            "text/plain": [
              "QUARTER                 -0.005355\n",
              "MONTH                   -0.005148\n",
              "DAY_OF_MONTH            -0.003312\n",
              "DAY_OF_WEEK             -0.013925\n",
              "OP_CARRIER_AIRLINE_ID    0.195809\n",
              "OP_CARRIER_FL_NUM        0.073870\n",
              "ORIGIN_STATE_FIPS        0.050829\n",
              "DEST_AIRPORT_ID          0.014624\n",
              "DEST_AIRPORT_SEQ_ID      0.014624\n",
              "DEST_CITY_MARKET_ID      0.035209\n",
              "DEST_STATE_FIPS          0.022889\n",
              "TAXI_OUT                 1.000000\n",
              "WHEELS_OFF               0.039888\n",
              "WHEELS_ON                0.030280\n",
              "TAXI_IN                  0.022184\n",
              "CRS_ARR_TIME             0.022277\n",
              "ARR_TIME                 0.026909\n",
              "ARR_DELAY                0.219325\n",
              "ARR_DELAY_NEW            0.179659\n",
              "ARR_DEL15                0.283682\n",
              "ARR_DELAY_GROUP          0.279610\n",
              "CANCELLED               -0.225435\n",
              "DIVERTED                 0.015985\n",
              "CRS_ELAPSED_TIME         0.086233\n",
              "ACTUAL_ELAPSED_TIME      0.191958\n",
              "AIR_TIME                 0.054902\n",
              "DISTANCE                 0.044454\n",
              "DISTANCE_GROUP           0.043033\n",
              "DIV_AIRPORT_LANDINGS     0.011997\n",
              "incident_category        0.727644\n",
              "Name: TAXI_OUT, dtype: float64"
            ]
          },
          "metadata": {
            "tags": []
          },
          "execution_count": 67
        }
      ]
    },
    {
      "cell_type": "code",
      "metadata": {
        "id": "V_h8uPyGgz60",
        "colab_type": "code",
        "colab": {}
      },
      "source": [
        "train['zulu_time_value'] = train['ZULU TIME'].str.replace(r'[^\\d.]+', '')\n"
      ],
      "execution_count": 0,
      "outputs": []
    },
    {
      "cell_type": "code",
      "metadata": {
        "id": "s0kXfrJUoboe",
        "colab_type": "code",
        "outputId": "3c731fb8-c616-4be7-c19d-030204b46c9b",
        "colab": {
          "base_uri": "https://localhost:8080/",
          "height": 221
        }
      },
      "source": [
        "train['zulu_time_value'].fillna(0)"
      ],
      "execution_count": 0,
      "outputs": [
        {
          "output_type": "execute_result",
          "data": {
            "text/plain": [
              "0          0\n",
              "1          0\n",
              "2          0\n",
              "3          0\n",
              "4          0\n",
              "          ..\n",
              "7990330    0\n",
              "7990331    0\n",
              "7990332    0\n",
              "7990333    0\n",
              "7990334    0\n",
              "Name: zulu_time_value, Length: 7990335, dtype: object"
            ]
          },
          "metadata": {
            "tags": []
          },
          "execution_count": 63
        }
      ]
    },
    {
      "cell_type": "code",
      "metadata": {
        "id": "p6SNjiu_oOQv",
        "colab_type": "code",
        "colab": {}
      },
      "source": [
        "train['zulu_time_value'] = train['zulu_time_value'].astype(float)"
      ],
      "execution_count": 0,
      "outputs": []
    },
    {
      "cell_type": "code",
      "metadata": {
        "id": "CRvCacNBi0gs",
        "colab_type": "code",
        "colab": {}
      },
      "source": [
        "#train['zulu_time_value'] = train['ZULU TIME'].str.extract('(\\d+)', expand=False)"
      ],
      "execution_count": 0,
      "outputs": []
    },
    {
      "cell_type": "code",
      "metadata": {
        "id": "x4ddk6lRh3D3",
        "colab_type": "code",
        "colab": {}
      },
      "source": [
        "train['wind_direction_value'] = train['WIND DIRECTION'].str.replace(r'[^\\d.]+', '')"
      ],
      "execution_count": 0,
      "outputs": []
    },
    {
      "cell_type": "code",
      "metadata": {
        "id": "pH5w5eZiorIy",
        "colab_type": "code",
        "outputId": "deb0d804-4fc5-40ce-a90b-362bdf3c3bf9",
        "colab": {
          "base_uri": "https://localhost:8080/",
          "height": 221
        }
      },
      "source": [
        "train['wind_direction_value'].fillna(0)"
      ],
      "execution_count": 0,
      "outputs": [
        {
          "output_type": "execute_result",
          "data": {
            "text/plain": [
              "0          0\n",
              "1          0\n",
              "2          0\n",
              "3          0\n",
              "4          0\n",
              "          ..\n",
              "7990330    0\n",
              "7990331    0\n",
              "7990332    0\n",
              "7990333    0\n",
              "7990334    0\n",
              "Name: wind_direction_value, Length: 7990335, dtype: object"
            ]
          },
          "metadata": {
            "tags": []
          },
          "execution_count": 73
        }
      ]
    },
    {
      "cell_type": "code",
      "metadata": {
        "id": "SHoB9a53ouff",
        "colab_type": "code",
        "colab": {}
      },
      "source": [
        "train['wind_direction_value'] = train['wind_direction_value'].astype(float)"
      ],
      "execution_count": 0,
      "outputs": []
    },
    {
      "cell_type": "code",
      "metadata": {
        "id": "U9OCqGNqlnXk",
        "colab_type": "code",
        "colab": {}
      },
      "source": [
        "train['prevailing_visibility_value'] = train['PREVAILING VISIBILITY'].str.replace(r'[^\\d.]+', '')"
      ],
      "execution_count": 0,
      "outputs": []
    },
    {
      "cell_type": "code",
      "metadata": {
        "id": "np7jQPcDo2JP",
        "colab_type": "code",
        "outputId": "1aca7b5d-0dea-4f68-c755-43ab19bcf5e1",
        "colab": {
          "base_uri": "https://localhost:8080/",
          "height": 221
        }
      },
      "source": [
        "train['prevailing_visibility_value'].fillna(0)"
      ],
      "execution_count": 0,
      "outputs": [
        {
          "output_type": "execute_result",
          "data": {
            "text/plain": [
              "0          0\n",
              "1          0\n",
              "2          0\n",
              "3          0\n",
              "4          0\n",
              "          ..\n",
              "7990330    0\n",
              "7990331    0\n",
              "7990332    0\n",
              "7990333    0\n",
              "7990334    0\n",
              "Name: prevailing_visibility_value, Length: 7990335, dtype: object"
            ]
          },
          "metadata": {
            "tags": []
          },
          "execution_count": 76
        }
      ]
    },
    {
      "cell_type": "code",
      "metadata": {
        "id": "VQPFf0vGpS6u",
        "colab_type": "code",
        "colab": {}
      },
      "source": [
        "train['prevailing_visibility_value'] = train['prevailing_visibility_value'].str.extract('(\\d+)', expand=False)"
      ],
      "execution_count": 0,
      "outputs": []
    },
    {
      "cell_type": "code",
      "metadata": {
        "id": "vjJqtG-To5wZ",
        "colab_type": "code",
        "colab": {}
      },
      "source": [
        "train['prevailing_visibility_value'] = train['prevailing_visibility_value'].astype(float)"
      ],
      "execution_count": 0,
      "outputs": []
    },
    {
      "cell_type": "code",
      "metadata": {
        "id": "gvdqmn4alqSc",
        "colab_type": "code",
        "outputId": "d0e3814f-c11f-4103-a1cb-abb9a916ab29",
        "colab": {
          "base_uri": "https://localhost:8080/",
          "height": 51
        }
      },
      "source": [
        "train['prevailing_visibility_value'].unique()"
      ],
      "execution_count": 0,
      "outputs": [
        {
          "output_type": "execute_result",
          "data": {
            "text/plain": [
              "array([nan, 10.,  9.,  7.,  6.,  3.,  8.,  1.,  5.,  4.,  2., 14., 34.,\n",
              "       12., 18.])"
            ]
          },
          "metadata": {
            "tags": []
          },
          "execution_count": 73
        }
      ]
    },
    {
      "cell_type": "code",
      "metadata": {
        "id": "39iEIF0FmODQ",
        "colab_type": "code",
        "colab": {}
      },
      "source": [
        "train['cloud_coverage_value'] = train['CLOUD COVERAGE'].str.replace(r'[^\\d.]+', '')"
      ],
      "execution_count": 0,
      "outputs": []
    },
    {
      "cell_type": "code",
      "metadata": {
        "id": "JYmeo3AHqQS4",
        "colab_type": "code",
        "colab": {}
      },
      "source": [
        "train['cloud_coverage_value'] = train['cloud_coverage_value'].str.extract('(\\d+)', expand=False)"
      ],
      "execution_count": 0,
      "outputs": []
    },
    {
      "cell_type": "code",
      "metadata": {
        "id": "5gIwFZ-gqFn3",
        "colab_type": "code",
        "colab": {}
      },
      "source": [
        "train['cloud_coverage_value'].fillna(0)\n",
        "train['cloud_coverage_value'] = train['cloud_coverage_value'].astype(float)"
      ],
      "execution_count": 0,
      "outputs": []
    },
    {
      "cell_type": "code",
      "metadata": {
        "id": "mZpOSCv5mo1O",
        "colab_type": "code",
        "colab": {}
      },
      "source": [
        "train['barometric_pressure_value'] = train['BAROMETRIC PRESSURE'].str.replace(r'[^\\d.]+', '')"
      ],
      "execution_count": 0,
      "outputs": []
    },
    {
      "cell_type": "code",
      "metadata": {
        "id": "tGwHD9nxrL84",
        "colab_type": "code",
        "colab": {}
      },
      "source": [
        "train['barometric_pressure_value'] = train['barometric_pressure_value'].str.extract('(\\d+)', expand=False)"
      ],
      "execution_count": 0,
      "outputs": []
    },
    {
      "cell_type": "code",
      "metadata": {
        "id": "vx_DyADAqcAk",
        "colab_type": "code",
        "colab": {}
      },
      "source": [
        "train['barometric_pressure_value'].fillna(0)\n",
        "train['barometric_pressure_value'] = train['barometric_pressure_value'].astype(float)"
      ],
      "execution_count": 0,
      "outputs": []
    },
    {
      "cell_type": "code",
      "metadata": {
        "id": "KOXwMsV4nLjI",
        "colab_type": "code",
        "colab": {}
      },
      "source": [
        "train['temp_dewpoint_value'] = train['TEMP/DEW POINT'].str.replace(r'[^\\d.]+', '')"
      ],
      "execution_count": 0,
      "outputs": []
    },
    {
      "cell_type": "code",
      "metadata": {
        "id": "uhxMFbWdrXvQ",
        "colab_type": "code",
        "colab": {}
      },
      "source": [
        "train['temp_dewpoint_value'].fillna(0)\n",
        "train['temp_dewpoint_value'] = train['temp_dewpoint_value'].astype(float)"
      ],
      "execution_count": 0,
      "outputs": []
    },
    {
      "cell_type": "code",
      "metadata": {
        "id": "bikDF2NdsVAr",
        "colab_type": "code",
        "outputId": "8265c0e9-6766-4459-84f3-2812542437c4",
        "colab": {
          "base_uri": "https://localhost:8080/",
          "height": 375
        }
      },
      "source": [
        "train.columns"
      ],
      "execution_count": 0,
      "outputs": [
        {
          "output_type": "execute_result",
          "data": {
            "text/plain": [
              "Index(['YEAR', 'QUARTER', 'MONTH', 'DAY_OF_MONTH', 'DAY_OF_WEEK', 'FL_DATE',\n",
              "       'OP_UNIQUE_CARRIER', 'OP_CARRIER_AIRLINE_ID', 'OP_CARRIER', 'TAIL_NUM',\n",
              "       'OP_CARRIER_FL_NUM', 'ORIGIN_AIRPORT_ID', 'ORIGIN_AIRPORT_SEQ_ID',\n",
              "       'ORIGIN_CITY_MARKET_ID', 'ORIGIN', 'ORIGIN_CITY_NAME',\n",
              "       'ORIGIN_STATE_ABR', 'ORIGIN_STATE_FIPS', 'ORIGIN_STATE_NM',\n",
              "       'ORIGIN_WAC', 'DEST_AIRPORT_ID', 'DEST_AIRPORT_SEQ_ID',\n",
              "       'DEST_CITY_MARKET_ID', 'DEST', 'DEST_CITY_NAME', 'DEST_STATE_ABR',\n",
              "       'DEST_STATE_FIPS', 'DEST_STATE_NM', 'DEST_WAC', 'CRS_DEP_TIME',\n",
              "       'DEP_TIME_BLK', 'TAXI_OUT', 'WHEELS_OFF', 'WHEELS_ON', 'TAXI_IN',\n",
              "       'CRS_ARR_TIME', 'ARR_TIME', 'ARR_DELAY', 'ARR_DELAY_NEW', 'ARR_DEL15',\n",
              "       'ARR_DELAY_GROUP', 'ARR_TIME_BLK', 'CANCELLED', 'DIVERTED',\n",
              "       'CRS_ELAPSED_TIME', 'ACTUAL_ELAPSED_TIME', 'AIR_TIME', 'DISTANCE',\n",
              "       'DISTANCE_GROUP', 'DIV_AIRPORT_LANDINGS', 'incident_category', 'City',\n",
              "       'FAA', 'IATA', 'ICAO', 'Airport', 'Role', 'Enplanements', 'Unnamed: 7',\n",
              "       'proposed_pred_time', 'dts_x', 'icao_x_dts', 'Weather_type',\n",
              "       'ICAO CODES', 'ZULU TIME', 'WIND DIRECTION', 'PREVAILING VISIBILITY',\n",
              "       'CLOUD COVERAGE', 'BAROMETRIC PRESSURE', 'TEMP/DEW POINT', 'DATE',\n",
              "       'TIME', 'dts_y', 'zulu_time_value', 'wind_direction_value',\n",
              "       'prevailing_visibility_value', 'cloud_coverage_value',\n",
              "       'barometric_pressure_value', 'temp_dewpoint_value'],\n",
              "      dtype='object')"
            ]
          },
          "metadata": {
            "tags": []
          },
          "execution_count": 82
        }
      ]
    },
    {
      "cell_type": "code",
      "metadata": {
        "id": "riCPO4ipmkAH",
        "colab_type": "code",
        "outputId": "fb549650-c54c-48d4-df5e-95f5ae5ce7d2",
        "colab": {
          "base_uri": "https://localhost:8080/",
          "height": 733
        }
      },
      "source": [
        "train[train.columns[1:]].corr()['TAXI_OUT'][:]"
      ],
      "execution_count": 0,
      "outputs": [
        {
          "output_type": "execute_result",
          "data": {
            "text/plain": [
              "QUARTER                       -0.005355\n",
              "MONTH                         -0.005148\n",
              "DAY_OF_MONTH                  -0.003312\n",
              "DAY_OF_WEEK                   -0.013925\n",
              "OP_CARRIER_AIRLINE_ID          0.195809\n",
              "OP_CARRIER_FL_NUM              0.073870\n",
              "ORIGIN_AIRPORT_ID             -0.009189\n",
              "ORIGIN_AIRPORT_SEQ_ID         -0.009188\n",
              "ORIGIN_CITY_MARKET_ID         -0.050341\n",
              "ORIGIN_STATE_FIPS              0.050829\n",
              "ORIGIN_WAC                    -0.071616\n",
              "DEST_AIRPORT_ID                0.014624\n",
              "DEST_AIRPORT_SEQ_ID            0.014624\n",
              "DEST_CITY_MARKET_ID            0.035209\n",
              "DEST_STATE_FIPS                0.022889\n",
              "DEST_WAC                      -0.033419\n",
              "TAXI_OUT                       1.000000\n",
              "WHEELS_OFF                     0.039888\n",
              "WHEELS_ON                      0.030280\n",
              "TAXI_IN                        0.022184\n",
              "CRS_ARR_TIME                   0.022277\n",
              "ARR_TIME                       0.026909\n",
              "ARR_DELAY                      0.219325\n",
              "ARR_DELAY_NEW                  0.179659\n",
              "ARR_DEL15                      0.283682\n",
              "ARR_DELAY_GROUP                0.279610\n",
              "CANCELLED                     -0.225435\n",
              "DIVERTED                       0.015985\n",
              "CRS_ELAPSED_TIME               0.086233\n",
              "ACTUAL_ELAPSED_TIME            0.191958\n",
              "AIR_TIME                       0.054902\n",
              "DISTANCE                       0.044454\n",
              "DISTANCE_GROUP                 0.043033\n",
              "DIV_AIRPORT_LANDINGS           0.011997\n",
              "incident_category              0.694265\n",
              "zulu_time_value                0.051142\n",
              "wind_direction_value          -0.005337\n",
              "prevailing_visibility_value   -0.058223\n",
              "cloud_coverage_value          -0.006522\n",
              "barometric_pressure_value     -0.072316\n",
              "temp_dewpoint_value            0.158638\n",
              "Name: TAXI_OUT, dtype: float64"
            ]
          },
          "metadata": {
            "tags": []
          },
          "execution_count": 88
        }
      ]
    },
    {
      "cell_type": "code",
      "metadata": {
        "id": "1EU69yjpntS7",
        "colab_type": "code",
        "colab": {}
      },
      "source": [
        "train.drop(axis=1,inplace=True,columns=['OP_CARRIER','TAIL_NUM','ORIGIN_STATE_NM','DEST_STATE_ABR','DEST_STATE_FIPS', 'DEST_STATE_NM','City',\n",
        "       'FAA', 'IATA', 'ICAO', 'Airport', 'Role', 'Enplanements', 'Unnamed: 7','Weather_type','ICAO CODES', 'ZULU TIME', 'WIND DIRECTION', 'PREVAILING VISIBILITY',\n",
        "       'CLOUD COVERAGE', 'BAROMETRIC PRESSURE', 'TEMP/DEW POINT', 'DATE',\n",
        "       'TIME', 'dts_y'])"
      ],
      "execution_count": 0,
      "outputs": []
    },
    {
      "cell_type": "code",
      "metadata": {
        "id": "9PQlsNU2rogx",
        "colab_type": "code",
        "outputId": "3123574a-d7ea-411f-e3f1-95aaa10d5be1",
        "colab": {
          "base_uri": "https://localhost:8080/",
          "height": 266
        }
      },
      "source": [
        "train.columns"
      ],
      "execution_count": 0,
      "outputs": [
        {
          "output_type": "execute_result",
          "data": {
            "text/plain": [
              "Index(['YEAR', 'QUARTER', 'MONTH', 'DAY_OF_MONTH', 'DAY_OF_WEEK', 'FL_DATE',\n",
              "       'OP_UNIQUE_CARRIER', 'OP_CARRIER_AIRLINE_ID', 'OP_CARRIER_FL_NUM',\n",
              "       'ORIGIN', 'ORIGIN_CITY_NAME', 'ORIGIN_STATE_ABR', 'ORIGIN_STATE_FIPS',\n",
              "       'DEST_AIRPORT_ID', 'DEST_AIRPORT_SEQ_ID', 'DEST_CITY_MARKET_ID', 'DEST',\n",
              "       'DEST_CITY_NAME', 'CRS_DEP_TIME', 'DEP_TIME_BLK', 'TAXI_OUT',\n",
              "       'WHEELS_OFF', 'WHEELS_ON', 'TAXI_IN', 'CRS_ARR_TIME', 'ARR_TIME',\n",
              "       'ARR_DELAY', 'ARR_DELAY_NEW', 'ARR_DEL15', 'ARR_DELAY_GROUP',\n",
              "       'ARR_TIME_BLK', 'CANCELLED', 'DIVERTED', 'CRS_ELAPSED_TIME',\n",
              "       'ACTUAL_ELAPSED_TIME', 'AIR_TIME', 'DISTANCE', 'DISTANCE_GROUP',\n",
              "       'DIV_AIRPORT_LANDINGS', 'incident_category', 'proposed_pred_time',\n",
              "       'dts_x', 'icao_x_dts', 'zulu_time_value', 'wind_direction_value',\n",
              "       'prevailing_visibility_value', 'cloud_coverage_value',\n",
              "       'barometric_pressure_value', 'temp_dewpoint_value'],\n",
              "      dtype='object')"
            ]
          },
          "metadata": {
            "tags": []
          },
          "execution_count": 118
        }
      ]
    },
    {
      "cell_type": "code",
      "metadata": {
        "id": "F3OtaOeRtqrW",
        "colab_type": "code",
        "colab": {}
      },
      "source": [
        "del seq1"
      ],
      "execution_count": 0,
      "outputs": []
    },
    {
      "cell_type": "code",
      "metadata": {
        "id": "OjlL2yB7w_jK",
        "colab_type": "code",
        "colab": {}
      },
      "source": [
        "train.drop(axis=1,inplace=True,columns=['FL_DATE','ORIGIN_CITY_NAME','ORIGIN_STATE_ABR','ORIGIN','DEST','DEST_CITY_NAME','proposed_pred_time',\n",
        "                                        'icao_x_dts','CANCELLED', 'DIVERTED',])"
      ],
      "execution_count": 0,
      "outputs": []
    },
    {
      "cell_type": "code",
      "metadata": {
        "id": "9PRrkkkmy8gM",
        "colab_type": "code",
        "colab": {}
      },
      "source": [
        "train.drop(axis=1,inplace=True,columns=['CRS_DEP_TIME','dts_x'])"
      ],
      "execution_count": 0,
      "outputs": []
    },
    {
      "cell_type": "code",
      "metadata": {
        "id": "HyT1ZPCozItc",
        "colab_type": "code",
        "outputId": "753d4041-134f-4a31-be2d-f1b90ba8d550",
        "colab": {
          "base_uri": "https://localhost:8080/",
          "height": 34
        }
      },
      "source": [
        "train.shape"
      ],
      "execution_count": 0,
      "outputs": [
        {
          "output_type": "execute_result",
          "data": {
            "text/plain": [
              "(7990335, 42)"
            ]
          },
          "metadata": {
            "tags": []
          },
          "execution_count": 86
        }
      ]
    },
    {
      "cell_type": "code",
      "metadata": {
        "id": "i7-8lT41vw5c",
        "colab_type": "code",
        "outputId": "90760877-8674-43b3-b45c-970b0e652c9a",
        "colab": {
          "base_uri": "https://localhost:8080/",
          "height": 35
        }
      },
      "source": [
        "train['DEST_CITY_NAME'].nunique()"
      ],
      "execution_count": 0,
      "outputs": [
        {
          "output_type": "execute_result",
          "data": {
            "text/plain": [
              "352"
            ]
          },
          "metadata": {
            "tags": []
          },
          "execution_count": 132
        }
      ]
    },
    {
      "cell_type": "code",
      "metadata": {
        "id": "pksga7zuv3Dd",
        "colab_type": "code",
        "outputId": "1be975d8-247f-4f0b-f860-2fa7052492aa",
        "colab": {
          "base_uri": "https://localhost:8080/",
          "height": 124
        }
      },
      "source": [
        "train['DEP_TIME_BLK'].head()"
      ],
      "execution_count": 0,
      "outputs": [
        {
          "output_type": "execute_result",
          "data": {
            "text/plain": [
              "0    0600-0659\n",
              "1    0700-0759\n",
              "2    1100-1159\n",
              "3    0700-0759\n",
              "4    1000-1059\n",
              "Name: DEP_TIME_BLK, dtype: object"
            ]
          },
          "metadata": {
            "tags": []
          },
          "execution_count": 128
        }
      ]
    },
    {
      "cell_type": "code",
      "metadata": {
        "id": "HesWPmyqFgD6",
        "colab_type": "code",
        "outputId": "8405d299-fe66-48ed-96ac-af693b80f941",
        "colab": {
          "base_uri": "https://localhost:8080/",
          "height": 728
        }
      },
      "source": [
        "train.isnull().sum()"
      ],
      "execution_count": 0,
      "outputs": [
        {
          "output_type": "execute_result",
          "data": {
            "text/plain": [
              "YEAR                                0\n",
              "QUARTER                             0\n",
              "MONTH                               0\n",
              "DAY_OF_MONTH                        0\n",
              "DAY_OF_WEEK                         0\n",
              "OP_UNIQUE_CARRIER                   0\n",
              "OP_CARRIER_AIRLINE_ID               0\n",
              "OP_CARRIER_FL_NUM                   0\n",
              "ORIGIN_STATE_FIPS                   0\n",
              "DEST_AIRPORT_ID                     0\n",
              "DEST_AIRPORT_SEQ_ID                 0\n",
              "DEST_CITY_MARKET_ID                 0\n",
              "DEP_TIME_BLK                        0\n",
              "TAXI_OUT                            0\n",
              "WHEELS_OFF                     141198\n",
              "WHEELS_ON                      145152\n",
              "TAXI_IN                        145152\n",
              "CRS_ARR_TIME                        0\n",
              "ARR_TIME                       145150\n",
              "ARR_DELAY                      162616\n",
              "ARR_DELAY_NEW                  162616\n",
              "ARR_DEL15                      162616\n",
              "ARR_DELAY_GROUP                162616\n",
              "ARR_TIME_BLK                        0\n",
              "CANCELLED                           0\n",
              "DIVERTED                            0\n",
              "CRS_ELAPSED_TIME                  135\n",
              "ACTUAL_ELAPSED_TIME            162616\n",
              "AIR_TIME                       162616\n",
              "DISTANCE                            0\n",
              "DISTANCE_GROUP                      0\n",
              "DIV_AIRPORT_LANDINGS                0\n",
              "incident_category                   0\n",
              "zulu_time_value                     0\n",
              "wind_direction_value                0\n",
              "prevailing_visibility_value         0\n",
              "cloud_coverage_value                0\n",
              "barometric_pressure_value           0\n",
              "temp_dewpoint_value                 0\n",
              "dtype: int64"
            ]
          },
          "metadata": {
            "tags": []
          },
          "execution_count": 89
        }
      ]
    },
    {
      "cell_type": "code",
      "metadata": {
        "id": "OQzoTh3F2N1w",
        "colab_type": "code",
        "colab": {}
      },
      "source": [
        "train['zulu_time_value'].fillna(0,inplace=True)\n",
        "train['wind_direction_value'].fillna(0,inplace=True)\n",
        "train['prevailing_visibility_value'].fillna(0,inplace=True)\n",
        "train['cloud_coverage_value'].fillna(0,inplace=True)\n",
        "train['barometric_pressure_value'].fillna(0,inplace=True)\n",
        "train['temp_dewpoint_value'].fillna(0,inplace=True)\n"
      ],
      "execution_count": 0,
      "outputs": []
    },
    {
      "cell_type": "code",
      "metadata": {
        "id": "66qYF4CMsgIz",
        "colab_type": "code",
        "outputId": "04207c04-0fef-4caf-bfbf-c910b3e42e11",
        "colab": {
          "base_uri": "https://localhost:8080/",
          "height": 34
        }
      },
      "source": [
        "train.shape"
      ],
      "execution_count": 0,
      "outputs": [
        {
          "output_type": "execute_result",
          "data": {
            "text/plain": [
              "(7827719, 42)"
            ]
          },
          "metadata": {
            "tags": []
          },
          "execution_count": 91
        }
      ]
    },
    {
      "cell_type": "code",
      "metadata": {
        "id": "XJIP6VfN2v50",
        "colab_type": "code",
        "colab": {}
      },
      "source": [
        "train.fillna(0,inplace=True)"
      ],
      "execution_count": 0,
      "outputs": []
    },
    {
      "cell_type": "code",
      "metadata": {
        "id": "UFuoFIgG3CJf",
        "colab_type": "code",
        "outputId": "8ced7b4a-72dd-483e-8b33-877453d0a32c",
        "colab": {
          "base_uri": "https://localhost:8080/",
          "height": 163
        }
      },
      "source": [
        "del nov_18,oct_19,apr_19,may_19,airports_codes"
      ],
      "execution_count": 0,
      "outputs": [
        {
          "output_type": "error",
          "ename": "NameError",
          "evalue": "ignored",
          "traceback": [
            "\u001b[0;31m---------------------------------------------------------------------------\u001b[0m",
            "\u001b[0;31mNameError\u001b[0m                                 Traceback (most recent call last)",
            "\u001b[0;32m<ipython-input-184-d7715a332cad>\u001b[0m in \u001b[0;36m<module>\u001b[0;34m()\u001b[0m\n\u001b[0;32m----> 1\u001b[0;31m \u001b[0;32mdel\u001b[0m \u001b[0moct_19\u001b[0m\u001b[0;34m,\u001b[0m\u001b[0mapr_19\u001b[0m\u001b[0;34m,\u001b[0m\u001b[0mmay_19\u001b[0m\u001b[0;34m,\u001b[0m\u001b[0mairports_codes\u001b[0m\u001b[0;34m\u001b[0m\u001b[0;34m\u001b[0m\u001b[0m\n\u001b[0m",
            "\u001b[0;31mNameError\u001b[0m: name 'oct_19' is not defined"
          ]
        }
      ]
    },
    {
      "cell_type": "code",
      "metadata": {
        "id": "bUsok-bNg7q6",
        "colab_type": "code",
        "outputId": "20c5bad6-5cc0-4a27-90e6-59a851cf9104",
        "colab": {
          "base_uri": "https://localhost:8080/",
          "height": 214
        }
      },
      "source": [
        "train.head()"
      ],
      "execution_count": 0,
      "outputs": [
        {
          "output_type": "execute_result",
          "data": {
            "text/html": [
              "<div>\n",
              "<style scoped>\n",
              "    .dataframe tbody tr th:only-of-type {\n",
              "        vertical-align: middle;\n",
              "    }\n",
              "\n",
              "    .dataframe tbody tr th {\n",
              "        vertical-align: top;\n",
              "    }\n",
              "\n",
              "    .dataframe thead th {\n",
              "        text-align: right;\n",
              "    }\n",
              "</style>\n",
              "<table border=\"1\" class=\"dataframe\">\n",
              "  <thead>\n",
              "    <tr style=\"text-align: right;\">\n",
              "      <th></th>\n",
              "      <th>YEAR</th>\n",
              "      <th>QUARTER</th>\n",
              "      <th>MONTH</th>\n",
              "      <th>DAY_OF_MONTH</th>\n",
              "      <th>DAY_OF_WEEK</th>\n",
              "      <th>OP_UNIQUE_CARRIER</th>\n",
              "      <th>OP_CARRIER_AIRLINE_ID</th>\n",
              "      <th>OP_CARRIER_FL_NUM</th>\n",
              "      <th>ORIGIN_STATE_FIPS</th>\n",
              "      <th>DEST_AIRPORT_ID</th>\n",
              "      <th>DEST_AIRPORT_SEQ_ID</th>\n",
              "      <th>DEST_CITY_MARKET_ID</th>\n",
              "      <th>DEP_TIME_BLK</th>\n",
              "      <th>TAXI_OUT</th>\n",
              "      <th>WHEELS_OFF</th>\n",
              "      <th>WHEELS_ON</th>\n",
              "      <th>TAXI_IN</th>\n",
              "      <th>CRS_ARR_TIME</th>\n",
              "      <th>ARR_TIME</th>\n",
              "      <th>ARR_DELAY</th>\n",
              "      <th>ARR_DELAY_NEW</th>\n",
              "      <th>ARR_DEL15</th>\n",
              "      <th>ARR_DELAY_GROUP</th>\n",
              "      <th>ARR_TIME_BLK</th>\n",
              "      <th>CANCELLED</th>\n",
              "      <th>DIVERTED</th>\n",
              "      <th>CRS_ELAPSED_TIME</th>\n",
              "      <th>ACTUAL_ELAPSED_TIME</th>\n",
              "      <th>AIR_TIME</th>\n",
              "      <th>DISTANCE</th>\n",
              "      <th>DISTANCE_GROUP</th>\n",
              "      <th>DIV_AIRPORT_LANDINGS</th>\n",
              "      <th>incident_category</th>\n",
              "      <th>zulu_time_value</th>\n",
              "      <th>wind_direction_value</th>\n",
              "      <th>prevailing_visibility_value</th>\n",
              "      <th>cloud_coverage_value</th>\n",
              "      <th>barometric_pressure_value</th>\n",
              "      <th>temp_dewpoint_value</th>\n",
              "    </tr>\n",
              "  </thead>\n",
              "  <tbody>\n",
              "    <tr>\n",
              "      <th>0</th>\n",
              "      <td>2018</td>\n",
              "      <td>4</td>\n",
              "      <td>12</td>\n",
              "      <td>6</td>\n",
              "      <td>4</td>\n",
              "      <td>DL</td>\n",
              "      <td>19790</td>\n",
              "      <td>2454</td>\n",
              "      <td>6</td>\n",
              "      <td>10397</td>\n",
              "      <td>1039707</td>\n",
              "      <td>30397</td>\n",
              "      <td>0600-0659</td>\n",
              "      <td>19</td>\n",
              "      <td>714.0</td>\n",
              "      <td>1334.0</td>\n",
              "      <td>5.0</td>\n",
              "      <td>1356</td>\n",
              "      <td>1339.0</td>\n",
              "      <td>-17.0</td>\n",
              "      <td>0.0</td>\n",
              "      <td>0.0</td>\n",
              "      <td>-2.0</td>\n",
              "      <td>1300-1359</td>\n",
              "      <td>0.0</td>\n",
              "      <td>0.0</td>\n",
              "      <td>251.0</td>\n",
              "      <td>224.0</td>\n",
              "      <td>200.0</td>\n",
              "      <td>1919.0</td>\n",
              "      <td>8</td>\n",
              "      <td>0</td>\n",
              "      <td>0</td>\n",
              "      <td>0.0</td>\n",
              "      <td>0.0</td>\n",
              "      <td>0.0</td>\n",
              "      <td>0.0</td>\n",
              "      <td>0.0</td>\n",
              "      <td>0.0</td>\n",
              "    </tr>\n",
              "    <tr>\n",
              "      <th>1</th>\n",
              "      <td>2018</td>\n",
              "      <td>4</td>\n",
              "      <td>12</td>\n",
              "      <td>6</td>\n",
              "      <td>4</td>\n",
              "      <td>DL</td>\n",
              "      <td>19790</td>\n",
              "      <td>2455</td>\n",
              "      <td>48</td>\n",
              "      <td>10397</td>\n",
              "      <td>1039707</td>\n",
              "      <td>30397</td>\n",
              "      <td>0700-0759</td>\n",
              "      <td>12</td>\n",
              "      <td>708.0</td>\n",
              "      <td>945.0</td>\n",
              "      <td>6.0</td>\n",
              "      <td>1008</td>\n",
              "      <td>951.0</td>\n",
              "      <td>-17.0</td>\n",
              "      <td>0.0</td>\n",
              "      <td>0.0</td>\n",
              "      <td>-2.0</td>\n",
              "      <td>1000-1059</td>\n",
              "      <td>0.0</td>\n",
              "      <td>0.0</td>\n",
              "      <td>128.0</td>\n",
              "      <td>115.0</td>\n",
              "      <td>97.0</td>\n",
              "      <td>813.0</td>\n",
              "      <td>4</td>\n",
              "      <td>0</td>\n",
              "      <td>0</td>\n",
              "      <td>0.0</td>\n",
              "      <td>0.0</td>\n",
              "      <td>0.0</td>\n",
              "      <td>0.0</td>\n",
              "      <td>0.0</td>\n",
              "      <td>0.0</td>\n",
              "    </tr>\n",
              "    <tr>\n",
              "      <th>2</th>\n",
              "      <td>2018</td>\n",
              "      <td>4</td>\n",
              "      <td>12</td>\n",
              "      <td>6</td>\n",
              "      <td>4</td>\n",
              "      <td>DL</td>\n",
              "      <td>19790</td>\n",
              "      <td>2456</td>\n",
              "      <td>36</td>\n",
              "      <td>11697</td>\n",
              "      <td>1169706</td>\n",
              "      <td>32467</td>\n",
              "      <td>1100-1159</td>\n",
              "      <td>25</td>\n",
              "      <td>1154.0</td>\n",
              "      <td>1426.0</td>\n",
              "      <td>3.0</td>\n",
              "      <td>1449</td>\n",
              "      <td>1429.0</td>\n",
              "      <td>-20.0</td>\n",
              "      <td>0.0</td>\n",
              "      <td>0.0</td>\n",
              "      <td>-2.0</td>\n",
              "      <td>1400-1459</td>\n",
              "      <td>0.0</td>\n",
              "      <td>0.0</td>\n",
              "      <td>196.0</td>\n",
              "      <td>180.0</td>\n",
              "      <td>152.0</td>\n",
              "      <td>1069.0</td>\n",
              "      <td>5</td>\n",
              "      <td>0</td>\n",
              "      <td>0</td>\n",
              "      <td>0.0</td>\n",
              "      <td>0.0</td>\n",
              "      <td>0.0</td>\n",
              "      <td>0.0</td>\n",
              "      <td>0.0</td>\n",
              "      <td>0.0</td>\n",
              "    </tr>\n",
              "    <tr>\n",
              "      <th>3</th>\n",
              "      <td>2018</td>\n",
              "      <td>4</td>\n",
              "      <td>12</td>\n",
              "      <td>6</td>\n",
              "      <td>4</td>\n",
              "      <td>DL</td>\n",
              "      <td>19790</td>\n",
              "      <td>2457</td>\n",
              "      <td>13</td>\n",
              "      <td>10529</td>\n",
              "      <td>1052906</td>\n",
              "      <td>30529</td>\n",
              "      <td>0700-0759</td>\n",
              "      <td>29</td>\n",
              "      <td>753.0</td>\n",
              "      <td>941.0</td>\n",
              "      <td>3.0</td>\n",
              "      <td>941</td>\n",
              "      <td>944.0</td>\n",
              "      <td>3.0</td>\n",
              "      <td>3.0</td>\n",
              "      <td>0.0</td>\n",
              "      <td>0.0</td>\n",
              "      <td>0900-0959</td>\n",
              "      <td>0.0</td>\n",
              "      <td>0.0</td>\n",
              "      <td>134.0</td>\n",
              "      <td>140.0</td>\n",
              "      <td>108.0</td>\n",
              "      <td>859.0</td>\n",
              "      <td>4</td>\n",
              "      <td>0</td>\n",
              "      <td>0</td>\n",
              "      <td>0.0</td>\n",
              "      <td>0.0</td>\n",
              "      <td>0.0</td>\n",
              "      <td>0.0</td>\n",
              "      <td>0.0</td>\n",
              "      <td>0.0</td>\n",
              "    </tr>\n",
              "    <tr>\n",
              "      <th>4</th>\n",
              "      <td>2018</td>\n",
              "      <td>4</td>\n",
              "      <td>12</td>\n",
              "      <td>6</td>\n",
              "      <td>4</td>\n",
              "      <td>DL</td>\n",
              "      <td>19790</td>\n",
              "      <td>2457</td>\n",
              "      <td>9</td>\n",
              "      <td>10397</td>\n",
              "      <td>1039707</td>\n",
              "      <td>30397</td>\n",
              "      <td>1000-1059</td>\n",
              "      <td>8</td>\n",
              "      <td>1042.0</td>\n",
              "      <td>1254.0</td>\n",
              "      <td>6.0</td>\n",
              "      <td>1325</td>\n",
              "      <td>1300.0</td>\n",
              "      <td>-25.0</td>\n",
              "      <td>0.0</td>\n",
              "      <td>0.0</td>\n",
              "      <td>-2.0</td>\n",
              "      <td>1300-1359</td>\n",
              "      <td>0.0</td>\n",
              "      <td>0.0</td>\n",
              "      <td>166.0</td>\n",
              "      <td>146.0</td>\n",
              "      <td>132.0</td>\n",
              "      <td>859.0</td>\n",
              "      <td>4</td>\n",
              "      <td>0</td>\n",
              "      <td>0</td>\n",
              "      <td>0.0</td>\n",
              "      <td>0.0</td>\n",
              "      <td>0.0</td>\n",
              "      <td>0.0</td>\n",
              "      <td>0.0</td>\n",
              "      <td>0.0</td>\n",
              "    </tr>\n",
              "  </tbody>\n",
              "</table>\n",
              "</div>"
            ],
            "text/plain": [
              "   YEAR  QUARTER  ...  barometric_pressure_value  temp_dewpoint_value\n",
              "0  2018        4  ...                        0.0                  0.0\n",
              "1  2018        4  ...                        0.0                  0.0\n",
              "2  2018        4  ...                        0.0                  0.0\n",
              "3  2018        4  ...                        0.0                  0.0\n",
              "4  2018        4  ...                        0.0                  0.0\n",
              "\n",
              "[5 rows x 39 columns]"
            ]
          },
          "metadata": {
            "tags": []
          },
          "execution_count": 122
        }
      ]
    },
    {
      "cell_type": "code",
      "metadata": {
        "id": "19lTz-dv6F90",
        "colab_type": "code",
        "colab": {}
      },
      "source": [
        "df = train"
      ],
      "execution_count": 0,
      "outputs": []
    },
    {
      "cell_type": "code",
      "metadata": {
        "id": "zfmJNBBp6LOR",
        "colab_type": "code",
        "outputId": "1ce75ac3-2abd-44d2-9419-e54153d6d271",
        "colab": {
          "base_uri": "https://localhost:8080/",
          "height": 682
        }
      },
      "source": [
        "train[train.columns[1:]].corr()['TAXI_OUT'][:]"
      ],
      "execution_count": 0,
      "outputs": [
        {
          "output_type": "execute_result",
          "data": {
            "text/plain": [
              "QUARTER                       -0.005355\n",
              "MONTH                         -0.005148\n",
              "DAY_OF_MONTH                  -0.003312\n",
              "DAY_OF_WEEK                   -0.013925\n",
              "OP_CARRIER_AIRLINE_ID          0.195809\n",
              "OP_CARRIER_FL_NUM              0.073870\n",
              "ORIGIN_AIRPORT_ID             -0.009189\n",
              "ORIGIN_AIRPORT_SEQ_ID         -0.009188\n",
              "ORIGIN_CITY_MARKET_ID         -0.050341\n",
              "ORIGIN_STATE_FIPS              0.050829\n",
              "ORIGIN_WAC                    -0.071616\n",
              "DEST_AIRPORT_ID                0.014624\n",
              "DEST_AIRPORT_SEQ_ID            0.014624\n",
              "DEST_CITY_MARKET_ID            0.035209\n",
              "DEST_WAC                      -0.033419\n",
              "TAXI_OUT                       1.000000\n",
              "WHEELS_OFF                     0.112637\n",
              "WHEELS_ON                      0.104430\n",
              "TAXI_IN                        0.058303\n",
              "CRS_ARR_TIME                   0.022277\n",
              "ARR_TIME                       0.100995\n",
              "ARR_DELAY                      0.216192\n",
              "ARR_DELAY_NEW                  0.183129\n",
              "ARR_DEL15                      0.289129\n",
              "ARR_DELAY_GROUP                0.269395\n",
              "CRS_ELAPSED_TIME               0.086283\n",
              "ACTUAL_ELAPSED_TIME            0.233284\n",
              "AIR_TIME                       0.097121\n",
              "DISTANCE                       0.044454\n",
              "DISTANCE_GROUP                 0.043033\n",
              "DIV_AIRPORT_LANDINGS           0.011997\n",
              "incident_category              0.694265\n",
              "zulu_time_value               -0.003623\n",
              "wind_direction_value          -0.001501\n",
              "prevailing_visibility_value   -0.004715\n",
              "cloud_coverage_value          -0.002876\n",
              "barometric_pressure_value     -0.004247\n",
              "temp_dewpoint_value           -0.002437\n",
              "Name: TAXI_OUT, dtype: float64"
            ]
          },
          "metadata": {
            "tags": []
          },
          "execution_count": 108
        }
      ]
    },
    {
      "cell_type": "code",
      "metadata": {
        "id": "GFZzm34r6OJT",
        "colab_type": "code",
        "colab": {}
      },
      "source": [
        "del train"
      ],
      "execution_count": 0,
      "outputs": []
    },
    {
      "cell_type": "code",
      "metadata": {
        "id": "in8AXbEU6n17",
        "colab_type": "code",
        "colab": {}
      },
      "source": [
        "df1 = df"
      ],
      "execution_count": 0,
      "outputs": []
    },
    {
      "cell_type": "markdown",
      "metadata": {
        "id": "PWaFN2Gm3c9z",
        "colab_type": "text"
      },
      "source": [
        "#Building Classification Model"
      ]
    },
    {
      "cell_type": "code",
      "metadata": {
        "id": "JNj-kQD5nxnu",
        "colab_type": "code",
        "outputId": "d1888ef7-be69-4ace-ff36-5f6fcaeb7358",
        "colab": {
          "base_uri": "https://localhost:8080/",
          "height": 306
        }
      },
      "source": [
        "train.drop(axis=1,inplace=True,columns=['CRS_DEP_TIME',])"
      ],
      "execution_count": 0,
      "outputs": [
        {
          "output_type": "error",
          "ename": "KeyError",
          "evalue": "ignored",
          "traceback": [
            "\u001b[0;31m---------------------------------------------------------------------------\u001b[0m",
            "\u001b[0;31mKeyError\u001b[0m                                  Traceback (most recent call last)",
            "\u001b[0;32m<ipython-input-97-23088d07b51e>\u001b[0m in \u001b[0;36m<module>\u001b[0;34m()\u001b[0m\n\u001b[0;32m----> 1\u001b[0;31m \u001b[0mtrain\u001b[0m\u001b[0;34m.\u001b[0m\u001b[0mdrop\u001b[0m\u001b[0;34m(\u001b[0m\u001b[0maxis\u001b[0m\u001b[0;34m=\u001b[0m\u001b[0;36m1\u001b[0m\u001b[0;34m,\u001b[0m\u001b[0minplace\u001b[0m\u001b[0;34m=\u001b[0m\u001b[0;32mTrue\u001b[0m\u001b[0;34m,\u001b[0m\u001b[0mcolumns\u001b[0m\u001b[0;34m=\u001b[0m\u001b[0;34m[\u001b[0m\u001b[0;34m'CRS_DEP_TIME'\u001b[0m\u001b[0;34m,\u001b[0m\u001b[0;34m]\u001b[0m\u001b[0;34m)\u001b[0m\u001b[0;34m\u001b[0m\u001b[0;34m\u001b[0m\u001b[0m\n\u001b[0m",
            "\u001b[0;32m/usr/local/lib/python3.6/dist-packages/pandas/core/frame.py\u001b[0m in \u001b[0;36mdrop\u001b[0;34m(self, labels, axis, index, columns, level, inplace, errors)\u001b[0m\n\u001b[1;32m   4115\u001b[0m             \u001b[0mlevel\u001b[0m\u001b[0;34m=\u001b[0m\u001b[0mlevel\u001b[0m\u001b[0;34m,\u001b[0m\u001b[0;34m\u001b[0m\u001b[0;34m\u001b[0m\u001b[0m\n\u001b[1;32m   4116\u001b[0m             \u001b[0minplace\u001b[0m\u001b[0;34m=\u001b[0m\u001b[0minplace\u001b[0m\u001b[0;34m,\u001b[0m\u001b[0;34m\u001b[0m\u001b[0;34m\u001b[0m\u001b[0m\n\u001b[0;32m-> 4117\u001b[0;31m             \u001b[0merrors\u001b[0m\u001b[0;34m=\u001b[0m\u001b[0merrors\u001b[0m\u001b[0;34m,\u001b[0m\u001b[0;34m\u001b[0m\u001b[0;34m\u001b[0m\u001b[0m\n\u001b[0m\u001b[1;32m   4118\u001b[0m         )\n\u001b[1;32m   4119\u001b[0m \u001b[0;34m\u001b[0m\u001b[0m\n",
            "\u001b[0;32m/usr/local/lib/python3.6/dist-packages/pandas/core/generic.py\u001b[0m in \u001b[0;36mdrop\u001b[0;34m(self, labels, axis, index, columns, level, inplace, errors)\u001b[0m\n\u001b[1;32m   3912\u001b[0m         \u001b[0;32mfor\u001b[0m \u001b[0maxis\u001b[0m\u001b[0;34m,\u001b[0m \u001b[0mlabels\u001b[0m \u001b[0;32min\u001b[0m \u001b[0maxes\u001b[0m\u001b[0;34m.\u001b[0m\u001b[0mitems\u001b[0m\u001b[0;34m(\u001b[0m\u001b[0;34m)\u001b[0m\u001b[0;34m:\u001b[0m\u001b[0;34m\u001b[0m\u001b[0;34m\u001b[0m\u001b[0m\n\u001b[1;32m   3913\u001b[0m             \u001b[0;32mif\u001b[0m \u001b[0mlabels\u001b[0m \u001b[0;32mis\u001b[0m \u001b[0;32mnot\u001b[0m \u001b[0;32mNone\u001b[0m\u001b[0;34m:\u001b[0m\u001b[0;34m\u001b[0m\u001b[0;34m\u001b[0m\u001b[0m\n\u001b[0;32m-> 3914\u001b[0;31m                 \u001b[0mobj\u001b[0m \u001b[0;34m=\u001b[0m \u001b[0mobj\u001b[0m\u001b[0;34m.\u001b[0m\u001b[0m_drop_axis\u001b[0m\u001b[0;34m(\u001b[0m\u001b[0mlabels\u001b[0m\u001b[0;34m,\u001b[0m \u001b[0maxis\u001b[0m\u001b[0;34m,\u001b[0m \u001b[0mlevel\u001b[0m\u001b[0;34m=\u001b[0m\u001b[0mlevel\u001b[0m\u001b[0;34m,\u001b[0m \u001b[0merrors\u001b[0m\u001b[0;34m=\u001b[0m\u001b[0merrors\u001b[0m\u001b[0;34m)\u001b[0m\u001b[0;34m\u001b[0m\u001b[0;34m\u001b[0m\u001b[0m\n\u001b[0m\u001b[1;32m   3915\u001b[0m \u001b[0;34m\u001b[0m\u001b[0m\n\u001b[1;32m   3916\u001b[0m         \u001b[0;32mif\u001b[0m \u001b[0minplace\u001b[0m\u001b[0;34m:\u001b[0m\u001b[0;34m\u001b[0m\u001b[0;34m\u001b[0m\u001b[0m\n",
            "\u001b[0;32m/usr/local/lib/python3.6/dist-packages/pandas/core/generic.py\u001b[0m in \u001b[0;36m_drop_axis\u001b[0;34m(self, labels, axis, level, errors)\u001b[0m\n\u001b[1;32m   3944\u001b[0m                 \u001b[0mnew_axis\u001b[0m \u001b[0;34m=\u001b[0m \u001b[0maxis\u001b[0m\u001b[0;34m.\u001b[0m\u001b[0mdrop\u001b[0m\u001b[0;34m(\u001b[0m\u001b[0mlabels\u001b[0m\u001b[0;34m,\u001b[0m \u001b[0mlevel\u001b[0m\u001b[0;34m=\u001b[0m\u001b[0mlevel\u001b[0m\u001b[0;34m,\u001b[0m \u001b[0merrors\u001b[0m\u001b[0;34m=\u001b[0m\u001b[0merrors\u001b[0m\u001b[0;34m)\u001b[0m\u001b[0;34m\u001b[0m\u001b[0;34m\u001b[0m\u001b[0m\n\u001b[1;32m   3945\u001b[0m             \u001b[0;32melse\u001b[0m\u001b[0;34m:\u001b[0m\u001b[0;34m\u001b[0m\u001b[0;34m\u001b[0m\u001b[0m\n\u001b[0;32m-> 3946\u001b[0;31m                 \u001b[0mnew_axis\u001b[0m \u001b[0;34m=\u001b[0m \u001b[0maxis\u001b[0m\u001b[0;34m.\u001b[0m\u001b[0mdrop\u001b[0m\u001b[0;34m(\u001b[0m\u001b[0mlabels\u001b[0m\u001b[0;34m,\u001b[0m \u001b[0merrors\u001b[0m\u001b[0;34m=\u001b[0m\u001b[0merrors\u001b[0m\u001b[0;34m)\u001b[0m\u001b[0;34m\u001b[0m\u001b[0;34m\u001b[0m\u001b[0m\n\u001b[0m\u001b[1;32m   3947\u001b[0m             \u001b[0mresult\u001b[0m \u001b[0;34m=\u001b[0m \u001b[0mself\u001b[0m\u001b[0;34m.\u001b[0m\u001b[0mreindex\u001b[0m\u001b[0;34m(\u001b[0m\u001b[0;34m**\u001b[0m\u001b[0;34m{\u001b[0m\u001b[0maxis_name\u001b[0m\u001b[0;34m:\u001b[0m \u001b[0mnew_axis\u001b[0m\u001b[0;34m}\u001b[0m\u001b[0;34m)\u001b[0m\u001b[0;34m\u001b[0m\u001b[0;34m\u001b[0m\u001b[0m\n\u001b[1;32m   3948\u001b[0m \u001b[0;34m\u001b[0m\u001b[0m\n",
            "\u001b[0;32m/usr/local/lib/python3.6/dist-packages/pandas/core/indexes/base.py\u001b[0m in \u001b[0;36mdrop\u001b[0;34m(self, labels, errors)\u001b[0m\n\u001b[1;32m   5338\u001b[0m         \u001b[0;32mif\u001b[0m \u001b[0mmask\u001b[0m\u001b[0;34m.\u001b[0m\u001b[0many\u001b[0m\u001b[0;34m(\u001b[0m\u001b[0;34m)\u001b[0m\u001b[0;34m:\u001b[0m\u001b[0;34m\u001b[0m\u001b[0;34m\u001b[0m\u001b[0m\n\u001b[1;32m   5339\u001b[0m             \u001b[0;32mif\u001b[0m \u001b[0merrors\u001b[0m \u001b[0;34m!=\u001b[0m \u001b[0;34m\"ignore\"\u001b[0m\u001b[0;34m:\u001b[0m\u001b[0;34m\u001b[0m\u001b[0;34m\u001b[0m\u001b[0m\n\u001b[0;32m-> 5340\u001b[0;31m                 \u001b[0;32mraise\u001b[0m \u001b[0mKeyError\u001b[0m\u001b[0;34m(\u001b[0m\u001b[0;34m\"{} not found in axis\"\u001b[0m\u001b[0;34m.\u001b[0m\u001b[0mformat\u001b[0m\u001b[0;34m(\u001b[0m\u001b[0mlabels\u001b[0m\u001b[0;34m[\u001b[0m\u001b[0mmask\u001b[0m\u001b[0;34m]\u001b[0m\u001b[0;34m)\u001b[0m\u001b[0;34m)\u001b[0m\u001b[0;34m\u001b[0m\u001b[0;34m\u001b[0m\u001b[0m\n\u001b[0m\u001b[1;32m   5341\u001b[0m             \u001b[0mindexer\u001b[0m \u001b[0;34m=\u001b[0m \u001b[0mindexer\u001b[0m\u001b[0;34m[\u001b[0m\u001b[0;34m~\u001b[0m\u001b[0mmask\u001b[0m\u001b[0;34m]\u001b[0m\u001b[0;34m\u001b[0m\u001b[0;34m\u001b[0m\u001b[0m\n\u001b[1;32m   5342\u001b[0m         \u001b[0;32mreturn\u001b[0m \u001b[0mself\u001b[0m\u001b[0;34m.\u001b[0m\u001b[0mdelete\u001b[0m\u001b[0;34m(\u001b[0m\u001b[0mindexer\u001b[0m\u001b[0;34m)\u001b[0m\u001b[0;34m\u001b[0m\u001b[0;34m\u001b[0m\u001b[0m\n",
            "\u001b[0;31mKeyError\u001b[0m: \"['CRS_DEP_TIME'] not found in axis\""
          ]
        }
      ]
    },
    {
      "cell_type": "code",
      "metadata": {
        "id": "7u5_jTP2hs_j",
        "colab_type": "code",
        "outputId": "e8fc1f4d-4d52-4d71-b3d1-513e007e378f",
        "colab": {
          "base_uri": "https://localhost:8080/",
          "height": 836
        }
      },
      "source": [
        "df1.info()"
      ],
      "execution_count": 0,
      "outputs": [
        {
          "output_type": "stream",
          "text": [
            "<class 'pandas.core.frame.DataFrame'>\n",
            "Int64Index: 7990335 entries, 0 to 7990334\n",
            "Data columns (total 43 columns):\n",
            "YEAR                           int64\n",
            "QUARTER                        int64\n",
            "MONTH                          int64\n",
            "DAY_OF_MONTH                   int64\n",
            "DAY_OF_WEEK                    int64\n",
            "OP_UNIQUE_CARRIER              object\n",
            "OP_CARRIER_AIRLINE_ID          int64\n",
            "OP_CARRIER_FL_NUM              int64\n",
            "ORIGIN_AIRPORT_ID              int64\n",
            "ORIGIN_AIRPORT_SEQ_ID          int64\n",
            "ORIGIN_CITY_MARKET_ID          int64\n",
            "ORIGIN_STATE_FIPS              int64\n",
            "ORIGIN_WAC                     int64\n",
            "DEST_AIRPORT_ID                int64\n",
            "DEST_AIRPORT_SEQ_ID            int64\n",
            "DEST_CITY_MARKET_ID            int64\n",
            "DEST_WAC                       int64\n",
            "DEP_TIME_BLK                   object\n",
            "TAXI_OUT                       int64\n",
            "WHEELS_OFF                     float64\n",
            "WHEELS_ON                      float64\n",
            "TAXI_IN                        float64\n",
            "CRS_ARR_TIME                   int64\n",
            "ARR_TIME                       float64\n",
            "ARR_DELAY                      float64\n",
            "ARR_DELAY_NEW                  float64\n",
            "ARR_DEL15                      float64\n",
            "ARR_DELAY_GROUP                float64\n",
            "ARR_TIME_BLK                   object\n",
            "CRS_ELAPSED_TIME               float64\n",
            "ACTUAL_ELAPSED_TIME            float64\n",
            "AIR_TIME                       float64\n",
            "DISTANCE                       float64\n",
            "DISTANCE_GROUP                 int64\n",
            "DIV_AIRPORT_LANDINGS           int64\n",
            "incident_category              int64\n",
            "dts_x                          datetime64[ns]\n",
            "zulu_time_value                float64\n",
            "wind_direction_value           float64\n",
            "prevailing_visibility_value    float64\n",
            "cloud_coverage_value           float64\n",
            "barometric_pressure_value      float64\n",
            "temp_dewpoint_value            float64\n",
            "dtypes: datetime64[ns](1), float64(18), int64(21), object(3)\n",
            "memory usage: 2.6+ GB\n"
          ],
          "name": "stdout"
        }
      ]
    },
    {
      "cell_type": "code",
      "metadata": {
        "id": "5Dxv8sS4prm-",
        "colab_type": "code",
        "outputId": "71e44ddb-9cd9-48ae-89de-71a0110ec1a5",
        "colab": {
          "base_uri": "https://localhost:8080/",
          "height": 306
        }
      },
      "source": [
        "df1.drop(axis=1,inplace=True,columns=['ARR_TIME_BLK','dts_x'])"
      ],
      "execution_count": 0,
      "outputs": [
        {
          "output_type": "error",
          "ename": "KeyError",
          "evalue": "ignored",
          "traceback": [
            "\u001b[0;31m---------------------------------------------------------------------------\u001b[0m",
            "\u001b[0;31mKeyError\u001b[0m                                  Traceback (most recent call last)",
            "\u001b[0;32m<ipython-input-95-12c813306b6d>\u001b[0m in \u001b[0;36m<module>\u001b[0;34m()\u001b[0m\n\u001b[0;32m----> 1\u001b[0;31m \u001b[0mdf1\u001b[0m\u001b[0;34m.\u001b[0m\u001b[0mdrop\u001b[0m\u001b[0;34m(\u001b[0m\u001b[0maxis\u001b[0m\u001b[0;34m=\u001b[0m\u001b[0;36m1\u001b[0m\u001b[0;34m,\u001b[0m\u001b[0minplace\u001b[0m\u001b[0;34m=\u001b[0m\u001b[0;32mTrue\u001b[0m\u001b[0;34m,\u001b[0m\u001b[0mcolumns\u001b[0m\u001b[0;34m=\u001b[0m\u001b[0;34m[\u001b[0m\u001b[0;34m'ARR_TIME_BLK'\u001b[0m\u001b[0;34m,\u001b[0m\u001b[0;34m'dts_x'\u001b[0m\u001b[0;34m]\u001b[0m\u001b[0;34m)\u001b[0m\u001b[0;34m\u001b[0m\u001b[0;34m\u001b[0m\u001b[0m\n\u001b[0m",
            "\u001b[0;32m/usr/local/lib/python3.6/dist-packages/pandas/core/frame.py\u001b[0m in \u001b[0;36mdrop\u001b[0;34m(self, labels, axis, index, columns, level, inplace, errors)\u001b[0m\n\u001b[1;32m   4115\u001b[0m             \u001b[0mlevel\u001b[0m\u001b[0;34m=\u001b[0m\u001b[0mlevel\u001b[0m\u001b[0;34m,\u001b[0m\u001b[0;34m\u001b[0m\u001b[0;34m\u001b[0m\u001b[0m\n\u001b[1;32m   4116\u001b[0m             \u001b[0minplace\u001b[0m\u001b[0;34m=\u001b[0m\u001b[0minplace\u001b[0m\u001b[0;34m,\u001b[0m\u001b[0;34m\u001b[0m\u001b[0;34m\u001b[0m\u001b[0m\n\u001b[0;32m-> 4117\u001b[0;31m             \u001b[0merrors\u001b[0m\u001b[0;34m=\u001b[0m\u001b[0merrors\u001b[0m\u001b[0;34m,\u001b[0m\u001b[0;34m\u001b[0m\u001b[0;34m\u001b[0m\u001b[0m\n\u001b[0m\u001b[1;32m   4118\u001b[0m         )\n\u001b[1;32m   4119\u001b[0m \u001b[0;34m\u001b[0m\u001b[0m\n",
            "\u001b[0;32m/usr/local/lib/python3.6/dist-packages/pandas/core/generic.py\u001b[0m in \u001b[0;36mdrop\u001b[0;34m(self, labels, axis, index, columns, level, inplace, errors)\u001b[0m\n\u001b[1;32m   3912\u001b[0m         \u001b[0;32mfor\u001b[0m \u001b[0maxis\u001b[0m\u001b[0;34m,\u001b[0m \u001b[0mlabels\u001b[0m \u001b[0;32min\u001b[0m \u001b[0maxes\u001b[0m\u001b[0;34m.\u001b[0m\u001b[0mitems\u001b[0m\u001b[0;34m(\u001b[0m\u001b[0;34m)\u001b[0m\u001b[0;34m:\u001b[0m\u001b[0;34m\u001b[0m\u001b[0;34m\u001b[0m\u001b[0m\n\u001b[1;32m   3913\u001b[0m             \u001b[0;32mif\u001b[0m \u001b[0mlabels\u001b[0m \u001b[0;32mis\u001b[0m \u001b[0;32mnot\u001b[0m \u001b[0;32mNone\u001b[0m\u001b[0;34m:\u001b[0m\u001b[0;34m\u001b[0m\u001b[0;34m\u001b[0m\u001b[0m\n\u001b[0;32m-> 3914\u001b[0;31m                 \u001b[0mobj\u001b[0m \u001b[0;34m=\u001b[0m \u001b[0mobj\u001b[0m\u001b[0;34m.\u001b[0m\u001b[0m_drop_axis\u001b[0m\u001b[0;34m(\u001b[0m\u001b[0mlabels\u001b[0m\u001b[0;34m,\u001b[0m \u001b[0maxis\u001b[0m\u001b[0;34m,\u001b[0m \u001b[0mlevel\u001b[0m\u001b[0;34m=\u001b[0m\u001b[0mlevel\u001b[0m\u001b[0;34m,\u001b[0m \u001b[0merrors\u001b[0m\u001b[0;34m=\u001b[0m\u001b[0merrors\u001b[0m\u001b[0;34m)\u001b[0m\u001b[0;34m\u001b[0m\u001b[0;34m\u001b[0m\u001b[0m\n\u001b[0m\u001b[1;32m   3915\u001b[0m \u001b[0;34m\u001b[0m\u001b[0m\n\u001b[1;32m   3916\u001b[0m         \u001b[0;32mif\u001b[0m \u001b[0minplace\u001b[0m\u001b[0;34m:\u001b[0m\u001b[0;34m\u001b[0m\u001b[0;34m\u001b[0m\u001b[0m\n",
            "\u001b[0;32m/usr/local/lib/python3.6/dist-packages/pandas/core/generic.py\u001b[0m in \u001b[0;36m_drop_axis\u001b[0;34m(self, labels, axis, level, errors)\u001b[0m\n\u001b[1;32m   3944\u001b[0m                 \u001b[0mnew_axis\u001b[0m \u001b[0;34m=\u001b[0m \u001b[0maxis\u001b[0m\u001b[0;34m.\u001b[0m\u001b[0mdrop\u001b[0m\u001b[0;34m(\u001b[0m\u001b[0mlabels\u001b[0m\u001b[0;34m,\u001b[0m \u001b[0mlevel\u001b[0m\u001b[0;34m=\u001b[0m\u001b[0mlevel\u001b[0m\u001b[0;34m,\u001b[0m \u001b[0merrors\u001b[0m\u001b[0;34m=\u001b[0m\u001b[0merrors\u001b[0m\u001b[0;34m)\u001b[0m\u001b[0;34m\u001b[0m\u001b[0;34m\u001b[0m\u001b[0m\n\u001b[1;32m   3945\u001b[0m             \u001b[0;32melse\u001b[0m\u001b[0;34m:\u001b[0m\u001b[0;34m\u001b[0m\u001b[0;34m\u001b[0m\u001b[0m\n\u001b[0;32m-> 3946\u001b[0;31m                 \u001b[0mnew_axis\u001b[0m \u001b[0;34m=\u001b[0m \u001b[0maxis\u001b[0m\u001b[0;34m.\u001b[0m\u001b[0mdrop\u001b[0m\u001b[0;34m(\u001b[0m\u001b[0mlabels\u001b[0m\u001b[0;34m,\u001b[0m \u001b[0merrors\u001b[0m\u001b[0;34m=\u001b[0m\u001b[0merrors\u001b[0m\u001b[0;34m)\u001b[0m\u001b[0;34m\u001b[0m\u001b[0;34m\u001b[0m\u001b[0m\n\u001b[0m\u001b[1;32m   3947\u001b[0m             \u001b[0mresult\u001b[0m \u001b[0;34m=\u001b[0m \u001b[0mself\u001b[0m\u001b[0;34m.\u001b[0m\u001b[0mreindex\u001b[0m\u001b[0;34m(\u001b[0m\u001b[0;34m**\u001b[0m\u001b[0;34m{\u001b[0m\u001b[0maxis_name\u001b[0m\u001b[0;34m:\u001b[0m \u001b[0mnew_axis\u001b[0m\u001b[0;34m}\u001b[0m\u001b[0;34m)\u001b[0m\u001b[0;34m\u001b[0m\u001b[0;34m\u001b[0m\u001b[0m\n\u001b[1;32m   3948\u001b[0m \u001b[0;34m\u001b[0m\u001b[0m\n",
            "\u001b[0;32m/usr/local/lib/python3.6/dist-packages/pandas/core/indexes/base.py\u001b[0m in \u001b[0;36mdrop\u001b[0;34m(self, labels, errors)\u001b[0m\n\u001b[1;32m   5338\u001b[0m         \u001b[0;32mif\u001b[0m \u001b[0mmask\u001b[0m\u001b[0;34m.\u001b[0m\u001b[0many\u001b[0m\u001b[0;34m(\u001b[0m\u001b[0;34m)\u001b[0m\u001b[0;34m:\u001b[0m\u001b[0;34m\u001b[0m\u001b[0;34m\u001b[0m\u001b[0m\n\u001b[1;32m   5339\u001b[0m             \u001b[0;32mif\u001b[0m \u001b[0merrors\u001b[0m \u001b[0;34m!=\u001b[0m \u001b[0;34m\"ignore\"\u001b[0m\u001b[0;34m:\u001b[0m\u001b[0;34m\u001b[0m\u001b[0;34m\u001b[0m\u001b[0m\n\u001b[0;32m-> 5340\u001b[0;31m                 \u001b[0;32mraise\u001b[0m \u001b[0mKeyError\u001b[0m\u001b[0;34m(\u001b[0m\u001b[0;34m\"{} not found in axis\"\u001b[0m\u001b[0;34m.\u001b[0m\u001b[0mformat\u001b[0m\u001b[0;34m(\u001b[0m\u001b[0mlabels\u001b[0m\u001b[0;34m[\u001b[0m\u001b[0mmask\u001b[0m\u001b[0;34m]\u001b[0m\u001b[0;34m)\u001b[0m\u001b[0;34m)\u001b[0m\u001b[0;34m\u001b[0m\u001b[0;34m\u001b[0m\u001b[0m\n\u001b[0m\u001b[1;32m   5341\u001b[0m             \u001b[0mindexer\u001b[0m \u001b[0;34m=\u001b[0m \u001b[0mindexer\u001b[0m\u001b[0;34m[\u001b[0m\u001b[0;34m~\u001b[0m\u001b[0mmask\u001b[0m\u001b[0;34m]\u001b[0m\u001b[0;34m\u001b[0m\u001b[0;34m\u001b[0m\u001b[0m\n\u001b[1;32m   5342\u001b[0m         \u001b[0;32mreturn\u001b[0m \u001b[0mself\u001b[0m\u001b[0;34m.\u001b[0m\u001b[0mdelete\u001b[0m\u001b[0;34m(\u001b[0m\u001b[0mindexer\u001b[0m\u001b[0;34m)\u001b[0m\u001b[0;34m\u001b[0m\u001b[0;34m\u001b[0m\u001b[0m\n",
            "\u001b[0;31mKeyError\u001b[0m: \"['dts_x'] not found in axis\""
          ]
        }
      ]
    },
    {
      "cell_type": "code",
      "metadata": {
        "id": "TiAoEn8yh38k",
        "colab_type": "code",
        "outputId": "075e2fd0-3421-44d2-847e-2282699d665b",
        "colab": {
          "base_uri": "https://localhost:8080/",
          "height": 256
        }
      },
      "source": [
        "df1.columns"
      ],
      "execution_count": 0,
      "outputs": [
        {
          "output_type": "execute_result",
          "data": {
            "text/plain": [
              "Index(['YEAR', 'QUARTER', 'MONTH', 'DAY_OF_MONTH', 'DAY_OF_WEEK',\n",
              "       'OP_UNIQUE_CARRIER', 'OP_CARRIER_AIRLINE_ID', 'OP_CARRIER_FL_NUM',\n",
              "       'ORIGIN_AIRPORT_ID', 'ORIGIN_AIRPORT_SEQ_ID', 'ORIGIN_CITY_MARKET_ID',\n",
              "       'ORIGIN_STATE_FIPS', 'ORIGIN_WAC', 'DEST_AIRPORT_ID',\n",
              "       'DEST_AIRPORT_SEQ_ID', 'DEST_CITY_MARKET_ID', 'DEST_WAC',\n",
              "       'CRS_DEP_TIME', 'DEP_TIME_BLK', 'TAXI_OUT', 'WHEELS_OFF', 'WHEELS_ON',\n",
              "       'TAXI_IN', 'CRS_ARR_TIME', 'ARR_TIME', 'ARR_DELAY', 'ARR_DELAY_NEW',\n",
              "       'ARR_DEL15', 'ARR_DELAY_GROUP', 'ARR_TIME_BLK', 'CRS_ELAPSED_TIME',\n",
              "       'ACTUAL_ELAPSED_TIME', 'AIR_TIME', 'DISTANCE', 'DISTANCE_GROUP',\n",
              "       'DIV_AIRPORT_LANDINGS', 'incident_category', 'dts_x', 'zulu_time_value',\n",
              "       'wind_direction_value', 'prevailing_visibility_value',\n",
              "       'cloud_coverage_value', 'barometric_pressure_value',\n",
              "       'temp_dewpoint_value'],\n",
              "      dtype='object')"
            ]
          },
          "metadata": {
            "tags": []
          },
          "execution_count": 106
        }
      ]
    },
    {
      "cell_type": "code",
      "metadata": {
        "id": "jbNdw29h-GQl",
        "colab_type": "code",
        "colab": {}
      },
      "source": [
        "#cat_feats = ['OP_UNIQUE_CARRIER','ARR_TIME_BLK','DEP_TIME_BLK',]"
      ],
      "execution_count": 0,
      "outputs": []
    },
    {
      "cell_type": "code",
      "metadata": {
        "id": "5pWBPQUQwQAS",
        "colab_type": "code",
        "colab": {}
      },
      "source": [
        "cat_feats1 = ['OP_UNIQUE_CARRIER',]"
      ],
      "execution_count": 0,
      "outputs": []
    },
    {
      "cell_type": "code",
      "metadata": {
        "id": "NKO0b-JsiPF4",
        "colab_type": "code",
        "colab": {}
      },
      "source": [
        "df = pd.get_dummies(train,columns=cat_feats1,)"
      ],
      "execution_count": 0,
      "outputs": []
    },
    {
      "cell_type": "code",
      "metadata": {
        "id": "VuH3dS1jpCg4",
        "colab_type": "code",
        "outputId": "3610ca8d-b90a-4bab-dc0a-5e046c01e5b0",
        "colab": {
          "base_uri": "https://localhost:8080/",
          "height": 972
        }
      },
      "source": [
        "df[df.columns[1:]].corr()['TAXI_OUT'][:]"
      ],
      "execution_count": 0,
      "outputs": [
        {
          "output_type": "execute_result",
          "data": {
            "text/plain": [
              "QUARTER                       -0.005355\n",
              "MONTH                         -0.005148\n",
              "DAY_OF_MONTH                  -0.003312\n",
              "DAY_OF_WEEK                   -0.013925\n",
              "OP_CARRIER_AIRLINE_ID          0.195809\n",
              "OP_CARRIER_FL_NUM              0.073870\n",
              "ORIGIN_AIRPORT_ID             -0.009189\n",
              "ORIGIN_AIRPORT_SEQ_ID         -0.009188\n",
              "ORIGIN_CITY_MARKET_ID         -0.050341\n",
              "ORIGIN_STATE_FIPS              0.050829\n",
              "ORIGIN_WAC                    -0.071616\n",
              "DEST_AIRPORT_ID                0.014624\n",
              "DEST_AIRPORT_SEQ_ID            0.014624\n",
              "DEST_CITY_MARKET_ID            0.035209\n",
              "DEST_WAC                      -0.033419\n",
              "TAXI_OUT                       1.000000\n",
              "WHEELS_OFF                     0.112637\n",
              "WHEELS_ON                      0.104430\n",
              "TAXI_IN                        0.058303\n",
              "CRS_ARR_TIME                   0.022277\n",
              "ARR_TIME                       0.100995\n",
              "ARR_DELAY                      0.216192\n",
              "ARR_DELAY_NEW                  0.183129\n",
              "ARR_DEL15                      0.289129\n",
              "ARR_DELAY_GROUP                0.269395\n",
              "CRS_ELAPSED_TIME               0.086283\n",
              "ACTUAL_ELAPSED_TIME            0.233284\n",
              "AIR_TIME                       0.097121\n",
              "DISTANCE                       0.044454\n",
              "DISTANCE_GROUP                 0.043033\n",
              "DIV_AIRPORT_LANDINGS           0.011997\n",
              "incident_category              0.694265\n",
              "zulu_time_value               -0.003623\n",
              "wind_direction_value          -0.001501\n",
              "prevailing_visibility_value   -0.004715\n",
              "cloud_coverage_value          -0.002876\n",
              "barometric_pressure_value     -0.004247\n",
              "temp_dewpoint_value           -0.002437\n",
              "OP_UNIQUE_CARRIER_9E           0.068159\n",
              "OP_UNIQUE_CARRIER_AA           0.041159\n",
              "OP_UNIQUE_CARRIER_AS           0.038671\n",
              "OP_UNIQUE_CARRIER_B6           0.010657\n",
              "OP_UNIQUE_CARRIER_DL           0.002301\n",
              "OP_UNIQUE_CARRIER_EV           0.038619\n",
              "OP_UNIQUE_CARRIER_F9          -0.005625\n",
              "OP_UNIQUE_CARRIER_G4          -0.049477\n",
              "OP_UNIQUE_CARRIER_HA          -0.054591\n",
              "OP_UNIQUE_CARRIER_MQ           0.024135\n",
              "OP_UNIQUE_CARRIER_NK          -0.034582\n",
              "OP_UNIQUE_CARRIER_OH           0.007349\n",
              "OP_UNIQUE_CARRIER_OO           0.078182\n",
              "OP_UNIQUE_CARRIER_UA           0.079550\n",
              "OP_UNIQUE_CARRIER_WN          -0.237350\n",
              "OP_UNIQUE_CARRIER_YV          -0.000696\n",
              "OP_UNIQUE_CARRIER_YX           0.075534\n",
              "Name: TAXI_OUT, dtype: float64"
            ]
          },
          "metadata": {
            "tags": []
          },
          "execution_count": 116
        }
      ]
    },
    {
      "cell_type": "code",
      "metadata": {
        "id": "0_xuUJC63ZPc",
        "colab_type": "code",
        "colab": {}
      },
      "source": [
        "from sklearn.model_selection import train_test_split\n",
        "from sklearn.ensemble import RandomForestClassifier"
      ],
      "execution_count": 0,
      "outputs": []
    },
    {
      "cell_type": "markdown",
      "metadata": {
        "id": "JQShb47MO3kr",
        "colab_type": "text"
      },
      "source": [
        "# Training with Categorical variables"
      ]
    },
    {
      "cell_type": "code",
      "metadata": {
        "id": "hggFicC-O9tu",
        "colab_type": "code",
        "colab": {}
      },
      "source": [
        "df.columns"
      ],
      "execution_count": 0,
      "outputs": []
    },
    {
      "cell_type": "code",
      "metadata": {
        "id": "CxG0UILgO9hj",
        "colab_type": "code",
        "colab": {}
      },
      "source": [
        "X = df.drop(axis=1,columns=['TAXI_OUT','incident_category','DEP_TIME_BLK','ARR_TIME_BLK',])"
      ],
      "execution_count": 0,
      "outputs": []
    },
    {
      "cell_type": "code",
      "metadata": {
        "id": "bBtJdeJPPnf7",
        "colab_type": "code",
        "colab": {}
      },
      "source": [
        "y = df['TAXI_OUT']"
      ],
      "execution_count": 0,
      "outputs": []
    },
    {
      "cell_type": "code",
      "metadata": {
        "id": "-vtG8m62O3C2",
        "colab_type": "code",
        "colab": {}
      },
      "source": [
        "X_train, X_test, y_train, y_test = train_test_split(X, y, test_size=0.3, random_state=142)"
      ],
      "execution_count": 0,
      "outputs": []
    },
    {
      "cell_type": "code",
      "metadata": {
        "id": "L7ooH7JrO29C",
        "colab_type": "code",
        "colab": {}
      },
      "source": [
        "from sklearn.tree import DecisionTreeClassifier\n",
        "dtree = DecisionTreeClassifier()"
      ],
      "execution_count": 0,
      "outputs": []
    },
    {
      "cell_type": "code",
      "metadata": {
        "id": "Z2JRu9cDQ5vc",
        "colab_type": "code",
        "outputId": "28853e40-65f5-4ba0-d193-7fb17df26a4b",
        "colab": {
          "base_uri": "https://localhost:8080/",
          "height": 119
        }
      },
      "source": [
        "dtree.fit(X_train,y_train)"
      ],
      "execution_count": 0,
      "outputs": [
        {
          "output_type": "execute_result",
          "data": {
            "text/plain": [
              "DecisionTreeClassifier(ccp_alpha=0.0, class_weight=None, criterion='gini',\n",
              "                       max_depth=None, max_features=None, max_leaf_nodes=None,\n",
              "                       min_impurity_decrease=0.0, min_impurity_split=None,\n",
              "                       min_samples_leaf=1, min_samples_split=2,\n",
              "                       min_weight_fraction_leaf=0.0, presort='deprecated',\n",
              "                       random_state=None, splitter='best')"
            ]
          },
          "metadata": {
            "tags": []
          },
          "execution_count": 100
        }
      ]
    },
    {
      "cell_type": "code",
      "metadata": {
        "id": "JSZHyRyiQ5q7",
        "colab_type": "code",
        "colab": {}
      },
      "source": [
        "d_tree_predictions1 = dtree.predict(X_test)"
      ],
      "execution_count": 0,
      "outputs": []
    },
    {
      "cell_type": "code",
      "metadata": {
        "id": "LUYK_15eQ5nP",
        "colab_type": "code",
        "colab": {}
      },
      "source": [
        "from sklearn.metrics import classification_report,confusion_matrix"
      ],
      "execution_count": 0,
      "outputs": []
    },
    {
      "cell_type": "code",
      "metadata": {
        "id": "uUnP537NQ5ju",
        "colab_type": "code",
        "outputId": "62505aac-245a-4f86-ada5-aeecfd7e325e",
        "colab": {
          "base_uri": "https://localhost:8080/",
          "height": 170
        }
      },
      "source": [
        "print(classification_report(y_test,d_tree_predictions1))"
      ],
      "execution_count": 0,
      "outputs": [
        {
          "output_type": "stream",
          "text": [
            "              precision    recall  f1-score   support\n",
            "\n",
            "           0       0.95      0.95      0.95   1517395\n",
            "           1       0.91      0.92      0.91    830921\n",
            "\n",
            "    accuracy                           0.94   2348316\n",
            "   macro avg       0.93      0.93      0.93   2348316\n",
            "weighted avg       0.94      0.94      0.94   2348316\n",
            "\n"
          ],
          "name": "stdout"
        }
      ]
    },
    {
      "cell_type": "code",
      "metadata": {
        "id": "2Zt--NXXQ5fX",
        "colab_type": "code",
        "outputId": "0f459fc8-217c-4834-b56d-59d7e5c290e8",
        "colab": {
          "base_uri": "https://localhost:8080/",
          "height": 51
        }
      },
      "source": [
        "print(confusion_matrix(y_test,d_tree_predictions1))"
      ],
      "execution_count": 0,
      "outputs": [
        {
          "output_type": "stream",
          "text": [
            "[[1445357   72038]\n",
            " [  69585  761336]]\n"
          ],
          "name": "stdout"
        }
      ]
    },
    {
      "cell_type": "code",
      "metadata": {
        "id": "9SycmXcKQ5bF",
        "colab_type": "code",
        "colab": {}
      },
      "source": [
        ""
      ],
      "execution_count": 0,
      "outputs": []
    },
    {
      "cell_type": "code",
      "metadata": {
        "id": "LwpdxA6oQ5V9",
        "colab_type": "code",
        "colab": {}
      },
      "source": [
        ""
      ],
      "execution_count": 0,
      "outputs": []
    },
    {
      "cell_type": "markdown",
      "metadata": {
        "id": "RCG7Re28YqW1",
        "colab_type": "text"
      },
      "source": [
        "# Logistic_Regression"
      ]
    },
    {
      "cell_type": "code",
      "metadata": {
        "id": "86S8CIRWO24D",
        "colab_type": "code",
        "colab": {}
      },
      "source": [
        "from sklearn.linear_model import LogisticRegression\n",
        "logreg = LogisticRegression()"
      ],
      "execution_count": 0,
      "outputs": []
    },
    {
      "cell_type": "code",
      "metadata": {
        "id": "xqLrzHpHYzSa",
        "colab_type": "code",
        "outputId": "d2f3cd4e-507f-49fb-fbce-508ce1176656",
        "colab": {
          "base_uri": "https://localhost:8080/",
          "height": 238
        }
      },
      "source": [
        "logreg.fit(X_train,y_train)"
      ],
      "execution_count": 0,
      "outputs": [
        {
          "output_type": "stream",
          "text": [
            "/usr/local/lib/python3.6/dist-packages/sklearn/linear_model/_logistic.py:940: ConvergenceWarning: lbfgs failed to converge (status=1):\n",
            "STOP: TOTAL NO. of ITERATIONS REACHED LIMIT.\n",
            "\n",
            "Increase the number of iterations (max_iter) or scale the data as shown in:\n",
            "    https://scikit-learn.org/stable/modules/preprocessing.html\n",
            "Please also refer to the documentation for alternative solver options:\n",
            "    https://scikit-learn.org/stable/modules/linear_model.html#logistic-regression\n",
            "  extra_warning_msg=_LOGISTIC_SOLVER_CONVERGENCE_MSG)\n"
          ],
          "name": "stderr"
        },
        {
          "output_type": "execute_result",
          "data": {
            "text/plain": [
              "LogisticRegression(C=1.0, class_weight=None, dual=False, fit_intercept=True,\n",
              "                   intercept_scaling=1, l1_ratio=None, max_iter=100,\n",
              "                   multi_class='auto', n_jobs=None, penalty='l2',\n",
              "                   random_state=None, solver='lbfgs', tol=0.0001, verbose=0,\n",
              "                   warm_start=False)"
            ]
          },
          "metadata": {
            "tags": []
          },
          "execution_count": 106
        }
      ]
    },
    {
      "cell_type": "code",
      "metadata": {
        "id": "_FQOS3TOYzOo",
        "colab_type": "code",
        "colab": {}
      },
      "source": [
        "logreg_predictions = logreg.predict(X_test)"
      ],
      "execution_count": 0,
      "outputs": []
    },
    {
      "cell_type": "code",
      "metadata": {
        "id": "Ploq1QVBYzJd",
        "colab_type": "code",
        "outputId": "1e9e6323-8311-45bd-e62b-d44000bfb6b1",
        "colab": {
          "base_uri": "https://localhost:8080/",
          "height": 170
        }
      },
      "source": [
        "print(classification_report(y_test,logreg_predictions))"
      ],
      "execution_count": 0,
      "outputs": [
        {
          "output_type": "stream",
          "text": [
            "              precision    recall  f1-score   support\n",
            "\n",
            "           0       0.65      0.97      0.78   1517395\n",
            "           1       0.48      0.04      0.08    830921\n",
            "\n",
            "    accuracy                           0.64   2348316\n",
            "   macro avg       0.56      0.51      0.43   2348316\n",
            "weighted avg       0.59      0.64      0.53   2348316\n",
            "\n"
          ],
          "name": "stdout"
        }
      ]
    },
    {
      "cell_type": "code",
      "metadata": {
        "id": "wl5zWrVQYzFj",
        "colab_type": "code",
        "outputId": "2b5829a6-25fc-4436-fbe1-835d744dcf97",
        "colab": {
          "base_uri": "https://localhost:8080/",
          "height": 51
        }
      },
      "source": [
        "print(confusion_matrix(y_test,logreg_predictions))"
      ],
      "execution_count": 0,
      "outputs": [
        {
          "output_type": "stream",
          "text": [
            "[[1476859   40536]\n",
            " [ 793861   37060]]\n"
          ],
          "name": "stdout"
        }
      ]
    },
    {
      "cell_type": "code",
      "metadata": {
        "id": "pQTS3RaDYzBu",
        "colab_type": "code",
        "colab": {}
      },
      "source": [
        ""
      ],
      "execution_count": 0,
      "outputs": []
    },
    {
      "cell_type": "code",
      "metadata": {
        "id": "ghDjOyJvYy8j",
        "colab_type": "code",
        "colab": {}
      },
      "source": [
        ""
      ],
      "execution_count": 0,
      "outputs": []
    },
    {
      "cell_type": "markdown",
      "metadata": {
        "id": "Twq3WWkQaS21",
        "colab_type": "text"
      },
      "source": [
        "# XGBOOST classfication"
      ]
    },
    {
      "cell_type": "code",
      "metadata": {
        "id": "daWG_J7BO20k",
        "colab_type": "code",
        "colab": {}
      },
      "source": [
        "param = {\n",
        "    'eta': 0.3, \n",
        "    'max_depth': 3,  \n",
        "    'objective': 'multi:softprob',  \n",
        "    'num_class': 3} \n",
        "\n",
        "steps = 20 "
      ],
      "execution_count": 0,
      "outputs": []
    },
    {
      "cell_type": "code",
      "metadata": {
        "id": "ghc5QTM7auJl",
        "colab_type": "code",
        "colab": {}
      },
      "source": [
        "import xgboost as xgb"
      ],
      "execution_count": 0,
      "outputs": []
    },
    {
      "cell_type": "code",
      "metadata": {
        "id": "_jwo0K4ja60R",
        "colab_type": "code",
        "outputId": "0207fa39-1e2e-4493-c3f3-a2010a69de58",
        "colab": {
          "base_uri": "https://localhost:8080/",
          "height": 51
        }
      },
      "source": [
        "D_train = xgb.DMatrix(X_train, label=y_train)\n",
        "D_test = xgb.DMatrix(X_test, label=y_test)"
      ],
      "execution_count": 0,
      "outputs": [
        {
          "output_type": "stream",
          "text": [
            "/usr/local/lib/python3.6/dist-packages/xgboost/core.py:587: FutureWarning: Series.base is deprecated and will be removed in a future version\n",
            "  if getattr(data, 'base', None) is not None and \\\n"
          ],
          "name": "stderr"
        }
      ]
    },
    {
      "cell_type": "code",
      "metadata": {
        "id": "eAIqFcdfa6vr",
        "colab_type": "code",
        "outputId": "6c9b3d95-dda9-4b39-9ac2-8d39fa1a340c",
        "colab": {
          "base_uri": "https://localhost:8080/",
          "height": 54
        }
      },
      "source": [
        "model = xgb.train(param, D_train, steps)"
      ],
      "execution_count": 0,
      "outputs": [
        {
          "output_type": "stream",
          "text": [
            "[12:05:19] WARNING: /workspace/src/learner.cc:686: Tree method is automatically selected to be 'approx' for faster speed. To use old behavior (exact greedy algorithm on single machine), set tree_method to 'exact'.\n"
          ],
          "name": "stdout"
        }
      ]
    },
    {
      "cell_type": "code",
      "metadata": {
        "id": "bhIO9oFIa6re",
        "colab_type": "code",
        "colab": {}
      },
      "source": [
        "preds = model.predict(D_test)\n",
        "best_preds = np.asarray([np.argmax(line) for line in preds])"
      ],
      "execution_count": 0,
      "outputs": []
    },
    {
      "cell_type": "code",
      "metadata": {
        "id": "_iDEspTBbPlC",
        "colab_type": "code",
        "colab": {}
      },
      "source": [
        "print(classification_report(y_test,best_preds))"
      ],
      "execution_count": 0,
      "outputs": []
    },
    {
      "cell_type": "code",
      "metadata": {
        "id": "LhYHQ76XbN3J",
        "colab_type": "code",
        "colab": {}
      },
      "source": [
        "print(confusion_matrix(y_test,best_preds))"
      ],
      "execution_count": 0,
      "outputs": []
    },
    {
      "cell_type": "code",
      "metadata": {
        "id": "czokC_MBbMIO",
        "colab_type": "code",
        "colab": {}
      },
      "source": [
        ""
      ],
      "execution_count": 0,
      "outputs": []
    },
    {
      "cell_type": "code",
      "metadata": {
        "id": "oD4ag1QcbLwS",
        "colab_type": "code",
        "colab": {}
      },
      "source": [
        ""
      ],
      "execution_count": 0,
      "outputs": []
    },
    {
      "cell_type": "code",
      "metadata": {
        "id": "6H3i1GHMa6d5",
        "colab_type": "code",
        "colab": {}
      },
      "source": [
        ""
      ],
      "execution_count": 0,
      "outputs": []
    },
    {
      "cell_type": "code",
      "metadata": {
        "id": "HWRmKpzJat3l",
        "colab_type": "code",
        "colab": {}
      },
      "source": [
        ""
      ],
      "execution_count": 0,
      "outputs": []
    },
    {
      "cell_type": "code",
      "metadata": {
        "id": "alcAjfqFO2w8",
        "colab_type": "code",
        "colab": {}
      },
      "source": [
        ""
      ],
      "execution_count": 0,
      "outputs": []
    },
    {
      "cell_type": "code",
      "metadata": {
        "id": "F5sOz_HXO2tc",
        "colab_type": "code",
        "colab": {}
      },
      "source": [
        ""
      ],
      "execution_count": 0,
      "outputs": []
    },
    {
      "cell_type": "code",
      "metadata": {
        "id": "QPKUXRgGO2op",
        "colab_type": "code",
        "colab": {}
      },
      "source": [
        ""
      ],
      "execution_count": 0,
      "outputs": []
    },
    {
      "cell_type": "markdown",
      "metadata": {
        "id": "MkTyfYuv2Rrs",
        "colab_type": "text"
      },
      "source": [
        ""
      ]
    },
    {
      "cell_type": "markdown",
      "metadata": {
        "id": "l3G5ioKpqxq-",
        "colab_type": "text"
      },
      "source": [
        "#Training without categorical variables"
      ]
    },
    {
      "cell_type": "code",
      "metadata": {
        "id": "pZ2H8VtEjolm",
        "colab_type": "code",
        "outputId": "b08e4ece-5e01-43af-9fe7-bd53ffcbd08e",
        "colab": {
          "base_uri": "https://localhost:8080/",
          "height": 256
        }
      },
      "source": [
        "df1.columns"
      ],
      "execution_count": 0,
      "outputs": [
        {
          "output_type": "execute_result",
          "data": {
            "text/plain": [
              "Index(['YEAR', 'QUARTER', 'MONTH', 'DAY_OF_MONTH', 'DAY_OF_WEEK',\n",
              "       'OP_UNIQUE_CARRIER', 'OP_CARRIER_AIRLINE_ID', 'OP_CARRIER_FL_NUM',\n",
              "       'ORIGIN_AIRPORT_ID', 'ORIGIN_AIRPORT_SEQ_ID', 'ORIGIN_CITY_MARKET_ID',\n",
              "       'ORIGIN_STATE_FIPS', 'ORIGIN_WAC', 'DEST_AIRPORT_ID',\n",
              "       'DEST_AIRPORT_SEQ_ID', 'DEST_CITY_MARKET_ID', 'DEST_WAC',\n",
              "       'DEP_TIME_BLK', 'TAXI_OUT', 'WHEELS_OFF', 'WHEELS_ON', 'TAXI_IN',\n",
              "       'CRS_ARR_TIME', 'ARR_TIME', 'ARR_DELAY', 'ARR_DELAY_NEW', 'ARR_DEL15',\n",
              "       'ARR_DELAY_GROUP', 'ARR_TIME_BLK', 'CRS_ELAPSED_TIME',\n",
              "       'ACTUAL_ELAPSED_TIME', 'AIR_TIME', 'DISTANCE', 'DISTANCE_GROUP',\n",
              "       'DIV_AIRPORT_LANDINGS', 'incident_category', 'zulu_time_value',\n",
              "       'wind_direction_value', 'prevailing_visibility_value',\n",
              "       'cloud_coverage_value', 'barometric_pressure_value',\n",
              "       'temp_dewpoint_value'],\n",
              "      dtype='object')"
            ]
          },
          "metadata": {
            "tags": []
          },
          "execution_count": 109
        }
      ]
    },
    {
      "cell_type": "code",
      "metadata": {
        "id": "WmdXoL_njUUt",
        "colab_type": "code",
        "colab": {}
      },
      "source": [
        "X = df1.drop(axis=1,columns=['TAXI_OUT','incident_category','DEP_TIME_BLK','OP_UNIQUE_CARRIER','ARR_TIME_BLK',])"
      ],
      "execution_count": 0,
      "outputs": []
    },
    {
      "cell_type": "code",
      "metadata": {
        "id": "N7OCiH5cjx1Y",
        "colab_type": "code",
        "colab": {}
      },
      "source": [
        "y = df1['incident_category']"
      ],
      "execution_count": 0,
      "outputs": []
    },
    {
      "cell_type": "code",
      "metadata": {
        "id": "uyl1FhgY54ks",
        "colab_type": "code",
        "colab": {}
      },
      "source": [
        "X_train, X_test, y_train, y_test = train_test_split(X, y, test_size=0.3, random_state=142)"
      ],
      "execution_count": 0,
      "outputs": []
    },
    {
      "cell_type": "code",
      "metadata": {
        "id": "x_e1tkZvtFaM",
        "colab_type": "code",
        "colab": {}
      },
      "source": [
        "from sklearn.tree import DecisionTreeClassifier\n",
        "dtree = DecisionTreeClassifier()"
      ],
      "execution_count": 0,
      "outputs": []
    },
    {
      "cell_type": "code",
      "metadata": {
        "id": "TN6K1NXytPy3",
        "colab_type": "code",
        "outputId": "603540e5-acb2-468f-9658-4eeeed256398",
        "colab": {
          "base_uri": "https://localhost:8080/",
          "height": 119
        }
      },
      "source": [
        "dtree.fit(X_train,y_train)"
      ],
      "execution_count": 0,
      "outputs": [
        {
          "output_type": "execute_result",
          "data": {
            "text/plain": [
              "DecisionTreeClassifier(ccp_alpha=0.0, class_weight=None, criterion='gini',\n",
              "                       max_depth=None, max_features=None, max_leaf_nodes=None,\n",
              "                       min_impurity_decrease=0.0, min_impurity_split=None,\n",
              "                       min_samples_leaf=1, min_samples_split=2,\n",
              "                       min_weight_fraction_leaf=0.0, presort='deprecated',\n",
              "                       random_state=None, splitter='best')"
            ]
          },
          "metadata": {
            "tags": []
          },
          "execution_count": 131
        }
      ]
    },
    {
      "cell_type": "code",
      "metadata": {
        "id": "Icq0LStVtOyA",
        "colab_type": "code",
        "colab": {}
      },
      "source": [
        "d_tree_predictions1 = dtree.predict(X_test)"
      ],
      "execution_count": 0,
      "outputs": []
    },
    {
      "cell_type": "code",
      "metadata": {
        "id": "kzkhDDf5tUlo",
        "colab_type": "code",
        "colab": {}
      },
      "source": [
        "from sklearn.metrics import classification_report,confusion_matrix"
      ],
      "execution_count": 0,
      "outputs": []
    },
    {
      "cell_type": "code",
      "metadata": {
        "id": "cxgyKudRwkvD",
        "colab_type": "code",
        "outputId": "c98f0392-c0aa-4dba-f92a-722e89e3d8a0",
        "colab": {
          "base_uri": "https://localhost:8080/",
          "height": 170
        }
      },
      "source": [
        "print(classification_report(y_test,d_tree_predictions1))"
      ],
      "execution_count": 0,
      "outputs": [
        {
          "output_type": "stream",
          "text": [
            "              precision    recall  f1-score   support\n",
            "\n",
            "           0       0.94      0.94      0.94   1562746\n",
            "           1       0.89      0.90      0.90    834355\n",
            "\n",
            "    accuracy                           0.93   2397101\n",
            "   macro avg       0.92      0.92      0.92   2397101\n",
            "weighted avg       0.93      0.93      0.93   2397101\n",
            "\n"
          ],
          "name": "stdout"
        }
      ]
    },
    {
      "cell_type": "code",
      "metadata": {
        "id": "zm9r9DEgwsVB",
        "colab_type": "code",
        "outputId": "417094df-4cd2-4156-a430-a2485874bed9",
        "colab": {
          "base_uri": "https://localhost:8080/",
          "height": 51
        }
      },
      "source": [
        "print(confusion_matrix(y_test,d_tree_predictions1))"
      ],
      "execution_count": 0,
      "outputs": [
        {
          "output_type": "stream",
          "text": [
            "[[1474727   88019]\n",
            " [  86256  748099]]\n"
          ],
          "name": "stdout"
        }
      ]
    },
    {
      "cell_type": "markdown",
      "metadata": {
        "id": "o6qzAQTVto5t",
        "colab_type": "text"
      },
      "source": [
        "#Using Logistic Regression"
      ]
    },
    {
      "cell_type": "code",
      "metadata": {
        "id": "mqQ9m80rtys_",
        "colab_type": "code",
        "colab": {}
      },
      "source": [
        "from sklearn.linear_model import LogisticRegression\n",
        "logreg = LogisticRegression()"
      ],
      "execution_count": 0,
      "outputs": []
    },
    {
      "cell_type": "code",
      "metadata": {
        "id": "bOejP9h-uKwh",
        "colab_type": "code",
        "outputId": "768d1366-bb4b-4f46-ea1d-d9a9bfbe9364",
        "colab": {
          "base_uri": "https://localhost:8080/",
          "height": 238
        }
      },
      "source": [
        "logreg.fit(X_train,y_train)"
      ],
      "execution_count": 0,
      "outputs": [
        {
          "output_type": "stream",
          "text": [
            "/usr/local/lib/python3.6/dist-packages/sklearn/linear_model/_logistic.py:940: ConvergenceWarning: lbfgs failed to converge (status=1):\n",
            "STOP: TOTAL NO. of ITERATIONS REACHED LIMIT.\n",
            "\n",
            "Increase the number of iterations (max_iter) or scale the data as shown in:\n",
            "    https://scikit-learn.org/stable/modules/preprocessing.html\n",
            "Please also refer to the documentation for alternative solver options:\n",
            "    https://scikit-learn.org/stable/modules/linear_model.html#logistic-regression\n",
            "  extra_warning_msg=_LOGISTIC_SOLVER_CONVERGENCE_MSG)\n"
          ],
          "name": "stderr"
        },
        {
          "output_type": "execute_result",
          "data": {
            "text/plain": [
              "LogisticRegression(C=1.0, class_weight=None, dual=False, fit_intercept=True,\n",
              "                   intercept_scaling=1, l1_ratio=None, max_iter=100,\n",
              "                   multi_class='auto', n_jobs=None, penalty='l2',\n",
              "                   random_state=None, solver='lbfgs', tol=0.0001, verbose=0,\n",
              "                   warm_start=False)"
            ]
          },
          "metadata": {
            "tags": []
          },
          "execution_count": 137
        }
      ]
    },
    {
      "cell_type": "code",
      "metadata": {
        "id": "hFrxEvdsuKdI",
        "colab_type": "code",
        "colab": {}
      },
      "source": [
        "logreg_predictions = logreg.predict(X_test)"
      ],
      "execution_count": 0,
      "outputs": []
    },
    {
      "cell_type": "code",
      "metadata": {
        "id": "txX73WGgu3XV",
        "colab_type": "code",
        "outputId": "29a67ccb-fed2-4dcd-ccca-41b631ad23f2",
        "colab": {
          "base_uri": "https://localhost:8080/",
          "height": 170
        }
      },
      "source": [
        "print(classification_report(y_test,logreg_predictions))"
      ],
      "execution_count": 0,
      "outputs": [
        {
          "output_type": "stream",
          "text": [
            "              precision    recall  f1-score   support\n",
            "\n",
            "           0       0.66      0.97      0.78   1562746\n",
            "           1       0.49      0.05      0.09    834355\n",
            "\n",
            "    accuracy                           0.65   2397101\n",
            "   macro avg       0.57      0.51      0.44   2397101\n",
            "weighted avg       0.60      0.65      0.54   2397101\n",
            "\n"
          ],
          "name": "stdout"
        }
      ]
    },
    {
      "cell_type": "code",
      "metadata": {
        "id": "i4rE6l1pu6lY",
        "colab_type": "code",
        "outputId": "59aefe50-5993-4e58-a24a-a18ddee2be41",
        "colab": {
          "base_uri": "https://localhost:8080/",
          "height": 51
        }
      },
      "source": [
        "print(confusion_matrix(y_test,logreg_predictions))"
      ],
      "execution_count": 0,
      "outputs": [
        {
          "output_type": "stream",
          "text": [
            "[[1519353   43393]\n",
            " [ 793360   40995]]\n"
          ],
          "name": "stdout"
        }
      ]
    },
    {
      "cell_type": "markdown",
      "metadata": {
        "id": "HKc5rSD7vPKD",
        "colab_type": "text"
      },
      "source": [
        "#Training with Xgboost"
      ]
    },
    {
      "cell_type": "code",
      "metadata": {
        "id": "Wmzo10AavkQs",
        "colab_type": "code",
        "outputId": "83f2c418-d28c-46a8-c938-92a215371a77",
        "colab": {
          "base_uri": "https://localhost:8080/",
          "height": 68
        }
      },
      "source": [
        "pip install xgboost"
      ],
      "execution_count": 0,
      "outputs": [
        {
          "output_type": "stream",
          "text": [
            "Requirement already satisfied: xgboost in /usr/local/lib/python3.6/dist-packages (0.90)\n",
            "Requirement already satisfied: scipy in /usr/local/lib/python3.6/dist-packages (from xgboost) (1.4.1)\n",
            "Requirement already satisfied: numpy in /usr/local/lib/python3.6/dist-packages (from xgboost) (1.17.5)\n"
          ],
          "name": "stdout"
        }
      ]
    },
    {
      "cell_type": "code",
      "metadata": {
        "id": "sckfA18kwMns",
        "colab_type": "code",
        "colab": {}
      },
      "source": [
        "param = {\n",
        "    'eta': 0.3, \n",
        "    'max_depth': 3,  \n",
        "    'objective': 'multi:softprob',  \n",
        "    'num_class': 3} \n",
        "\n",
        "steps = 20 "
      ],
      "execution_count": 0,
      "outputs": []
    },
    {
      "cell_type": "code",
      "metadata": {
        "id": "HXxDh0mgwnvw",
        "colab_type": "code",
        "colab": {}
      },
      "source": [
        "import xgboost as xgb"
      ],
      "execution_count": 0,
      "outputs": []
    },
    {
      "cell_type": "code",
      "metadata": {
        "id": "hZtCV3GVvkOV",
        "colab_type": "code",
        "outputId": "618fa9e0-1d90-49ab-af40-b25d3b6d43ac",
        "colab": {
          "base_uri": "https://localhost:8080/",
          "height": 51
        }
      },
      "source": [
        "D_train = xgb.DMatrix(X_train, label=y_train)\n",
        "D_test = xgb.DMatrix(X_test, label=y_test)"
      ],
      "execution_count": 0,
      "outputs": [
        {
          "output_type": "stream",
          "text": [
            "/usr/local/lib/python3.6/dist-packages/xgboost/core.py:587: FutureWarning: Series.base is deprecated and will be removed in a future version\n",
            "  if getattr(data, 'base', None) is not None and \\\n"
          ],
          "name": "stderr"
        }
      ]
    },
    {
      "cell_type": "code",
      "metadata": {
        "id": "5c8bjyBqwZ7k",
        "colab_type": "code",
        "outputId": "2b9d7c30-f361-4b6f-af3d-e038083f07ad",
        "colab": {
          "base_uri": "https://localhost:8080/",
          "height": 54
        }
      },
      "source": [
        "model = xgb.train(param, D_train, steps)"
      ],
      "execution_count": 0,
      "outputs": [
        {
          "output_type": "stream",
          "text": [
            "[08:57:25] WARNING: /workspace/src/learner.cc:686: Tree method is automatically selected to be 'approx' for faster speed. To use old behavior (exact greedy algorithm on single machine), set tree_method to 'exact'.\n"
          ],
          "name": "stdout"
        }
      ]
    },
    {
      "cell_type": "code",
      "metadata": {
        "id": "pFK33Y-mwZ43",
        "colab_type": "code",
        "colab": {}
      },
      "source": [
        "preds = model.predict(D_test)\n",
        "best_preds = np.asarray([np.argmax(line) for line in preds])"
      ],
      "execution_count": 0,
      "outputs": []
    },
    {
      "cell_type": "code",
      "metadata": {
        "id": "mhSaN-01wZ1e",
        "colab_type": "code",
        "outputId": "7dc4be2a-d522-49a9-b3ba-85bf57cd8ce6",
        "colab": {
          "base_uri": "https://localhost:8080/",
          "height": 170
        }
      },
      "source": [
        "print(classification_report(y_test,best_preds))"
      ],
      "execution_count": 0,
      "outputs": [
        {
          "output_type": "stream",
          "text": [
            "              precision    recall  f1-score   support\n",
            "\n",
            "           0       0.80      0.90      0.85   1562746\n",
            "           1       0.76      0.57      0.65    834355\n",
            "\n",
            "    accuracy                           0.79   2397101\n",
            "   macro avg       0.78      0.74      0.75   2397101\n",
            "weighted avg       0.79      0.79      0.78   2397101\n",
            "\n"
          ],
          "name": "stdout"
        }
      ]
    },
    {
      "cell_type": "code",
      "metadata": {
        "id": "T2BA3QcswZzc",
        "colab_type": "code",
        "outputId": "57a234b5-2d88-4a94-ac79-f3052d15c7eb",
        "colab": {
          "base_uri": "https://localhost:8080/",
          "height": 51
        }
      },
      "source": [
        "print(confusion_matrix(y_test,best_preds))"
      ],
      "execution_count": 0,
      "outputs": [
        {
          "output_type": "stream",
          "text": [
            "[[1412803  149943]\n",
            " [ 355253  479102]]\n"
          ],
          "name": "stdout"
        }
      ]
    },
    {
      "cell_type": "code",
      "metadata": {
        "id": "wzGFuz6ZwZt3",
        "colab_type": "code",
        "colab": {}
      },
      "source": [
        ""
      ],
      "execution_count": 0,
      "outputs": []
    },
    {
      "cell_type": "code",
      "metadata": {
        "id": "c7XWS8xZwZp-",
        "colab_type": "code",
        "colab": {}
      },
      "source": [
        ""
      ],
      "execution_count": 0,
      "outputs": []
    },
    {
      "cell_type": "markdown",
      "metadata": {
        "id": "mbCj3T28yIs7",
        "colab_type": "text"
      },
      "source": [
        "# Regression Training"
      ]
    },
    {
      "cell_type": "code",
      "metadata": {
        "id": "lQpNT9k9wZmV",
        "colab_type": "code",
        "colab": {}
      },
      "source": [
        "from sklearn import linear_model\n",
        "from sklearn.metrics import mean_squared_error,r2_score\n",
        "from sklearn import metrics"
      ],
      "execution_count": 0,
      "outputs": []
    },
    {
      "cell_type": "code",
      "metadata": {
        "id": "DxfglmH1GXSa",
        "colab_type": "code",
        "colab": {}
      },
      "source": [
        "X_train, X_test, y_train, y_test = train_test_split(X, y, test_size=0.3, random_state=101)"
      ],
      "execution_count": 0,
      "outputs": []
    },
    {
      "cell_type": "code",
      "metadata": {
        "id": "kd5WYkz43UbF",
        "colab_type": "code",
        "colab": {}
      },
      "source": [
        "y = df1['TAXI_OUT']"
      ],
      "execution_count": 0,
      "outputs": []
    },
    {
      "cell_type": "code",
      "metadata": {
        "id": "aBjAkte4yVpZ",
        "colab_type": "code",
        "colab": {}
      },
      "source": [
        "lin_reg=linear_model.LinearRegression()"
      ],
      "execution_count": 0,
      "outputs": []
    },
    {
      "cell_type": "code",
      "metadata": {
        "id": "QD2lojTGyVmM",
        "colab_type": "code",
        "outputId": "7e74b5fa-3f5e-4751-c718-dc617928e07a",
        "colab": {
          "base_uri": "https://localhost:8080/",
          "height": 34
        }
      },
      "source": [
        "lin_reg.fit(X_train,y_train)"
      ],
      "execution_count": 0,
      "outputs": [
        {
          "output_type": "execute_result",
          "data": {
            "text/plain": [
              "LinearRegression(copy_X=True, fit_intercept=True, n_jobs=None, normalize=False)"
            ]
          },
          "metadata": {
            "tags": []
          },
          "execution_count": 181
        }
      ]
    },
    {
      "cell_type": "code",
      "metadata": {
        "id": "KjlEusVlydrc",
        "colab_type": "code",
        "colab": {}
      },
      "source": [
        "linreg_pred1 = lin_reg.predict(X_test)"
      ],
      "execution_count": 0,
      "outputs": []
    },
    {
      "cell_type": "code",
      "metadata": {
        "id": "vYn0EsBA4QDi",
        "colab_type": "code",
        "colab": {}
      },
      "source": [
        "del train"
      ],
      "execution_count": 0,
      "outputs": []
    },
    {
      "cell_type": "code",
      "metadata": {
        "id": "vUDwscoV4VdD",
        "colab_type": "code",
        "colab": {}
      },
      "source": [
        ""
      ],
      "execution_count": 0,
      "outputs": []
    },
    {
      "cell_type": "code",
      "metadata": {
        "id": "Ko9xkJKUydop",
        "colab_type": "code",
        "outputId": "4bf79c74-3d6e-4861-c5ad-de61e102ee47",
        "colab": {
          "base_uri": "https://localhost:8080/",
          "height": 68
        }
      },
      "source": [
        "print('MAE:', metrics.mean_absolute_error(y_test,linreg_pred1))\n",
        "print('MSE:',metrics.mean_squared_error(y_test,linreg_pred1))\n",
        "print('RMSE:', np.sqrt(metrics.mean_squared_error(y_test,linreg_pred1)))"
      ],
      "execution_count": 0,
      "outputs": [
        {
          "output_type": "stream",
          "text": [
            "MAE: 0.276238010736598\n",
            "MSE: 2.0728957831221595\n",
            "RMSE: 1.4397554594868391\n"
          ],
          "name": "stdout"
        }
      ]
    },
    {
      "cell_type": "code",
      "metadata": {
        "id": "QvM7Ndx7ydlx",
        "colab_type": "code",
        "outputId": "d0f068e7-de88-4f77-e61e-1e36959b2c5d",
        "colab": {
          "base_uri": "https://localhost:8080/",
          "height": 296
        }
      },
      "source": [
        "plt.scatter(y_test,linreg_pred1,marker='^')\n",
        "plt.xlabel('Actual values')\n",
        "plt.ylabel('Predictions')"
      ],
      "execution_count": 0,
      "outputs": [
        {
          "output_type": "execute_result",
          "data": {
            "text/plain": [
              "Text(0, 0.5, 'Predictions')"
            ]
          },
          "metadata": {
            "tags": []
          },
          "execution_count": 143
        },
        {
          "output_type": "display_data",
          "data": {
            "image/png": "[encoded data removed]",
            "text/plain": [
              "<Figure size 432x288 with 1 Axes>"
            ]
          },
          "metadata": {
            "tags": []
          }
        }
      ]
    },
    {
      "cell_type": "code",
      "metadata": {
        "id": "J685d4Z-ydjJ",
        "colab_type": "code",
        "outputId": "9c106fed-2c02-47b6-ff5f-8235990b69b4",
        "colab": {
          "base_uri": "https://localhost:8080/",
          "height": 281
        }
      },
      "source": [
        "sns.distplot((y_test,linreg_pred1),bins=60)"
      ],
      "execution_count": 0,
      "outputs": [
        {
          "output_type": "execute_result",
          "data": {
            "text/plain": [
              "<matplotlib.axes._subplots.AxesSubplot at 0x7f7d3d969160>"
            ]
          },
          "metadata": {
            "tags": []
          },
          "execution_count": 188
        },
        {
          "output_type": "display_data",
          "data": {
            "image/png": "[encoded data removed]",
            "text/plain": [
              "<Figure size 432x288 with 1 Axes>"
            ]
          },
          "metadata": {
            "tags": []
          }
        }
      ]
    },
    {
      "cell_type": "code",
      "metadata": {
        "id": "pJMFrorEydd4",
        "colab_type": "code",
        "colab": {}
      },
      "source": [
        ""
      ],
      "execution_count": 0,
      "outputs": []
    },
    {
      "cell_type": "code",
      "metadata": {
        "id": "vA87wO3sydaH",
        "colab_type": "code",
        "colab": {}
      },
      "source": [
        ""
      ],
      "execution_count": 0,
      "outputs": []
    },
    {
      "cell_type": "markdown",
      "metadata": {
        "id": "HuYAgsRCzAuW",
        "colab_type": "text"
      },
      "source": [
        "# Gradient boosting Regressor"
      ]
    },
    {
      "cell_type": "code",
      "metadata": {
        "id": "X7SNx4jHydWt",
        "colab_type": "code",
        "colab": {}
      },
      "source": [
        "from sklearn.ensemble import GradientBoostingRegressor"
      ],
      "execution_count": 0,
      "outputs": []
    },
    {
      "cell_type": "code",
      "metadata": {
        "id": "rFq9tlqezTxv",
        "colab_type": "code",
        "outputId": "be042c0a-4a45-4288-b1e7-0ed266d88168",
        "colab": {
          "base_uri": "https://localhost:8080/",
          "height": 170
        }
      },
      "source": [
        "regressor = GradientBoostingRegressor(\n",
        "    max_depth=2,\n",
        "    n_estimators=3,\n",
        "    learning_rate=1.0\n",
        ")\n",
        "regressor.fit(X_train, y_train)"
      ],
      "execution_count": 0,
      "outputs": [
        {
          "output_type": "execute_result",
          "data": {
            "text/plain": [
              "GradientBoostingRegressor(alpha=0.9, ccp_alpha=0.0, criterion='friedman_mse',\n",
              "                          init=None, learning_rate=1.0, loss='ls', max_depth=2,\n",
              "                          max_features=None, max_leaf_nodes=None,\n",
              "                          min_impurity_decrease=0.0, min_impurity_split=None,\n",
              "                          min_samples_leaf=1, min_samples_split=2,\n",
              "                          min_weight_fraction_leaf=0.0, n_estimators=3,\n",
              "                          n_iter_no_change=None, presort='deprecated',\n",
              "                          random_state=None, subsample=1.0, tol=0.0001,\n",
              "                          validation_fraction=0.1, verbose=0, warm_start=False)"
            ]
          },
          "metadata": {
            "tags": []
          },
          "execution_count": 190
        }
      ]
    },
    {
      "cell_type": "code",
      "metadata": {
        "id": "q4iAcxMkyVii",
        "colab_type": "code",
        "colab": {}
      },
      "source": [
        "errors = [mean_squared_error(y_test, y_pred) for y_pred in regressor.staged_predict(X_test)]\n",
        "best_n_estimators = np.argmin(errors)"
      ],
      "execution_count": 0,
      "outputs": []
    },
    {
      "cell_type": "code",
      "metadata": {
        "id": "P27Xqw_qzKo4",
        "colab_type": "code",
        "outputId": "00f40673-7034-4351-c658-1b3975836ed7",
        "colab": {
          "base_uri": "https://localhost:8080/",
          "height": 170
        }
      },
      "source": [
        "best_regressor = GradientBoostingRegressor(\n",
        "    max_depth=2,\n",
        "    n_estimators=best_n_estimators,\n",
        "    learning_rate=1.0\n",
        ")\n",
        "best_regressor.fit(X_train, y_train)"
      ],
      "execution_count": 0,
      "outputs": [
        {
          "output_type": "execute_result",
          "data": {
            "text/plain": [
              "GradientBoostingRegressor(alpha=0.9, ccp_alpha=0.0, criterion='friedman_mse',\n",
              "                          init=None, learning_rate=1.0, loss='ls', max_depth=2,\n",
              "                          max_features=None, max_leaf_nodes=None,\n",
              "                          min_impurity_decrease=0.0, min_impurity_split=None,\n",
              "                          min_samples_leaf=1, min_samples_split=2,\n",
              "                          min_weight_fraction_leaf=0.0, n_estimators=2,\n",
              "                          n_iter_no_change=None, presort='deprecated',\n",
              "                          random_state=None, subsample=1.0, tol=0.0001,\n",
              "                          validation_fraction=0.1, verbose=0, warm_start=False)"
            ]
          },
          "metadata": {
            "tags": []
          },
          "execution_count": 192
        }
      ]
    },
    {
      "cell_type": "code",
      "metadata": {
        "id": "QzLmcjt-zKfw",
        "colab_type": "code",
        "colab": {}
      },
      "source": [
        "reg_pred = best_regressor.predict(X_test)"
      ],
      "execution_count": 0,
      "outputs": []
    },
    {
      "cell_type": "code",
      "metadata": {
        "id": "N6G8KRtOzKcM",
        "colab_type": "code",
        "outputId": "31ab73e4-7847-4422-ecb9-8a08a05a9d8a",
        "colab": {
          "base_uri": "https://localhost:8080/",
          "height": 68
        }
      },
      "source": [
        "print('MAE:', metrics.mean_absolute_error(y_test,reg_pred))\n",
        "print('MSE:',metrics.mean_squared_error(y_test,reg_pred))\n",
        "print('RMSE:', np.sqrt(metrics.mean_squared_error(y_test,reg_pred)))"
      ],
      "execution_count": 0,
      "outputs": [
        {
          "output_type": "stream",
          "text": [
            "MAE: 5.831973569155243\n",
            "MSE: 79.99356906583363\n",
            "RMSE: 8.943912402625243\n"
          ],
          "name": "stdout"
        }
      ]
    },
    {
      "cell_type": "code",
      "metadata": {
        "id": "rDQFJIMkzKYj",
        "colab_type": "code",
        "outputId": "dd4f0582-dee6-41ce-ea7c-881c7c39e9c8",
        "colab": {
          "base_uri": "https://localhost:8080/",
          "height": 296
        }
      },
      "source": [
        "plt.scatter(y_test,reg_pred)\n",
        "plt.xlabel('Actual values')\n",
        "plt.ylabel('Predictions')"
      ],
      "execution_count": 0,
      "outputs": [
        {
          "output_type": "execute_result",
          "data": {
            "text/plain": [
              "Text(0, 0.5, 'Predictions')"
            ]
          },
          "metadata": {
            "tags": []
          },
          "execution_count": 195
        },
        {
          "output_type": "display_data",
          "data": {
            "image/png": "[encoded data removed]",
            "text/plain": [
              "<Figure size 432x288 with 1 Axes>"
            ]
          },
          "metadata": {
            "tags": []
          }
        }
      ]
    },
    {
      "cell_type": "code",
      "metadata": {
        "id": "5cdwxqdzyVfe",
        "colab_type": "code",
        "outputId": "0fa81476-2495-4927-d6e1-2400842e0a3d",
        "colab": {
          "base_uri": "https://localhost:8080/",
          "height": 281
        }
      },
      "source": [
        "sns.distplot((y_test,reg_pred),bins=60)"
      ],
      "execution_count": 0,
      "outputs": [
        {
          "output_type": "execute_result",
          "data": {
            "text/plain": [
              "<matplotlib.axes._subplots.AxesSubplot at 0x7f7d3d7d8f28>"
            ]
          },
          "metadata": {
            "tags": []
          },
          "execution_count": 196
        },
        {
          "output_type": "display_data",
          "data": {
            "image/png": "[encoded data removed]",
            "text/plain": [
              "<Figure size 432x288 with 1 Axes>"
            ]
          },
          "metadata": {
            "tags": []
          }
        }
      ]
    },
    {
      "cell_type": "code",
      "metadata": {
        "id": "cwPiCiLHyVb0",
        "colab_type": "code",
        "colab": {}
      },
      "source": [
        ""
      ],
      "execution_count": 0,
      "outputs": []
    },
    {
      "cell_type": "code",
      "metadata": {
        "id": "2CksEP19yVYX",
        "colab_type": "code",
        "colab": {}
      },
      "source": [
        ""
      ],
      "execution_count": 0,
      "outputs": []
    },
    {
      "cell_type": "markdown",
      "metadata": {
        "id": "PKY-s1ZD2qRq",
        "colab_type": "text"
      },
      "source": [
        "# XGBoost Regressor"
      ]
    },
    {
      "cell_type": "code",
      "metadata": {
        "id": "MX_bN75HGuyd",
        "colab_type": "code",
        "outputId": "bd53d41b-bb42-4bc2-d80d-d99d32dd292d",
        "colab": {
          "base_uri": "https://localhost:8080/",
          "height": 68
        }
      },
      "source": [
        "!pip install XGBOOST"
      ],
      "execution_count": 0,
      "outputs": [
        {
          "output_type": "stream",
          "text": [
            "Requirement already satisfied: XGBOOST in /usr/local/lib/python3.6/dist-packages (0.90)\n",
            "Requirement already satisfied: numpy in /usr/local/lib/python3.6/dist-packages (from XGBOOST) (1.17.5)\n",
            "Requirement already satisfied: scipy in /usr/local/lib/python3.6/dist-packages (from XGBOOST) (1.4.1)\n"
          ],
          "name": "stdout"
        }
      ]
    },
    {
      "cell_type": "code",
      "metadata": {
        "id": "37XjoaDzG01y",
        "colab_type": "code",
        "colab": {}
      },
      "source": [
        "import xgboost as xgb"
      ],
      "execution_count": 0,
      "outputs": []
    },
    {
      "cell_type": "code",
      "metadata": {
        "id": "mEsrZAgPwZjr",
        "colab_type": "code",
        "colab": {}
      },
      "source": [
        "xg_reg = xgb.XGBRegressor(objective ='reg:linear', colsample_bytree = 0.3, learning_rate = 0.1,\n",
        "                max_depth = 5, alpha = 10, n_estimators = 10)"
      ],
      "execution_count": 0,
      "outputs": []
    },
    {
      "cell_type": "code",
      "metadata": {
        "id": "TU_8YZwJG96s",
        "colab_type": "code",
        "colab": {}
      },
      "source": [
        ""
      ],
      "execution_count": 0,
      "outputs": []
    },
    {
      "cell_type": "code",
      "metadata": {
        "id": "leBTwPfQfxDF",
        "colab_type": "code",
        "outputId": "4ae8dc59-1f27-4747-958e-01724953e374",
        "colab": {
          "base_uri": "https://localhost:8080/",
          "height": 224
        }
      },
      "source": [
        "xg_reg.fit(X_train,y_train)"
      ],
      "execution_count": 0,
      "outputs": [
        {
          "output_type": "stream",
          "text": [
            "/usr/local/lib/python3.6/dist-packages/xgboost/core.py:587: FutureWarning: Series.base is deprecated and will be removed in a future version\n",
            "  if getattr(data, 'base', None) is not None and \\\n"
          ],
          "name": "stderr"
        },
        {
          "output_type": "stream",
          "text": [
            "[10:36:20] WARNING: /workspace/src/objective/regression_obj.cu:152: reg:linear is now deprecated in favor of reg:squarederror.\n",
            "[10:36:20] WARNING: /workspace/src/learner.cc:686: Tree method is automatically selected to be 'approx' for faster speed. To use old behavior (exact greedy algorithm on single machine), set tree_method to 'exact'.\n"
          ],
          "name": "stdout"
        },
        {
          "output_type": "execute_result",
          "data": {
            "text/plain": [
              "XGBRegressor(alpha=10, base_score=0.5, booster='gbtree', colsample_bylevel=1,\n",
              "             colsample_bynode=1, colsample_bytree=0.3, gamma=0,\n",
              "             importance_type='gain', learning_rate=0.1, max_delta_step=0,\n",
              "             max_depth=5, min_child_weight=1, missing=None, n_estimators=10,\n",
              "             n_jobs=1, nthread=None, objective='reg:linear', random_state=0,\n",
              "             reg_alpha=0, reg_lambda=1, scale_pos_weight=1, seed=None,\n",
              "             silent=None, subsample=1, verbosity=1)"
            ]
          },
          "metadata": {
            "tags": []
          },
          "execution_count": 112
        }
      ]
    },
    {
      "cell_type": "code",
      "metadata": {
        "id": "Vf1weIw2TVZQ",
        "colab_type": "code",
        "colab": {}
      },
      "source": [
        "preds = xg_reg.predict(X_test)"
      ],
      "execution_count": 0,
      "outputs": []
    },
    {
      "cell_type": "code",
      "metadata": {
        "id": "faABobGA25vh",
        "colab_type": "code",
        "outputId": "86c791c6-924d-4b1e-913d-e53f133466c8",
        "colab": {
          "base_uri": "https://localhost:8080/",
          "height": 68
        }
      },
      "source": [
        "print('MAE:', metrics.mean_absolute_error(y_test,preds))\n",
        "print('MSE:',metrics.mean_squared_error(y_test,preds))\n",
        "print('RMSE:', np.sqrt(metrics.mean_squared_error(y_test,preds)))"
      ],
      "execution_count": 0,
      "outputs": [
        {
          "output_type": "stream",
          "text": [
            "MAE: 6.538287751677239\n",
            "MSE: 109.69629921142581\n",
            "RMSE: 10.47360010748099\n"
          ],
          "name": "stdout"
        }
      ]
    },
    {
      "cell_type": "code",
      "metadata": {
        "id": "hxuuzado25rm",
        "colab_type": "code",
        "outputId": "547970e5-061b-4529-ac57-9d9935221597",
        "colab": {
          "base_uri": "https://localhost:8080/",
          "height": 296
        }
      },
      "source": [
        "plt.scatter(y_test,preds)\n",
        "plt.xlabel('Actual values')\n",
        "plt.ylabel('Predictions')"
      ],
      "execution_count": 0,
      "outputs": [
        {
          "output_type": "execute_result",
          "data": {
            "text/plain": [
              "Text(0, 0.5, 'Predictions')"
            ]
          },
          "metadata": {
            "tags": []
          },
          "execution_count": 201
        },
        {
          "output_type": "display_data",
          "data": {
            "image/png": "[encoded data removed]",
            "text/plain": [
              "<Figure size 432x288 with 1 Axes>"
            ]
          },
          "metadata": {
            "tags": []
          }
        }
      ]
    },
    {
      "cell_type": "code",
      "metadata": {
        "id": "606G5_H325nl",
        "colab_type": "code",
        "outputId": "a8cef8b8-ce95-4c74-ceb8-a86612558992",
        "colab": {
          "base_uri": "https://localhost:8080/",
          "height": 281
        }
      },
      "source": [
        "sns.distplot((y_test,preds),bins=60)"
      ],
      "execution_count": 0,
      "outputs": [
        {
          "output_type": "execute_result",
          "data": {
            "text/plain": [
              "<matplotlib.axes._subplots.AxesSubplot at 0x7f7d3d65dd30>"
            ]
          },
          "metadata": {
            "tags": []
          },
          "execution_count": 202
        },
        {
          "output_type": "display_data",
          "data": {
            "image/png": "[encoded data removed]",
            "text/plain": [
              "<Figure size 432x288 with 1 Axes>"
            ]
          },
          "metadata": {
            "tags": []
          }
        }
      ]
    },
    {
      "cell_type": "code",
      "metadata": {
        "id": "9wGwDYcD74Y1",
        "colab_type": "code",
        "colab": {}
      },
      "source": [
        ""
      ],
      "execution_count": 0,
      "outputs": []
    },
    {
      "cell_type": "code",
      "metadata": {
        "id": "IfDl3CRr74VE",
        "colab_type": "code",
        "colab": {}
      },
      "source": [
        ""
      ],
      "execution_count": 0,
      "outputs": []
    },
    {
      "cell_type": "code",
      "metadata": {
        "id": "vKn8FXXK74SC",
        "colab_type": "code",
        "colab": {}
      },
      "source": [
        ""
      ],
      "execution_count": 0,
      "outputs": []
    },
    {
      "cell_type": "code",
      "metadata": {
        "id": "GSWcZp4z74Np",
        "colab_type": "code",
        "colab": {}
      },
      "source": [
        ""
      ],
      "execution_count": 0,
      "outputs": []
    },
    {
      "cell_type": "code",
      "metadata": {
        "id": "WkMZ362U74K1",
        "colab_type": "code",
        "colab": {}
      },
      "source": [
        ""
      ],
      "execution_count": 0,
      "outputs": []
    },
    {
      "cell_type": "code",
      "metadata": {
        "id": "O7zeRFm574C8",
        "colab_type": "code",
        "colab": {}
      },
      "source": [
        ""
      ],
      "execution_count": 0,
      "outputs": []
    },
    {
      "cell_type": "code",
      "metadata": {
        "id": "1kg2dUZcTVKH",
        "colab_type": "code",
        "colab": {}
      },
      "source": [
        ""
      ],
      "execution_count": 0,
      "outputs": []
    },
    {
      "cell_type": "code",
      "metadata": {
        "id": "qEIabNe3TU-l",
        "colab_type": "code",
        "colab": {}
      },
      "source": [
        ""
      ],
      "execution_count": 0,
      "outputs": []
    },
    {
      "cell_type": "code",
      "metadata": {
        "id": "-xcNZ-JwTUxm",
        "colab_type": "code",
        "colab": {}
      },
      "source": [
        ""
      ],
      "execution_count": 0,
      "outputs": []
    },
    {
      "cell_type": "markdown",
      "metadata": {
        "id": "L8JDD_RC1UtX",
        "colab_type": "text"
      },
      "source": [
        "#Building Regression Models"
      ]
    },
    {
      "cell_type": "code",
      "metadata": {
        "id": "gNgYm8jj1hUa",
        "colab_type": "code",
        "outputId": "bed02d34-43fa-445a-fa9f-ee227bfa1806",
        "colab": {
          "base_uri": "https://localhost:8080/",
          "height": 324
        }
      },
      "source": [
        "df.columns"
      ],
      "execution_count": 0,
      "outputs": [
        {
          "output_type": "execute_result",
          "data": {
            "text/plain": [
              "Index(['YEAR', 'QUARTER', 'MONTH', 'DAY_OF_MONTH', 'DAY_OF_WEEK',\n",
              "       'OP_CARRIER_AIRLINE_ID', 'OP_CARRIER_FL_NUM', 'ORIGIN_STATE_FIPS',\n",
              "       'DEST_AIRPORT_ID', 'DEST_AIRPORT_SEQ_ID', 'DEST_CITY_MARKET_ID',\n",
              "       'DEP_TIME_BLK', 'TAXI_OUT', 'WHEELS_OFF', 'WHEELS_ON', 'TAXI_IN',\n",
              "       'CRS_ARR_TIME', 'ARR_TIME', 'ARR_DELAY', 'ARR_DELAY_NEW', 'ARR_DEL15',\n",
              "       'ARR_DELAY_GROUP', 'ARR_TIME_BLK', 'CANCELLED', 'DIVERTED',\n",
              "       'CRS_ELAPSED_TIME', 'ACTUAL_ELAPSED_TIME', 'AIR_TIME', 'DISTANCE',\n",
              "       'DISTANCE_GROUP', 'DIV_AIRPORT_LANDINGS', 'incident_category',\n",
              "       'zulu_time_value', 'wind_direction_value',\n",
              "       'prevailing_visibility_value', 'cloud_coverage_value',\n",
              "       'barometric_pressure_value', 'temp_dewpoint_value',\n",
              "       'OP_UNIQUE_CARRIER_9E', 'OP_UNIQUE_CARRIER_AA', 'OP_UNIQUE_CARRIER_AS',\n",
              "       'OP_UNIQUE_CARRIER_B6', 'OP_UNIQUE_CARRIER_DL', 'OP_UNIQUE_CARRIER_EV',\n",
              "       'OP_UNIQUE_CARRIER_F9', 'OP_UNIQUE_CARRIER_G4', 'OP_UNIQUE_CARRIER_HA',\n",
              "       'OP_UNIQUE_CARRIER_MQ', 'OP_UNIQUE_CARRIER_NK', 'OP_UNIQUE_CARRIER_OH',\n",
              "       'OP_UNIQUE_CARRIER_OO', 'OP_UNIQUE_CARRIER_UA', 'OP_UNIQUE_CARRIER_WN',\n",
              "       'OP_UNIQUE_CARRIER_YV', 'OP_UNIQUE_CARRIER_YX'],\n",
              "      dtype='object')"
            ]
          },
          "metadata": {
            "tags": []
          },
          "execution_count": 118
        }
      ]
    },
    {
      "cell_type": "code",
      "metadata": {
        "id": "d_jspwbV1UbL",
        "colab_type": "code",
        "colab": {}
      },
      "source": [
        "X = df.drop(axis=1,columns=['TAXI_OUT','incident_category','ARR_TIME_BLK','DEP_TIME_BLK',])"
      ],
      "execution_count": 0,
      "outputs": []
    },
    {
      "cell_type": "code",
      "metadata": {
        "id": "yGGnBkiM1UUR",
        "colab_type": "code",
        "colab": {}
      },
      "source": [
        "y = df['TAXI_OUT']"
      ],
      "execution_count": 0,
      "outputs": []
    },
    {
      "cell_type": "code",
      "metadata": {
        "id": "DVKduJamjR7n",
        "colab_type": "code",
        "colab": {}
      },
      "source": [
        "from sklearn import linear_model\n",
        "from sklearn.metrics import mean_squared_error,r2_score"
      ],
      "execution_count": 0,
      "outputs": []
    },
    {
      "cell_type": "code",
      "metadata": {
        "id": "HmcueP_tjR5N",
        "colab_type": "code",
        "colab": {}
      },
      "source": [
        "lin_reg=linear_model.LinearRegression()"
      ],
      "execution_count": 0,
      "outputs": []
    },
    {
      "cell_type": "code",
      "metadata": {
        "id": "FBBcJfyGjR2Z",
        "colab_type": "code",
        "outputId": "082af909-3c1f-4b62-e3e1-ce17405608ab",
        "colab": {
          "base_uri": "https://localhost:8080/",
          "height": 34
        }
      },
      "source": [
        "lin_reg.fit(X_train,y_train)"
      ],
      "execution_count": 0,
      "outputs": [
        {
          "output_type": "execute_result",
          "data": {
            "text/plain": [
              "LinearRegression(copy_X=True, fit_intercept=True, n_jobs=None, normalize=False)"
            ]
          },
          "metadata": {
            "tags": []
          },
          "execution_count": 106
        }
      ]
    },
    {
      "cell_type": "code",
      "metadata": {
        "id": "wc9oxUVpjRx-",
        "colab_type": "code",
        "colab": {}
      },
      "source": [
        "linreg_pred1 = lin_reg.predict(X_test)"
      ],
      "execution_count": 0,
      "outputs": []
    },
    {
      "cell_type": "code",
      "metadata": {
        "id": "AVNoZf4C5uT1",
        "colab_type": "code",
        "colab": {}
      },
      "source": [
        "from sklearn import metrics"
      ],
      "execution_count": 0,
      "outputs": []
    },
    {
      "cell_type": "markdown",
      "metadata": {
        "id": "etQY8KSZ7nYT",
        "colab_type": "text"
      },
      "source": [
        "#Adding Categorical Variables"
      ]
    },
    {
      "cell_type": "code",
      "metadata": {
        "id": "0PCrLv_w7mxR",
        "colab_type": "code",
        "colab": {}
      },
      "source": [
        "X = df.drop(axis=1,columns=['TAXI_OUT','incident_category','ARR_TIME_BLK','DEP_TIME_BLK',])"
      ],
      "execution_count": 0,
      "outputs": []
    },
    {
      "cell_type": "code",
      "metadata": {
        "id": "KGuYDv3_7mt2",
        "colab_type": "code",
        "colab": {}
      },
      "source": [
        "y = df['TAXI_OUT']"
      ],
      "execution_count": 0,
      "outputs": []
    },
    {
      "cell_type": "code",
      "metadata": {
        "id": "Z0EPuimD7mov",
        "colab_type": "code",
        "colab": {}
      },
      "source": [
        "from sklearn import linear_model\n",
        "from sklearn.metrics import mean_squared_error,r2_score"
      ],
      "execution_count": 0,
      "outputs": []
    },
    {
      "cell_type": "code",
      "metadata": {
        "id": "yxkOKb2l2li3",
        "colab_type": "code",
        "colab": {}
      },
      "source": [
        "lin_reg2=linear_model.LinearRegression()"
      ],
      "execution_count": 0,
      "outputs": []
    },
    {
      "cell_type": "code",
      "metadata": {
        "id": "jiq9fUOV2lgE",
        "colab_type": "code",
        "outputId": "bcb4e66b-4ff3-4a6b-c7b1-61e90887e4b3",
        "colab": {
          "base_uri": "https://localhost:8080/",
          "height": 34
        }
      },
      "source": [
        "lin_reg2.fit(X_train,y_train)"
      ],
      "execution_count": 0,
      "outputs": [
        {
          "output_type": "execute_result",
          "data": {
            "text/plain": [
              "LinearRegression(copy_X=True, fit_intercept=True, n_jobs=None, normalize=False)"
            ]
          },
          "metadata": {
            "tags": []
          },
          "execution_count": 112
        }
      ]
    },
    {
      "cell_type": "code",
      "metadata": {
        "id": "0rgmKKtd8Ckq",
        "colab_type": "code",
        "colab": {}
      },
      "source": [
        "linreg_pred2 = lin_reg2.predict(X_test)"
      ],
      "execution_count": 0,
      "outputs": []
    },
    {
      "cell_type": "code",
      "metadata": {
        "id": "__WoOJcs8Chb",
        "colab_type": "code",
        "colab": {}
      },
      "source": [
        "from sklearn import metrics"
      ],
      "execution_count": 0,
      "outputs": []
    },
    {
      "cell_type": "code",
      "metadata": {
        "id": "ynmnhAQw8USM",
        "colab_type": "code",
        "outputId": "4b9e9e5c-665a-4687-d03e-adbc3cb18c0e",
        "colab": {
          "base_uri": "https://localhost:8080/",
          "height": 68
        }
      },
      "source": [
        "print('MAE:', metrics.mean_absolute_error(y_test,linreg_pred2))\n",
        "print('MSE:',metrics.mean_squared_error(y_test,linreg_pred2))\n",
        "print('RMSE:', np.sqrt(metrics.mean_squared_error(y_test,linreg_pred2)))"
      ],
      "execution_count": 0,
      "outputs": [
        {
          "output_type": "stream",
          "text": [
            "MAE: 0.2800852655085925\n",
            "MSE: 2.013717596549448\n",
            "RMSE: 1.4190551774153983\n"
          ],
          "name": "stdout"
        }
      ]
    },
    {
      "cell_type": "code",
      "metadata": {
        "id": "9F5e5Ay28UH4",
        "colab_type": "code",
        "outputId": "63b4026b-1aaf-4510-a8e4-8128ab7b2068",
        "colab": {
          "base_uri": "https://localhost:8080/",
          "height": 296
        }
      },
      "source": [
        "plt.scatter(y_test,linreg_pred2,marker)\n",
        "plt.xlabel('Actual values')\n",
        "plt.ylabel('Predictions')"
      ],
      "execution_count": 0,
      "outputs": [
        {
          "output_type": "execute_result",
          "data": {
            "text/plain": [
              "Text(0, 0.5, 'Predictions')"
            ]
          },
          "metadata": {
            "tags": []
          },
          "execution_count": 144
        },
        {
          "output_type": "display_data",
          "data": {
            "image/png": "[encoded data removed]",
            "text/plain": [
              "<Figure size 432x288 with 1 Axes>"
            ]
          },
          "metadata": {
            "tags": []
          }
        }
      ]
    },
    {
      "cell_type": "code",
      "metadata": {
        "id": "P2It45wG8Cen",
        "colab_type": "code",
        "outputId": "095c0777-ce50-4362-8a6c-046c36436c89",
        "colab": {
          "base_uri": "https://localhost:8080/",
          "height": 281
        }
      },
      "source": [
        "sns.distplot((y_test,linreg_pred2),bins=60)"
      ],
      "execution_count": 0,
      "outputs": [
        {
          "output_type": "execute_result",
          "data": {
            "text/plain": [
              "<matplotlib.axes._subplots.AxesSubplot at 0x7f93cb47ef60>"
            ]
          },
          "metadata": {
            "tags": []
          },
          "execution_count": 117
        },
        {
          "output_type": "display_data",
          "data": {
            "image/png": "[encoded data removed]",
            "text/plain": [
              "<Figure size 432x288 with 1 Axes>"
            ]
          },
          "metadata": {
            "tags": []
          }
        }
      ]
    },
    {
      "cell_type": "code",
      "metadata": {
        "id": "CyG9MEy08CcH",
        "colab_type": "code",
        "colab": {}
      },
      "source": [
        ""
      ],
      "execution_count": 0,
      "outputs": []
    },
    {
      "cell_type": "code",
      "metadata": {
        "id": "kZaM3uSM8CZF",
        "colab_type": "code",
        "colab": {}
      },
      "source": [
        ""
      ],
      "execution_count": 0,
      "outputs": []
    },
    {
      "cell_type": "code",
      "metadata": {
        "id": "SsFPkowG8CWQ",
        "colab_type": "code",
        "colab": {}
      },
      "source": [
        ""
      ],
      "execution_count": 0,
      "outputs": []
    },
    {
      "cell_type": "code",
      "metadata": {
        "id": "c6EpQuHd8CTK",
        "colab_type": "code",
        "colab": {}
      },
      "source": [
        ""
      ],
      "execution_count": 0,
      "outputs": []
    },
    {
      "cell_type": "markdown",
      "metadata": {
        "id": "uIcnoxse4imV",
        "colab_type": "text"
      },
      "source": [
        "#Gradient Boosting Regressor"
      ]
    },
    {
      "cell_type": "code",
      "metadata": {
        "id": "uqRsvLaujRu7",
        "colab_type": "code",
        "colab": {}
      },
      "source": [
        "from sklearn.ensemble import GradientBoostingRegressor"
      ],
      "execution_count": 0,
      "outputs": []
    },
    {
      "cell_type": "code",
      "metadata": {
        "id": "T41eFt-d40ET",
        "colab_type": "code",
        "outputId": "c48baf46-7743-4340-d472-9f0976c7c1e6",
        "colab": {
          "base_uri": "https://localhost:8080/",
          "height": 170
        }
      },
      "source": [
        "regressor = GradientBoostingRegressor(\n",
        "    max_depth=2,\n",
        "    n_estimators=3,\n",
        "    learning_rate=1.0\n",
        ")\n",
        "regressor.fit(X_train, y_train)"
      ],
      "execution_count": 0,
      "outputs": [
        {
          "output_type": "execute_result",
          "data": {
            "text/plain": [
              "GradientBoostingRegressor(alpha=0.9, ccp_alpha=0.0, criterion='friedman_mse',\n",
              "                          init=None, learning_rate=1.0, loss='ls', max_depth=2,\n",
              "                          max_features=None, max_leaf_nodes=None,\n",
              "                          min_impurity_decrease=0.0, min_impurity_split=None,\n",
              "                          min_samples_leaf=1, min_samples_split=2,\n",
              "                          min_weight_fraction_leaf=0.0, n_estimators=3,\n",
              "                          n_iter_no_change=None, presort='deprecated',\n",
              "                          random_state=None, subsample=1.0, tol=0.0001,\n",
              "                          validation_fraction=0.1, verbose=0, warm_start=False)"
            ]
          },
          "metadata": {
            "tags": []
          },
          "execution_count": 119
        }
      ]
    },
    {
      "cell_type": "code",
      "metadata": {
        "id": "htK6rHdy40BZ",
        "colab_type": "code",
        "colab": {}
      },
      "source": [
        "errors = [mean_squared_error(y_test, y_pred) for y_pred in regressor.staged_predict(X_test)]\n",
        "best_n_estimators = np.argmin(errors)"
      ],
      "execution_count": 0,
      "outputs": []
    },
    {
      "cell_type": "code",
      "metadata": {
        "id": "ng9GIRcR4z1V",
        "colab_type": "code",
        "outputId": "fe32a7ce-a36a-47fe-e989-a3eea77562e4",
        "colab": {
          "base_uri": "https://localhost:8080/",
          "height": 170
        }
      },
      "source": [
        "best_regressor = GradientBoostingRegressor(\n",
        "    max_depth=2,\n",
        "    n_estimators=best_n_estimators,\n",
        "    learning_rate=1.0\n",
        ")\n",
        "best_regressor.fit(X_train, y_train)"
      ],
      "execution_count": 0,
      "outputs": [
        {
          "output_type": "execute_result",
          "data": {
            "text/plain": [
              "GradientBoostingRegressor(alpha=0.9, ccp_alpha=0.0, criterion='friedman_mse',\n",
              "                          init=None, learning_rate=1.0, loss='ls', max_depth=2,\n",
              "                          max_features=None, max_leaf_nodes=None,\n",
              "                          min_impurity_decrease=0.0, min_impurity_split=None,\n",
              "                          min_samples_leaf=1, min_samples_split=2,\n",
              "                          min_weight_fraction_leaf=0.0, n_estimators=2,\n",
              "                          n_iter_no_change=None, presort='deprecated',\n",
              "                          random_state=None, subsample=1.0, tol=0.0001,\n",
              "                          validation_fraction=0.1, verbose=0, warm_start=False)"
            ]
          },
          "metadata": {
            "tags": []
          },
          "execution_count": 121
        }
      ]
    },
    {
      "cell_type": "code",
      "metadata": {
        "id": "Lk6ND4u06uAi",
        "colab_type": "code",
        "colab": {}
      },
      "source": [
        "reg_pred = best_regressor.predict(X_test)"
      ],
      "execution_count": 0,
      "outputs": []
    },
    {
      "cell_type": "code",
      "metadata": {
        "id": "BD24fIfc6tzq",
        "colab_type": "code",
        "outputId": "07308e5a-80ca-4ca7-f516-8f7aaeb34a9d",
        "colab": {
          "base_uri": "https://localhost:8080/",
          "height": 68
        }
      },
      "source": [
        "print('MAE:', metrics.mean_absolute_error(y_test,reg_pred))\n",
        "print('MSE:',metrics.mean_squared_error(y_test,reg_pred))\n",
        "print('RMSE:', np.sqrt(metrics.mean_squared_error(y_test,reg_pred)))"
      ],
      "execution_count": 0,
      "outputs": [
        {
          "output_type": "stream",
          "text": [
            "MAE: 5.837721630950049\n",
            "MSE: 80.54245673026466\n",
            "RMSE: 8.974544931653341\n"
          ],
          "name": "stdout"
        }
      ]
    },
    {
      "cell_type": "code",
      "metadata": {
        "id": "WoiWLrwi7QoE",
        "colab_type": "code",
        "outputId": "54485368-9250-4a0e-c770-af934dbd0c8a",
        "colab": {
          "base_uri": "https://localhost:8080/",
          "height": 296
        }
      },
      "source": [
        "plt.scatter(y_test,reg_pred)\n",
        "plt.xlabel('Actual values')\n",
        "plt.ylabel('Predictions')"
      ],
      "execution_count": 0,
      "outputs": [
        {
          "output_type": "execute_result",
          "data": {
            "text/plain": [
              "Text(0, 0.5, 'Predictions')"
            ]
          },
          "metadata": {
            "tags": []
          },
          "execution_count": 124
        },
        {
          "output_type": "display_data",
          "data": {
            "image/png": "[encoded data removed]",
            "text/plain": [
              "<Figure size 432x288 with 1 Axes>"
            ]
          },
          "metadata": {
            "tags": []
          }
        }
      ]
    },
    {
      "cell_type": "code",
      "metadata": {
        "id": "KvRmOznQ7bBw",
        "colab_type": "code",
        "outputId": "5631647f-acb8-4149-ac09-a0e76956310a",
        "colab": {
          "base_uri": "https://localhost:8080/",
          "height": 281
        }
      },
      "source": [
        "sns.distplot((y_test,reg_pred),bins=60)"
      ],
      "execution_count": 0,
      "outputs": [
        {
          "output_type": "execute_result",
          "data": {
            "text/plain": [
              "<matplotlib.axes._subplots.AxesSubplot at 0x7f93cae42438>"
            ]
          },
          "metadata": {
            "tags": []
          },
          "execution_count": 125
        },
        {
          "output_type": "display_data",
          "data": {
            "image/png": "[encoded data removed]",
            "text/plain": [
              "<Figure size 432x288 with 1 Axes>"
            ]
          },
          "metadata": {
            "tags": []
          }
        }
      ]
    },
    {
      "cell_type": "code",
      "metadata": {
        "id": "szrKWfm18gsM",
        "colab_type": "code",
        "colab": {}
      },
      "source": [
        ""
      ],
      "execution_count": 0,
      "outputs": []
    },
    {
      "cell_type": "code",
      "metadata": {
        "id": "QrBftFhI8gmf",
        "colab_type": "code",
        "colab": {}
      },
      "source": [
        "from sklearn.ensemble import GradientBoostingRegressor"
      ],
      "execution_count": 0,
      "outputs": []
    },
    {
      "cell_type": "code",
      "metadata": {
        "id": "BVwU6Hw48n-i",
        "colab_type": "code",
        "outputId": "119a24b4-c840-4503-d391-382778af99f9",
        "colab": {
          "base_uri": "https://localhost:8080/",
          "height": 170
        }
      },
      "source": [
        "regressor2 = GradientBoostingRegressor(\n",
        "    max_depth=2,\n",
        "    n_estimators=3,\n",
        "    learning_rate=1.0\n",
        ")\n",
        "regressor.fit(X_train, y_train)"
      ],
      "execution_count": 0,
      "outputs": [
        {
          "output_type": "execute_result",
          "data": {
            "text/plain": [
              "GradientBoostingRegressor(alpha=0.9, ccp_alpha=0.0, criterion='friedman_mse',\n",
              "                          init=None, learning_rate=1.0, loss='ls', max_depth=2,\n",
              "                          max_features=None, max_leaf_nodes=None,\n",
              "                          min_impurity_decrease=0.0, min_impurity_split=None,\n",
              "                          min_samples_leaf=1, min_samples_split=2,\n",
              "                          min_weight_fraction_leaf=0.0, n_estimators=3,\n",
              "                          n_iter_no_change=None, presort='deprecated',\n",
              "                          random_state=None, subsample=1.0, tol=0.0001,\n",
              "                          validation_fraction=0.1, verbose=0, warm_start=False)"
            ]
          },
          "metadata": {
            "tags": []
          },
          "execution_count": 127
        }
      ]
    },
    {
      "cell_type": "code",
      "metadata": {
        "id": "MZrnWIQy8nzo",
        "colab_type": "code",
        "colab": {}
      },
      "source": [
        "errors = [mean_squared_error(y_test, y_pred) for y_pred in regressor.staged_predict(X_test)]\n",
        "best_n_estimators = np.argmin(errors)"
      ],
      "execution_count": 0,
      "outputs": []
    },
    {
      "cell_type": "code",
      "metadata": {
        "id": "quxCu3bJ8npo",
        "colab_type": "code",
        "outputId": "6f13c43c-a89b-4df8-fbb8-7b939c3cf607",
        "colab": {
          "base_uri": "https://localhost:8080/",
          "height": 170
        }
      },
      "source": [
        "best_regressor = GradientBoostingRegressor(\n",
        "    max_depth=2,\n",
        "    n_estimators=best_n_estimators,\n",
        "    learning_rate=1.0\n",
        ")\n",
        "best_regressor.fit(X_train, y_train)"
      ],
      "execution_count": 0,
      "outputs": [
        {
          "output_type": "execute_result",
          "data": {
            "text/plain": [
              "GradientBoostingRegressor(alpha=0.9, ccp_alpha=0.0, criterion='friedman_mse',\n",
              "                          init=None, learning_rate=1.0, loss='ls', max_depth=2,\n",
              "                          max_features=None, max_leaf_nodes=None,\n",
              "                          min_impurity_decrease=0.0, min_impurity_split=None,\n",
              "                          min_samples_leaf=1, min_samples_split=2,\n",
              "                          min_weight_fraction_leaf=0.0, n_estimators=2,\n",
              "                          n_iter_no_change=None, presort='deprecated',\n",
              "                          random_state=None, subsample=1.0, tol=0.0001,\n",
              "                          validation_fraction=0.1, verbose=0, warm_start=False)"
            ]
          },
          "metadata": {
            "tags": []
          },
          "execution_count": 129
        }
      ]
    },
    {
      "cell_type": "code",
      "metadata": {
        "id": "HCBl7h5D8gdI",
        "colab_type": "code",
        "colab": {}
      },
      "source": [
        "reg_pred2 = best_regressor.predict(X_test)"
      ],
      "execution_count": 0,
      "outputs": []
    },
    {
      "cell_type": "code",
      "metadata": {
        "id": "7HnzWOeU8gXi",
        "colab_type": "code",
        "outputId": "6d14ce9f-1382-40ea-f5f3-41be573b84c5",
        "colab": {
          "base_uri": "https://localhost:8080/",
          "height": 68
        }
      },
      "source": [
        "print('MAE:', metrics.mean_absolute_error(y_test,reg_pred2))\n",
        "print('MSE:',metrics.mean_squared_error(y_test,reg_pred2))\n",
        "print('RMSE:', np.sqrt(metrics.mean_squared_error(y_test,reg_pred2)))"
      ],
      "execution_count": 0,
      "outputs": [
        {
          "output_type": "stream",
          "text": [
            "MAE: 5.837721630951267\n",
            "MSE: 80.54245673028329\n",
            "RMSE: 8.974544931654378\n"
          ],
          "name": "stdout"
        }
      ]
    },
    {
      "cell_type": "code",
      "metadata": {
        "id": "XJmfKJpZ91f7",
        "colab_type": "code",
        "colab": {}
      },
      "source": [
        ""
      ],
      "execution_count": 0,
      "outputs": []
    },
    {
      "cell_type": "code",
      "metadata": {
        "id": "G1xuiy448gSf",
        "colab_type": "code",
        "colab": {}
      },
      "source": [
        ""
      ],
      "execution_count": 0,
      "outputs": []
    },
    {
      "cell_type": "code",
      "metadata": {
        "id": "8P0Kywcm8gL_",
        "colab_type": "code",
        "colab": {}
      },
      "source": [
        ""
      ],
      "execution_count": 0,
      "outputs": []
    },
    {
      "cell_type": "markdown",
      "metadata": {
        "id": "44I_DbxW39N5",
        "colab_type": "text"
      },
      "source": [
        "# Xgboost regressor"
      ]
    },
    {
      "cell_type": "code",
      "metadata": {
        "id": "afersKae4zuS",
        "colab_type": "code",
        "colab": {}
      },
      "source": [
        "import xgboost as xgb"
      ],
      "execution_count": 0,
      "outputs": []
    },
    {
      "cell_type": "code",
      "metadata": {
        "id": "r3AyvIZR4PuF",
        "colab_type": "code",
        "colab": {}
      },
      "source": [
        "xg_reg = xgb.XGBRegressor(objective ='reg:linear', colsample_bytree = 0.3, learning_rate = 0.1,\n",
        "                max_depth = 5, alpha = 10, n_estimators = 10)"
      ],
      "execution_count": 0,
      "outputs": []
    },
    {
      "cell_type": "code",
      "metadata": {
        "id": "6SMx0hUW4Pp2",
        "colab_type": "code",
        "outputId": "63fcd3e6-cffd-4255-cd9d-486c4bc1d8ab",
        "colab": {
          "base_uri": "https://localhost:8080/",
          "height": 224
        }
      },
      "source": [
        "xg_reg.fit(X_train,y_train)"
      ],
      "execution_count": 0,
      "outputs": [
        {
          "output_type": "stream",
          "text": [
            "/usr/local/lib/python3.6/dist-packages/xgboost/core.py:587: FutureWarning: Series.base is deprecated and will be removed in a future version\n",
            "  if getattr(data, 'base', None) is not None and \\\n"
          ],
          "name": "stderr"
        },
        {
          "output_type": "stream",
          "text": [
            "[13:32:53] WARNING: /workspace/src/objective/regression_obj.cu:152: reg:linear is now deprecated in favor of reg:squarederror.\n",
            "[13:32:53] WARNING: /workspace/src/learner.cc:686: Tree method is automatically selected to be 'approx' for faster speed. To use old behavior (exact greedy algorithm on single machine), set tree_method to 'exact'.\n"
          ],
          "name": "stdout"
        },
        {
          "output_type": "execute_result",
          "data": {
            "text/plain": [
              "XGBRegressor(alpha=10, base_score=0.5, booster='gbtree', colsample_bylevel=1,\n",
              "             colsample_bynode=1, colsample_bytree=0.3, gamma=0,\n",
              "             importance_type='gain', learning_rate=0.1, max_delta_step=0,\n",
              "             max_depth=5, min_child_weight=1, missing=None, n_estimators=10,\n",
              "             n_jobs=1, nthread=None, objective='reg:linear', random_state=0,\n",
              "             reg_alpha=0, reg_lambda=1, scale_pos_weight=1, seed=None,\n",
              "             silent=None, subsample=1, verbosity=1)"
            ]
          },
          "metadata": {
            "tags": []
          },
          "execution_count": 134
        }
      ]
    },
    {
      "cell_type": "code",
      "metadata": {
        "id": "s9fjxxcN4Plo",
        "colab_type": "code",
        "colab": {}
      },
      "source": [
        "preds = xg_reg.predict(X_test)"
      ],
      "execution_count": 0,
      "outputs": []
    },
    {
      "cell_type": "code",
      "metadata": {
        "id": "RQdXstvQ4Pic",
        "colab_type": "code",
        "outputId": "b79a56c9-51d8-45d9-b14f-b30464b519b9",
        "colab": {
          "base_uri": "https://localhost:8080/",
          "height": 68
        }
      },
      "source": [
        "print('MAE:', metrics.mean_absolute_error(y_test,preds))\n",
        "print('MSE:',metrics.mean_squared_error(y_test,preds))\n",
        "print('RMSE:', np.sqrt(metrics.mean_squared_error(y_test,preds)))"
      ],
      "execution_count": 0,
      "outputs": [
        {
          "output_type": "stream",
          "text": [
            "MAE: 6.539715592013715\n",
            "MSE: 111.59693275796765\n",
            "RMSE: 10.563944942963667\n"
          ],
          "name": "stdout"
        }
      ]
    },
    {
      "cell_type": "code",
      "metadata": {
        "id": "q7OAxdlL4zrr",
        "colab_type": "code",
        "outputId": "fcf943ed-0a09-4f94-a5e6-77839ba69fb5",
        "colab": {
          "base_uri": "https://localhost:8080/",
          "height": 296
        }
      },
      "source": [
        "plt.scatter(y_test,preds)\n",
        "plt.xlabel('Actual values')\n",
        "plt.ylabel('Predictions')"
      ],
      "execution_count": 0,
      "outputs": [
        {
          "output_type": "execute_result",
          "data": {
            "text/plain": [
              "Text(0, 0.5, 'Predictions')"
            ]
          },
          "metadata": {
            "tags": []
          },
          "execution_count": 137
        },
        {
          "output_type": "display_data",
          "data": {
            "image/png": "[encoded data removed]",
            "text/plain": [
              "<Figure size 432x288 with 1 Axes>"
            ]
          },
          "metadata": {
            "tags": []
          }
        }
      ]
    },
    {
      "cell_type": "code",
      "metadata": {
        "id": "UvXvZIVVjRsD",
        "colab_type": "code",
        "outputId": "4b96b663-043e-4c6a-af01-bd112295b034",
        "colab": {
          "base_uri": "https://localhost:8080/",
          "height": 281
        }
      },
      "source": [
        "sns.distplot((y_test,preds),bins=60)"
      ],
      "execution_count": 0,
      "outputs": [
        {
          "output_type": "execute_result",
          "data": {
            "text/plain": [
              "<matplotlib.axes._subplots.AxesSubplot at 0x7f93c7490400>"
            ]
          },
          "metadata": {
            "tags": []
          },
          "execution_count": 138
        },
        {
          "output_type": "display_data",
          "data": {
            "image/png": "[encoded data removed]",
            "text/plain": [
              "<Figure size 432x288 with 1 Axes>"
            ]
          },
          "metadata": {
            "tags": []
          }
        }
      ]
    },
    {
      "cell_type": "code",
      "metadata": {
        "id": "-14Ktg7T7vxS",
        "colab_type": "code",
        "colab": {}
      },
      "source": [
        ""
      ],
      "execution_count": 0,
      "outputs": []
    }
  ]
}